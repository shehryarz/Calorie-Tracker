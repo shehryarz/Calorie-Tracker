{
  "cells": [
    {
      "cell_type": "code",
      "source": [],
      "metadata": {
        "id": "N1JjNd21KwHS"
      },
      "execution_count": null,
      "outputs": []
    },
    {
      "cell_type": "code",
      "execution_count": null,
      "metadata": {
        "id": "3IFXOcYEYqc7"
      },
      "outputs": [],
      "source": [
        "import numpy as np\n",
        "import glob\n",
        "import pandas as pd\n",
        "import os\n",
        "import cv2\n",
        "import re\n",
        "import plotly.graph_objects as go\n",
        "import plotly.express as px\n",
        "from plotly.subplots import make_subplots\n",
        "from sklearn.utils import shuffle\n",
        "from sklearn.model_selection import train_test_split\n",
        "import plotly.figure_factory as ff\n",
        "from sklearn.preprocessing import StandardScaler\n",
        "from sklearn.metrics import mean_squared_error\n",
        "from math import sqrt\n",
        "import datetime, os\n",
        "from sklearn.metrics import confusion_matrix\n",
        "import seaborn as sn\n",
        "from sklearn.metrics import classification_report\n",
        "import matplotlib.pyplot as plt\n",
        "import matplotlib.pyplot\n",
        "import tensorflow as tf\n",
        "from tensorflow import keras\n",
        "from tensorflow.keras.optimizers import Adam, SGD\n",
        "from tensorflow.keras import layers, models\n",
        "from tensorflow.keras.models import Sequential\n",
        "from tensorflow.keras.utils import to_categorical\n",
        "from sklearn.preprocessing import LabelEncoder\n",
        "from tensorflow.keras.models import Model\n",
        "from tensorflow.keras import Input\n",
        "from tensorflow.keras.callbacks import EarlyStopping,ModelCheckpoint\n",
        "from keras.callbacks import LearningRateScheduler"
      ]
    },
    {
      "cell_type": "markdown",
      "metadata": {
        "id": "_OXtLcAMOs7b"
      },
      "source": [
        "  IMAGE CLASSIFICATION"
      ]
    },
    {
      "cell_type": "code",
      "execution_count": null,
      "metadata": {
        "colab": {
          "base_uri": "https://localhost:8080/"
        },
        "id": "J-0V5B2OzZhJ",
        "outputId": "66532b88-adf2-4e2f-ee1c-de5d880a3201"
      },
      "outputs": [
        {
          "output_type": "stream",
          "name": "stdout",
          "text": [
            "Mounted at /content/drive/\n"
          ]
        }
      ],
      "source": [
        "from google.colab import drive\n",
        "drive.mount('/content/drive/')"
      ]
    },
    {
      "cell_type": "code",
      "execution_count": null,
      "metadata": {
        "id": "_LE5g6z8iSpE"
      },
      "outputs": [],
      "source": [
        "def visualize(image):\n",
        "    fig = go.Figure(go.Image(z=image))\n",
        "    fig.update_layout(width=300, height=300, margin=dict(l=10, r=10, b=10, t=10))\n",
        "    fig.show(renderer=\"notebook\")"
      ]
    },
    {
      "cell_type": "code",
      "execution_count": null,
      "metadata": {
        "id": "s7aNgOkbiTqA"
      },
      "outputs": [],
      "source": [
        "def load_imgs(folder, dims):\n",
        "    images = []\n",
        "    path = []\n",
        "    labels = []\n",
        "    sample_nrs = []\n",
        "    img_types = []\n",
        "    sample_names = []\n",
        "    for filename in os.listdir(folder):\n",
        "        img = cv2.imread(os.path.join(folder,filename))\n",
        "        if img is not None:\n",
        "            img_torgb = cv2.cvtColor(img, cv2.COLOR_BGR2RGB)\n",
        "            img_resized = cv2.resize(img_torgb, dims)\n",
        "            tmp = filename.split('.')[0]\n",
        "            label = re.split('(\\d+)',tmp)[0]\n",
        "            sample_name = re.split(\"([A-Z][^A-Z]*)\", label)[0]\n",
        "            if label == 'mix': continue\n",
        "            sample_nr = re.split('(\\d+)',tmp)[1]\n",
        "            img_type = re.split('(\\d+)',tmp)[2][0]\n",
        "            images.append(img_resized) \n",
        "            path.append(os.path.join(folder,filename))\n",
        "            labels.append(label)\n",
        "            sample_nrs.append(sample_nr)\n",
        "            img_types.append(img_type)\n",
        "            sample_names.append(sample_name)\n",
        "    return images,path,labels,sample_nrs,img_types,sample_names"
      ]
    },
    {
      "cell_type": "code",
      "execution_count": null,
      "metadata": {
        "colab": {
          "base_uri": "https://localhost:8080/"
        },
        "id": "b6pWf9iDim0V",
        "outputId": "95ff591a-79e9-47b0-93fc-67ddbf2e4202"
      },
      "outputs": [
        {
          "output_type": "stream",
          "name": "stdout",
          "text": [
            "CPU times: user 17.8 s, sys: 1.78 s, total: 19.6 s\n",
            "Wall time: 1min 11s\n"
          ]
        }
      ],
      "source": [
        "%%time\n",
        "folder = '/content/drive/MyDrive/FOOD/'\n",
        "dims = (128,128)\n",
        "images, path, labels, sample_nrs, img_types,sample_names = load_imgs(folder,dims)\n",
        "food_df = pd.DataFrame()\n",
        "food_df['labels'] = labels\n",
        "food_df['path'] = path\n",
        "food_df['sample_nrs'] = sample_nrs\n",
        "food_df['img_types'] = img_types\n",
        "food_df['sample_names'] = sample_names\n",
        "food_df['sample_names_nrs'] = food_df['sample_names'] + food_df['sample_nrs']\n",
        "food_df['weight'] = 0"
      ]
    },
    {
      "cell_type": "code",
      "execution_count": null,
      "metadata": {
        "id": "RJhum9fnjCAF"
      },
      "outputs": [],
      "source": [
        "density_df = pd.read_excel('/content/drive/MyDrive/density.xls',sheet_name=None)"
      ]
    },
    {
      "cell_type": "code",
      "execution_count": null,
      "metadata": {
        "id": "kSSTq2hFlqcP"
      },
      "outputs": [],
      "source": [
        "for index, row in food_df.iterrows():\n",
        "    sample_name_nr = row[\"sample_names_nrs\"]\n",
        "    sample_name = row['sample_names']\n",
        "    tmp = density_df[sample_name]\n",
        "    tmp = tmp[tmp['id']==sample_name_nr]\n",
        "    weight = tmp['weight(g)']\n",
        "    food_df.loc[index,'weight'] = float(weight)"
      ]
    },
    {
      "cell_type": "code",
      "execution_count": null,
      "metadata": {
        "colab": {
          "base_uri": "https://localhost:8080/",
          "height": 487
        },
        "id": "8V0UV6i-lr8g",
        "outputId": "c75b15f9-2ee1-472f-8f26-a8501b76de02"
      },
      "outputs": [
        {
          "output_type": "execute_result",
          "data": {
            "text/plain": [
              "                 labels                                               path  \\\n",
              "0                 lemon      /content/drive/MyDrive/FOOD/lemon001T(11).JPG   \n",
              "1                orange     /content/drive/MyDrive/FOOD/orange008S(10).JPG   \n",
              "2                 apple       /content/drive/MyDrive/FOOD/apple008T(1).JPG   \n",
              "3                  pear       /content/drive/MyDrive/FOOD/pear003S(12).JPG   \n",
              "4              mooncake    /content/drive/MyDrive/FOOD/mooncake002T(4).JPG   \n",
              "...                 ...                                                ...   \n",
              "2865               qiwi        /content/drive/MyDrive/FOOD/qiwi005S(5).JPG   \n",
              "2866              apple      /content/drive/MyDrive/FOOD/apple016T(12).JPG   \n",
              "2867           mooncake   /content/drive/MyDrive/FOOD/mooncake001S(12).JPG   \n",
              "2868  fired_dough_twist  /content/drive/MyDrive/FOOD/fired_dough_twist0...   \n",
              "2869                egg         /content/drive/MyDrive/FOOD/egg002T(3).JPG   \n",
              "\n",
              "     sample_nrs img_types       sample_names      sample_names_nrs  weight  \n",
              "0           001         T              lemon              lemon001    94.2  \n",
              "1           008         S             orange             orange008   232.5  \n",
              "2           008         T              apple              apple008   238.0  \n",
              "3           003         S               pear               pear003   280.0  \n",
              "4           002         T           mooncake           mooncake002    43.8  \n",
              "...         ...       ...                ...                   ...     ...  \n",
              "2865        005         S               qiwi               qiwi005   196.0  \n",
              "2866        016         T              apple              apple016   272.5  \n",
              "2867        001         S           mooncake           mooncake001    39.9  \n",
              "2868        002         S  fired_dough_twist  fired_dough_twist002    45.9  \n",
              "2869        002         T                egg                egg002    62.0  \n",
              "\n",
              "[2870 rows x 7 columns]"
            ],
            "text/html": [
              "\n",
              "  <div id=\"df-bdc27b62-8a60-4b72-8615-74a160ff2ede\">\n",
              "    <div class=\"colab-df-container\">\n",
              "      <div>\n",
              "<style scoped>\n",
              "    .dataframe tbody tr th:only-of-type {\n",
              "        vertical-align: middle;\n",
              "    }\n",
              "\n",
              "    .dataframe tbody tr th {\n",
              "        vertical-align: top;\n",
              "    }\n",
              "\n",
              "    .dataframe thead th {\n",
              "        text-align: right;\n",
              "    }\n",
              "</style>\n",
              "<table border=\"1\" class=\"dataframe\">\n",
              "  <thead>\n",
              "    <tr style=\"text-align: right;\">\n",
              "      <th></th>\n",
              "      <th>labels</th>\n",
              "      <th>path</th>\n",
              "      <th>sample_nrs</th>\n",
              "      <th>img_types</th>\n",
              "      <th>sample_names</th>\n",
              "      <th>sample_names_nrs</th>\n",
              "      <th>weight</th>\n",
              "    </tr>\n",
              "  </thead>\n",
              "  <tbody>\n",
              "    <tr>\n",
              "      <th>0</th>\n",
              "      <td>lemon</td>\n",
              "      <td>/content/drive/MyDrive/FOOD/lemon001T(11).JPG</td>\n",
              "      <td>001</td>\n",
              "      <td>T</td>\n",
              "      <td>lemon</td>\n",
              "      <td>lemon001</td>\n",
              "      <td>94.2</td>\n",
              "    </tr>\n",
              "    <tr>\n",
              "      <th>1</th>\n",
              "      <td>orange</td>\n",
              "      <td>/content/drive/MyDrive/FOOD/orange008S(10).JPG</td>\n",
              "      <td>008</td>\n",
              "      <td>S</td>\n",
              "      <td>orange</td>\n",
              "      <td>orange008</td>\n",
              "      <td>232.5</td>\n",
              "    </tr>\n",
              "    <tr>\n",
              "      <th>2</th>\n",
              "      <td>apple</td>\n",
              "      <td>/content/drive/MyDrive/FOOD/apple008T(1).JPG</td>\n",
              "      <td>008</td>\n",
              "      <td>T</td>\n",
              "      <td>apple</td>\n",
              "      <td>apple008</td>\n",
              "      <td>238.0</td>\n",
              "    </tr>\n",
              "    <tr>\n",
              "      <th>3</th>\n",
              "      <td>pear</td>\n",
              "      <td>/content/drive/MyDrive/FOOD/pear003S(12).JPG</td>\n",
              "      <td>003</td>\n",
              "      <td>S</td>\n",
              "      <td>pear</td>\n",
              "      <td>pear003</td>\n",
              "      <td>280.0</td>\n",
              "    </tr>\n",
              "    <tr>\n",
              "      <th>4</th>\n",
              "      <td>mooncake</td>\n",
              "      <td>/content/drive/MyDrive/FOOD/mooncake002T(4).JPG</td>\n",
              "      <td>002</td>\n",
              "      <td>T</td>\n",
              "      <td>mooncake</td>\n",
              "      <td>mooncake002</td>\n",
              "      <td>43.8</td>\n",
              "    </tr>\n",
              "    <tr>\n",
              "      <th>...</th>\n",
              "      <td>...</td>\n",
              "      <td>...</td>\n",
              "      <td>...</td>\n",
              "      <td>...</td>\n",
              "      <td>...</td>\n",
              "      <td>...</td>\n",
              "      <td>...</td>\n",
              "    </tr>\n",
              "    <tr>\n",
              "      <th>2865</th>\n",
              "      <td>qiwi</td>\n",
              "      <td>/content/drive/MyDrive/FOOD/qiwi005S(5).JPG</td>\n",
              "      <td>005</td>\n",
              "      <td>S</td>\n",
              "      <td>qiwi</td>\n",
              "      <td>qiwi005</td>\n",
              "      <td>196.0</td>\n",
              "    </tr>\n",
              "    <tr>\n",
              "      <th>2866</th>\n",
              "      <td>apple</td>\n",
              "      <td>/content/drive/MyDrive/FOOD/apple016T(12).JPG</td>\n",
              "      <td>016</td>\n",
              "      <td>T</td>\n",
              "      <td>apple</td>\n",
              "      <td>apple016</td>\n",
              "      <td>272.5</td>\n",
              "    </tr>\n",
              "    <tr>\n",
              "      <th>2867</th>\n",
              "      <td>mooncake</td>\n",
              "      <td>/content/drive/MyDrive/FOOD/mooncake001S(12).JPG</td>\n",
              "      <td>001</td>\n",
              "      <td>S</td>\n",
              "      <td>mooncake</td>\n",
              "      <td>mooncake001</td>\n",
              "      <td>39.9</td>\n",
              "    </tr>\n",
              "    <tr>\n",
              "      <th>2868</th>\n",
              "      <td>fired_dough_twist</td>\n",
              "      <td>/content/drive/MyDrive/FOOD/fired_dough_twist0...</td>\n",
              "      <td>002</td>\n",
              "      <td>S</td>\n",
              "      <td>fired_dough_twist</td>\n",
              "      <td>fired_dough_twist002</td>\n",
              "      <td>45.9</td>\n",
              "    </tr>\n",
              "    <tr>\n",
              "      <th>2869</th>\n",
              "      <td>egg</td>\n",
              "      <td>/content/drive/MyDrive/FOOD/egg002T(3).JPG</td>\n",
              "      <td>002</td>\n",
              "      <td>T</td>\n",
              "      <td>egg</td>\n",
              "      <td>egg002</td>\n",
              "      <td>62.0</td>\n",
              "    </tr>\n",
              "  </tbody>\n",
              "</table>\n",
              "<p>2870 rows × 7 columns</p>\n",
              "</div>\n",
              "      <button class=\"colab-df-convert\" onclick=\"convertToInteractive('df-bdc27b62-8a60-4b72-8615-74a160ff2ede')\"\n",
              "              title=\"Convert this dataframe to an interactive table.\"\n",
              "              style=\"display:none;\">\n",
              "        \n",
              "  <svg xmlns=\"http://www.w3.org/2000/svg\" height=\"24px\"viewBox=\"0 0 24 24\"\n",
              "       width=\"24px\">\n",
              "    <path d=\"M0 0h24v24H0V0z\" fill=\"none\"/>\n",
              "    <path d=\"M18.56 5.44l.94 2.06.94-2.06 2.06-.94-2.06-.94-.94-2.06-.94 2.06-2.06.94zm-11 1L8.5 8.5l.94-2.06 2.06-.94-2.06-.94L8.5 2.5l-.94 2.06-2.06.94zm10 10l.94 2.06.94-2.06 2.06-.94-2.06-.94-.94-2.06-.94 2.06-2.06.94z\"/><path d=\"M17.41 7.96l-1.37-1.37c-.4-.4-.92-.59-1.43-.59-.52 0-1.04.2-1.43.59L10.3 9.45l-7.72 7.72c-.78.78-.78 2.05 0 2.83L4 21.41c.39.39.9.59 1.41.59.51 0 1.02-.2 1.41-.59l7.78-7.78 2.81-2.81c.8-.78.8-2.07 0-2.86zM5.41 20L4 18.59l7.72-7.72 1.47 1.35L5.41 20z\"/>\n",
              "  </svg>\n",
              "      </button>\n",
              "      \n",
              "  <style>\n",
              "    .colab-df-container {\n",
              "      display:flex;\n",
              "      flex-wrap:wrap;\n",
              "      gap: 12px;\n",
              "    }\n",
              "\n",
              "    .colab-df-convert {\n",
              "      background-color: #E8F0FE;\n",
              "      border: none;\n",
              "      border-radius: 50%;\n",
              "      cursor: pointer;\n",
              "      display: none;\n",
              "      fill: #1967D2;\n",
              "      height: 32px;\n",
              "      padding: 0 0 0 0;\n",
              "      width: 32px;\n",
              "    }\n",
              "\n",
              "    .colab-df-convert:hover {\n",
              "      background-color: #E2EBFA;\n",
              "      box-shadow: 0px 1px 2px rgba(60, 64, 67, 0.3), 0px 1px 3px 1px rgba(60, 64, 67, 0.15);\n",
              "      fill: #174EA6;\n",
              "    }\n",
              "\n",
              "    [theme=dark] .colab-df-convert {\n",
              "      background-color: #3B4455;\n",
              "      fill: #D2E3FC;\n",
              "    }\n",
              "\n",
              "    [theme=dark] .colab-df-convert:hover {\n",
              "      background-color: #434B5C;\n",
              "      box-shadow: 0px 1px 3px 1px rgba(0, 0, 0, 0.15);\n",
              "      filter: drop-shadow(0px 1px 2px rgba(0, 0, 0, 0.3));\n",
              "      fill: #FFFFFF;\n",
              "    }\n",
              "  </style>\n",
              "\n",
              "      <script>\n",
              "        const buttonEl =\n",
              "          document.querySelector('#df-bdc27b62-8a60-4b72-8615-74a160ff2ede button.colab-df-convert');\n",
              "        buttonEl.style.display =\n",
              "          google.colab.kernel.accessAllowed ? 'block' : 'none';\n",
              "\n",
              "        async function convertToInteractive(key) {\n",
              "          const element = document.querySelector('#df-bdc27b62-8a60-4b72-8615-74a160ff2ede');\n",
              "          const dataTable =\n",
              "            await google.colab.kernel.invokeFunction('convertToInteractive',\n",
              "                                                     [key], {});\n",
              "          if (!dataTable) return;\n",
              "\n",
              "          const docLinkHtml = 'Like what you see? Visit the ' +\n",
              "            '<a target=\"_blank\" href=https://colab.research.google.com/notebooks/data_table.ipynb>data table notebook</a>'\n",
              "            + ' to learn more about interactive tables.';\n",
              "          element.innerHTML = '';\n",
              "          dataTable['output_type'] = 'display_data';\n",
              "          await google.colab.output.renderOutput(dataTable, element);\n",
              "          const docLink = document.createElement('div');\n",
              "          docLink.innerHTML = docLinkHtml;\n",
              "          element.appendChild(docLink);\n",
              "        }\n",
              "      </script>\n",
              "    </div>\n",
              "  </div>\n",
              "  "
            ]
          },
          "metadata": {},
          "execution_count": 8
        }
      ],
      "source": [
        "food_df"
      ]
    },
    {
      "cell_type": "code",
      "execution_count": null,
      "metadata": {
        "colab": {
          "base_uri": "https://localhost:8080/",
          "height": 560
        },
        "id": "yKAyoO_kdfFI",
        "outputId": "ca5f35e3-afbb-46bd-b408-fca0673c2270"
      },
      "outputs": [
        {
          "output_type": "stream",
          "name": "stdout",
          "text": [
            "(128, 128, 3)\n"
          ]
        },
        {
          "output_type": "display_data",
          "data": {
            "text/html": [
              "<html>\n",
              "<head><meta charset=\"utf-8\" /></head>\n",
              "<body>\n",
              "    <div>            <script src=\"https://cdnjs.cloudflare.com/ajax/libs/mathjax/2.7.5/MathJax.js?config=TeX-AMS-MML_SVG\"></script><script type=\"text/javascript\">if (window.MathJax && window.MathJax.Hub && window.MathJax.Hub.Config) {window.MathJax.Hub.Config({SVG: {font: \"STIX-Web\"}});}</script>                <script type=\"text/javascript\">window.PlotlyConfig = {MathJaxConfig: 'local'};</script>\n",
              "        <script src=\"https://cdn.plot.ly/plotly-2.18.2.min.js\"></script>                <div id=\"f65f896b-40c1-41ec-92dd-b86a3f9e86b2\" class=\"plotly-graph-div\" style=\"height:525px; width:100%;\"></div>            <script type=\"text/javascript\">                                    window.PLOTLYENV=window.PLOTLYENV || {};                                    if (document.getElementById(\"f65f896b-40c1-41ec-92dd-b86a3f9e86b2\")) {                    Plotly.newPlot(                        \"f65f896b-40c1-41ec-92dd-b86a3f9e86b2\",                        [{\"name\":\"0\",\"source\":\"data:image/png;base64,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\",\"type\":\"image\",\"xaxis\":\"x\",\"yaxis\":\"y\",\"hovertemplate\":\"x: %{x}<br>y: %{y}<br>color: [%{z[0]}, %{z[1]}, %{z[2]}]<extra></extra>\"}],                        {\"template\":{\"data\":{\"histogram2dcontour\":[{\"type\":\"histogram2dcontour\",\"colorbar\":{\"outlinewidth\":0,\"ticks\":\"\"},\"colorscale\":[[0.0,\"#0d0887\"],[0.1111111111111111,\"#46039f\"],[0.2222222222222222,\"#7201a8\"],[0.3333333333333333,\"#9c179e\"],[0.4444444444444444,\"#bd3786\"],[0.5555555555555556,\"#d8576b\"],[0.6666666666666666,\"#ed7953\"],[0.7777777777777778,\"#fb9f3a\"],[0.8888888888888888,\"#fdca26\"],[1.0,\"#f0f921\"]]}],\"choropleth\":[{\"type\":\"choropleth\",\"colorbar\":{\"outlinewidth\":0,\"ticks\":\"\"}}],\"histogram2d\":[{\"type\":\"histogram2d\",\"colorbar\":{\"outlinewidth\":0,\"ticks\":\"\"},\"colorscale\":[[0.0,\"#0d0887\"],[0.1111111111111111,\"#46039f\"],[0.2222222222222222,\"#7201a8\"],[0.3333333333333333,\"#9c179e\"],[0.4444444444444444,\"#bd3786\"],[0.5555555555555556,\"#d8576b\"],[0.6666666666666666,\"#ed7953\"],[0.7777777777777778,\"#fb9f3a\"],[0.8888888888888888,\"#fdca26\"],[1.0,\"#f0f921\"]]}],\"heatmap\":[{\"type\":\"heatmap\",\"colorbar\":{\"outlinewidth\":0,\"ticks\":\"\"},\"colorscale\":[[0.0,\"#0d0887\"],[0.1111111111111111,\"#46039f\"],[0.2222222222222222,\"#7201a8\"],[0.3333333333333333,\"#9c179e\"],[0.4444444444444444,\"#bd3786\"],[0.5555555555555556,\"#d8576b\"],[0.6666666666666666,\"#ed7953\"],[0.7777777777777778,\"#fb9f3a\"],[0.8888888888888888,\"#fdca26\"],[1.0,\"#f0f921\"]]}],\"heatmapgl\":[{\"type\":\"heatmapgl\",\"colorbar\":{\"outlinewidth\":0,\"ticks\":\"\"},\"colorscale\":[[0.0,\"#0d0887\"],[0.1111111111111111,\"#46039f\"],[0.2222222222222222,\"#7201a8\"],[0.3333333333333333,\"#9c179e\"],[0.4444444444444444,\"#bd3786\"],[0.5555555555555556,\"#d8576b\"],[0.6666666666666666,\"#ed7953\"],[0.7777777777777778,\"#fb9f3a\"],[0.8888888888888888,\"#fdca26\"],[1.0,\"#f0f921\"]]}],\"contourcarpet\":[{\"type\":\"contourcarpet\",\"colorbar\":{\"outlinewidth\":0,\"ticks\":\"\"}}],\"contour\":[{\"type\":\"contour\",\"colorbar\":{\"outlinewidth\":0,\"ticks\":\"\"},\"colorscale\":[[0.0,\"#0d0887\"],[0.1111111111111111,\"#46039f\"],[0.2222222222222222,\"#7201a8\"],[0.3333333333333333,\"#9c179e\"],[0.4444444444444444,\"#bd3786\"],[0.5555555555555556,\"#d8576b\"],[0.6666666666666666,\"#ed7953\"],[0.7777777777777778,\"#fb9f3a\"],[0.8888888888888888,\"#fdca26\"],[1.0,\"#f0f921\"]]}],\"surface\":[{\"type\":\"surface\",\"colorbar\":{\"outlinewidth\":0,\"ticks\":\"\"},\"colorscale\":[[0.0,\"#0d0887\"],[0.1111111111111111,\"#46039f\"],[0.2222222222222222,\"#7201a8\"],[0.3333333333333333,\"#9c179e\"],[0.4444444444444444,\"#bd3786\"],[0.5555555555555556,\"#d8576b\"],[0.6666666666666666,\"#ed7953\"],[0.7777777777777778,\"#fb9f3a\"],[0.8888888888888888,\"#fdca26\"],[1.0,\"#f0f921\"]]}],\"mesh3d\":[{\"type\":\"mesh3d\",\"colorbar\":{\"outlinewidth\":0,\"ticks\":\"\"}}],\"scatter\":[{\"fillpattern\":{\"fillmode\":\"overlay\",\"size\":10,\"solidity\":0.2},\"type\":\"scatter\"}],\"parcoords\":[{\"type\":\"parcoords\",\"line\":{\"colorbar\":{\"outlinewidth\":0,\"ticks\":\"\"}}}],\"scatterpolargl\":[{\"type\":\"scatterpolargl\",\"marker\":{\"colorbar\":{\"outlinewidth\":0,\"ticks\":\"\"}}}],\"bar\":[{\"error_x\":{\"color\":\"#2a3f5f\"},\"error_y\":{\"color\":\"#2a3f5f\"},\"marker\":{\"line\":{\"color\":\"#E5ECF6\",\"width\":0.5},\"pattern\":{\"fillmode\":\"overlay\",\"size\":10,\"solidity\":0.2}},\"type\":\"bar\"}],\"scattergeo\":[{\"type\":\"scattergeo\",\"marker\":{\"colorbar\":{\"outlinewidth\":0,\"ticks\":\"\"}}}],\"scatterpolar\":[{\"type\":\"scatterpolar\",\"marker\":{\"colorbar\":{\"outlinewidth\":0,\"ticks\":\"\"}}}],\"histogram\":[{\"marker\":{\"pattern\":{\"fillmode\":\"overlay\",\"size\":10,\"solidity\":0.2}},\"type\":\"histogram\"}],\"scattergl\":[{\"type\":\"scattergl\",\"marker\":{\"colorbar\":{\"outlinewidth\":0,\"ticks\":\"\"}}}],\"scatter3d\":[{\"type\":\"scatter3d\",\"line\":{\"colorbar\":{\"outlinewidth\":0,\"ticks\":\"\"}},\"marker\":{\"colorbar\":{\"outlinewidth\":0,\"ticks\":\"\"}}}],\"scattermapbox\":[{\"type\":\"scattermapbox\",\"marker\":{\"colorbar\":{\"outlinewidth\":0,\"ticks\":\"\"}}}],\"scatterternary\":[{\"type\":\"scatterternary\",\"marker\":{\"colorbar\":{\"outlinewidth\":0,\"ticks\":\"\"}}}],\"scattercarpet\":[{\"type\":\"scattercarpet\",\"marker\":{\"colorbar\":{\"outlinewidth\":0,\"ticks\":\"\"}}}],\"carpet\":[{\"aaxis\":{\"endlinecolor\":\"#2a3f5f\",\"gridcolor\":\"white\",\"linecolor\":\"white\",\"minorgridcolor\":\"white\",\"startlinecolor\":\"#2a3f5f\"},\"baxis\":{\"endlinecolor\":\"#2a3f5f\",\"gridcolor\":\"white\",\"linecolor\":\"white\",\"minorgridcolor\":\"white\",\"startlinecolor\":\"#2a3f5f\"},\"type\":\"carpet\"}],\"table\":[{\"cells\":{\"fill\":{\"color\":\"#EBF0F8\"},\"line\":{\"color\":\"white\"}},\"header\":{\"fill\":{\"color\":\"#C8D4E3\"},\"line\":{\"color\":\"white\"}},\"type\":\"table\"}],\"barpolar\":[{\"marker\":{\"line\":{\"color\":\"#E5ECF6\",\"width\":0.5},\"pattern\":{\"fillmode\":\"overlay\",\"size\":10,\"solidity\":0.2}},\"type\":\"barpolar\"}],\"pie\":[{\"automargin\":true,\"type\":\"pie\"}]},\"layout\":{\"autotypenumbers\":\"strict\",\"colorway\":[\"#636efa\",\"#EF553B\",\"#00cc96\",\"#ab63fa\",\"#FFA15A\",\"#19d3f3\",\"#FF6692\",\"#B6E880\",\"#FF97FF\",\"#FECB52\"],\"font\":{\"color\":\"#2a3f5f\"},\"hovermode\":\"closest\",\"hoverlabel\":{\"align\":\"left\"},\"paper_bgcolor\":\"white\",\"plot_bgcolor\":\"#E5ECF6\",\"polar\":{\"bgcolor\":\"#E5ECF6\",\"angularaxis\":{\"gridcolor\":\"white\",\"linecolor\":\"white\",\"ticks\":\"\"},\"radialaxis\":{\"gridcolor\":\"white\",\"linecolor\":\"white\",\"ticks\":\"\"}},\"ternary\":{\"bgcolor\":\"#E5ECF6\",\"aaxis\":{\"gridcolor\":\"white\",\"linecolor\":\"white\",\"ticks\":\"\"},\"baxis\":{\"gridcolor\":\"white\",\"linecolor\":\"white\",\"ticks\":\"\"},\"caxis\":{\"gridcolor\":\"white\",\"linecolor\":\"white\",\"ticks\":\"\"}},\"coloraxis\":{\"colorbar\":{\"outlinewidth\":0,\"ticks\":\"\"}},\"colorscale\":{\"sequential\":[[0.0,\"#0d0887\"],[0.1111111111111111,\"#46039f\"],[0.2222222222222222,\"#7201a8\"],[0.3333333333333333,\"#9c179e\"],[0.4444444444444444,\"#bd3786\"],[0.5555555555555556,\"#d8576b\"],[0.6666666666666666,\"#ed7953\"],[0.7777777777777778,\"#fb9f3a\"],[0.8888888888888888,\"#fdca26\"],[1.0,\"#f0f921\"]],\"sequentialminus\":[[0.0,\"#0d0887\"],[0.1111111111111111,\"#46039f\"],[0.2222222222222222,\"#7201a8\"],[0.3333333333333333,\"#9c179e\"],[0.4444444444444444,\"#bd3786\"],[0.5555555555555556,\"#d8576b\"],[0.6666666666666666,\"#ed7953\"],[0.7777777777777778,\"#fb9f3a\"],[0.8888888888888888,\"#fdca26\"],[1.0,\"#f0f921\"]],\"diverging\":[[0,\"#8e0152\"],[0.1,\"#c51b7d\"],[0.2,\"#de77ae\"],[0.3,\"#f1b6da\"],[0.4,\"#fde0ef\"],[0.5,\"#f7f7f7\"],[0.6,\"#e6f5d0\"],[0.7,\"#b8e186\"],[0.8,\"#7fbc41\"],[0.9,\"#4d9221\"],[1,\"#276419\"]]},\"xaxis\":{\"gridcolor\":\"white\",\"linecolor\":\"white\",\"ticks\":\"\",\"title\":{\"standoff\":15},\"zerolinecolor\":\"white\",\"automargin\":true,\"zerolinewidth\":2},\"yaxis\":{\"gridcolor\":\"white\",\"linecolor\":\"white\",\"ticks\":\"\",\"title\":{\"standoff\":15},\"zerolinecolor\":\"white\",\"automargin\":true,\"zerolinewidth\":2},\"scene\":{\"xaxis\":{\"backgroundcolor\":\"#E5ECF6\",\"gridcolor\":\"white\",\"linecolor\":\"white\",\"showbackground\":true,\"ticks\":\"\",\"zerolinecolor\":\"white\",\"gridwidth\":2},\"yaxis\":{\"backgroundcolor\":\"#E5ECF6\",\"gridcolor\":\"white\",\"linecolor\":\"white\",\"showbackground\":true,\"ticks\":\"\",\"zerolinecolor\":\"white\",\"gridwidth\":2},\"zaxis\":{\"backgroundcolor\":\"#E5ECF6\",\"gridcolor\":\"white\",\"linecolor\":\"white\",\"showbackground\":true,\"ticks\":\"\",\"zerolinecolor\":\"white\",\"gridwidth\":2}},\"shapedefaults\":{\"line\":{\"color\":\"#2a3f5f\"}},\"annotationdefaults\":{\"arrowcolor\":\"#2a3f5f\",\"arrowhead\":0,\"arrowwidth\":1},\"geo\":{\"bgcolor\":\"white\",\"landcolor\":\"#E5ECF6\",\"subunitcolor\":\"white\",\"showland\":true,\"showlakes\":true,\"lakecolor\":\"white\"},\"title\":{\"x\":0.05},\"mapbox\":{\"style\":\"light\"}}},\"xaxis\":{\"anchor\":\"y\",\"domain\":[0.0,1.0]},\"yaxis\":{\"anchor\":\"x\",\"domain\":[0.0,1.0]},\"margin\":{\"t\":60},\"title\":{\"text\":\"mango\"}},                        {\"responsive\": true}                    ).then(function(){\n",
              "                            \n",
              "var gd = document.getElementById('f65f896b-40c1-41ec-92dd-b86a3f9e86b2');\n",
              "var x = new MutationObserver(function (mutations, observer) {{\n",
              "        var display = window.getComputedStyle(gd).display;\n",
              "        if (!display || display === 'none') {{\n",
              "            console.log([gd, 'removed!']);\n",
              "            Plotly.purge(gd);\n",
              "            observer.disconnect();\n",
              "        }}\n",
              "}});\n",
              "\n",
              "// Listen for the removal of the full notebook cells\n",
              "var notebookContainer = gd.closest('#notebook-container');\n",
              "if (notebookContainer) {{\n",
              "    x.observe(notebookContainer, {childList: true});\n",
              "}}\n",
              "\n",
              "// Listen for the clearing of the current output cell\n",
              "var outputEl = gd.closest('.output');\n",
              "if (outputEl) {{\n",
              "    x.observe(outputEl, {childList: true});\n",
              "}}\n",
              "\n",
              "                        })                };                            </script>        </div>\n",
              "</body>\n",
              "</html>"
            ]
          },
          "metadata": {}
        }
      ],
      "source": [
        "def show_img(img, label):\n",
        "    fig = px.imshow(img)\n",
        "    fig.update_layout(title=label)\n",
        "    fig.show()\n",
        "import random\n",
        "\n",
        "idx = random.randint(0, len(images) - 1)\n",
        "img = images[idx]\n",
        "label = labels[idx]\n",
        "print(img.shape)\n",
        "show_img(img, label)\n"
      ]
    },
    {
      "cell_type": "markdown",
      "metadata": {
        "id": "9JJbceeAOq5I"
      },
      "source": []
    },
    {
      "cell_type": "code",
      "execution_count": null,
      "metadata": {
        "colab": {
          "base_uri": "https://localhost:8080/"
        },
        "id": "IiCDCcRvqtve",
        "outputId": "5ecec2dc-106b-499a-ee52-79b52b4993d3"
      },
      "outputs": [
        {
          "output_type": "stream",
          "name": "stdout",
          "text": [
            "(2295, 128, 128, 3)\n"
          ]
        }
      ],
      "source": [
        "images = np.array(images)\n",
        "holdout_per = 0.2\n",
        "y_holdout = food_df.groupby('labels')['labels'].sample(frac=holdout_per,random_state=42)\n",
        "val_per = 0.5\n",
        "y_val = y_holdout.sample(frac=val_per,random_state=42)\n",
        "y_val_idx = y_val.index\n",
        "y_test = y_holdout.drop(y_val.index)\n",
        "y_test_idx = y_test.index\n",
        "X_test = images[y_test_idx]\n",
        "idx_to_rmv = y_holdout.index\n",
        "y_train = food_df.drop(idx_to_rmv)['labels']\n",
        "y_train_idx = y_train.index\n",
        "y_temp = pd.concat([y_train, y_val, y_test])\n",
        "y_temp = pd.get_dummies(y_temp)\n",
        "\n",
        "X_train = np.delete(images, idx_to_rmv, axis=0)\n",
        "#X_train = X_train.reshape(-1, 128, 128, 1)\n",
        "\n",
        "y_train = y_temp[0:len(y_train)]\n",
        "X_val = images[y_val_idx]\n",
        "y_val = y_temp[len(y_train):len(y_train)+len(y_val)]\n",
        "y_test = y_temp[len(y_train)+len(y_val):]\n",
        "print(X_train.shape)"
      ]
    },
    {
      "cell_type": "markdown",
      "source": [
        "VGG model"
      ],
      "metadata": {
        "id": "BKJpOdETmsqK"
      }
    },
    {
      "cell_type": "code",
      "source": [
        "'''\n",
        "from keras.applications import VGG16\n",
        "from keras.layers import GlobalAveragePooling2D\n",
        "from keras.layers import Dropout\n",
        "from keras.layers import Dense\n",
        "\n",
        "# Define the model architecture\n",
        "base_model = VGG16(weights='imagenet', include_top=False, input_shape=(128, 128, 3))\n",
        "x = base_model.output\n",
        "x = GlobalAveragePooling2D()(x)\n",
        "x = Dropout(0.5)(x)\n",
        "x = Dense(512, activation='relu')(x)\n",
        "x = Dropout(0.5)(x)\n",
        "x = Dense(128, activation='relu')(x)\n",
        "predictions = Dense(19, activation='softmax')(x)\n",
        "\n",
        "model = Model(inputs=base_model.input, outputs=predictions)\n",
        "\n",
        "# Freeze the weights of the base model\n",
        "for layer in base_model.layers:\n",
        "    layer.trainable = False\n",
        "\n",
        "# Compile model\n",
        "model.compile(optimizer='adam', loss='categorical_crossentropy', metrics=['accuracy'])\n",
        "\n",
        "# Define early stopping callback\n",
        "early_stopping = EarlyStopping(monitor='val_loss', patience=5)\n",
        "model.summary()\n",
        "# Define learning rate scheduler\n",
        "def lr_scheduler(epoch, lr):\n",
        "    if epoch < 10:\n",
        "        return lr\n",
        "    else:\n",
        "        return lr * tf.math.exp(-0.4)\n",
        "\n",
        "learning_rate_scheduler = LearningRateScheduler(lr_scheduler)\n",
        "model_checkpoint = ModelCheckpoint('checkpoints/cl/best_model.h5', save_best_only=True, save_weights_only=False, monitor='val_loss', mode='min')\n",
        "\n",
        "# Train model\n",
        "history = model.fit(X_train, y_train, epochs=50, batch_size=32, validation_data=(X_val, y_val), callbacks=[early_stopping, learning_rate_scheduler, model_checkpoint])\n",
        "\n",
        "# Get predictions on test set\n",
        "y_pred = model.predict(X_test)\n",
        "\n",
        "# Evaluate model on test set\n",
        "test_loss, test_acc = model.evaluate(X_test, y_test)\n",
        "print('Test accuracy:', test_acc)\n",
        "'''"
      ],
      "metadata": {
        "colab": {
          "base_uri": "https://localhost:8080/",
          "height": 218
        },
        "id": "vSqpqClmNyt4",
        "outputId": "b730ca22-4e8e-43d7-916b-9810b3eedf08"
      },
      "execution_count": null,
      "outputs": [
        {
          "output_type": "execute_result",
          "data": {
            "text/plain": [
              "\"\\n!pip install regnet-keras\\nfrom regnet.keras import RegNetX_200MF\\nfrom keras.layers import *\\nfrom keras.callbacks import ModelCheckpoint\\n\\n# Define the model architecture\\nbase_model = RegNetX_200MF(weights='imagenet', include_top=False, input_shape=(128, 128, 3))\\nx = base_model.output\\nx = GlobalAveragePooling2D()(x)\\nx = Dropout(0.5)(x)\\nx = Dense(512, activation='relu')(x)\\nx = Dropout(0.5)(x)\\nx = Dense(128, activation='relu')(x)\\npredictions = Dense(19, activation='softmax')(x)\\n\\nmodel = Model(inputs=base_model.input, outputs=predictions)\\n\\n# Freeze the weights of the base model\\nfor layer in base_model.layers:\\n    layer.trainable = False\\n\\n# Compile model\\nmodel.compile(optimizer='adam', loss='categorical_crossentropy', metrics=['accuracy'])\\n\\n# Define early stopping callback\\nearly_stopping = EarlyStopping(monitor='val_loss', patience=5)\\n\\n# Define learning rate scheduler\\ndef lr_scheduler(epoch, lr):\\n    if epoch < 10:\\n        return lr\\n    else:\\n        return lr * tf.math.exp(-0.1)\\n\\nlearning_rate_scheduler = LearningRateScheduler(lr_scheduler)\\nmodel_checkpoint = ModelCheckpoint('checkpoints/cl/best_model.h5', save_best_only=True, save_weights_only=False, monitor='val_loss', mode='min')\\n\\n# Train model\\nhistory = model.fit(X_train, y_train, epochs=50, batch_size=32, validation_data=(X_val, y_val), callbacks=[early_stopping, learning_rate_scheduler, model_checkpoint])\\n\\n# Get predictions on test set\\ny_pred = model.predict(X_test)\\n\\n# Evaluate model on test set\\ntest_loss, test_acc = model.evaluate(X_test, y_test)\\nprint('Test accuracy:', test_acc)\\n\""
            ],
            "application/vnd.google.colaboratory.intrinsic+json": {
              "type": "string"
            }
          },
          "metadata": {},
          "execution_count": 11
        }
      ]
    },
    {
      "cell_type": "markdown",
      "source": [
        "DenseNet model\n"
      ],
      "metadata": {
        "id": "CQbpChh-m8CI"
      }
    },
    {
      "cell_type": "code",
      "source": [
        "'''\n",
        "from keras.applications import DenseNet121\n",
        "from keras.layers import GlobalAveragePooling2D, Dropout, Dense\n",
        "from keras.models import Model\n",
        "from keras.callbacks import EarlyStopping, LearningRateScheduler, ModelCheckpoint\n",
        "\n",
        "# Define the model architecture\n",
        "base_model = DenseNet121(weights='imagenet', include_top=False, input_shape=(128, 128, 3))\n",
        "x = base_model.output\n",
        "x = GlobalAveragePooling2D()(x)\n",
        "x = Dropout(0.5)(x)\n",
        "x = Dense(512, activation='relu')(x)\n",
        "x = Dropout(0.5)(x)\n",
        "x = Dense(128, activation='relu')(x)\n",
        "predictions = Dense(19, activation='softmax')(x)\n",
        "\n",
        "model = Model(inputs=base_model.input, outputs=predictions)\n",
        "\n",
        "# Freeze the weights of the base model\n",
        "for layer in base_model.layers:\n",
        "    layer.trainable = False\n",
        "\n",
        "# Compile model\n",
        "model.compile(optimizer='adam', loss='categorical_crossentropy', metrics=['accuracy'])\n",
        "\n",
        "# Define early stopping callback\n",
        "early_stopping = EarlyStopping(monitor='val_loss', patience=5)\n",
        "# Define learning rate scheduler\n",
        "def lr_scheduler(epoch, lr):\n",
        "    if epoch < 10:\n",
        "        return lr\n",
        "    else:\n",
        "        return lr * tf.math.exp(-0.4)\n",
        "\n",
        "learning_rate_scheduler = LearningRateScheduler(lr_scheduler)\n",
        "model_checkpoint = ModelCheckpoint('checkpoints/cl/best_model.h5', save_best_only=True, save_weights_only=False, monitor='val_loss', mode='min')\n",
        "\n",
        "# Train model\n",
        "history = model.fit(X_train, y_train, epochs=50, batch_size=32, validation_data=(X_val, y_val), callbacks=[early_stopping, learning_rate_scheduler, model_checkpoint])\n",
        "\n",
        "# Get predictions on test set\n",
        "y_pred = model.predict(X_test)\n",
        "\n",
        "# Evaluate model on test set\n",
        "test_loss, test_acc = model.evaluate(X_test, y_test)\n",
        "print('Test accuracy:', test_acc)\n",
        "'''"
      ],
      "metadata": {
        "id": "mtsan_10ITy4",
        "colab": {
          "base_uri": "https://localhost:8080/",
          "height": 218
        },
        "outputId": "6ff6b032-6e0f-4a44-e24e-2736f297e5f9"
      },
      "execution_count": null,
      "outputs": [
        {
          "output_type": "execute_result",
          "data": {
            "text/plain": [
              "\"\\nfrom keras.applications import EfficientNetB0\\nfrom keras.layers import *\\nfrom keras.callbacks import ModelCheckpoint\\n\\n# Define the model architecture\\nbase_model = EfficientNetB0(weights='imagenet', include_top=False, input_shape=(128, 128, 3))\\nx = base_model.output\\nx = GlobalAveragePooling2D()(x)\\nx = Dropout(0.5)(x)\\nx = Dense(512, activation='relu')(x)\\nx = Dropout(0.5)(x)\\nx = Dense(128, activation='relu')(x)\\npredictions = Dense(19, activation='softmax')(x)\\n\\nmodel = Model(inputs=base_model.input, outputs=predictions)\\n\\n# Freeze the weights of the base model\\nfor layer in base_model.layers:\\n    layer.trainable = False\\n\\n# Compile model\\nmodel.compile(optimizer='adam', loss='categorical_crossentropy', metrics=['accuracy'])\\n\\n# Define early stopping callback\\nearly_stopping = EarlyStopping(monitor='val_loss', patience=5)\\n\\n# Define learning rate scheduler\\ndef lr_scheduler(epoch, lr):\\n    if epoch < 10:\\n        return lr\\n    else:\\n        return lr * tf.math.exp(-0.1)\\n\\nlearning_rate_scheduler = LearningRateScheduler(lr_scheduler)\\nmodel_checkpoint = ModelCheckpoint('checkpoints/cl/best_model.h5', save_best_only=True, save_weights_only=False, monitor='val_loss', mode='min')\\n\\n# Train model\\nhistory = model.fit(X_train, y_train, epochs=50, batch_size=32, validation_data=(X_val, y_val), callbacks=[early_stopping, learning_rate_scheduler, model_checkpoint])\\ny_pred = model.predict(X_test).numpy()\\n\\n# Get predictions on test set\\n\\n# Evaluate model on test set\\ntest_loss, test_acc = model.evaluate(X_test, y_test)\\nprint('Test accuracy:', test_acc)\\n\""
            ],
            "application/vnd.google.colaboratory.intrinsic+json": {
              "type": "string"
            }
          },
          "metadata": {},
          "execution_count": 12
        }
      ]
    },
    {
      "cell_type": "markdown",
      "source": [
        "Simple CNN model"
      ],
      "metadata": {
        "id": "t9pfkySxnbA8"
      }
    },
    {
      "cell_type": "code",
      "source": [
        "\n",
        "from keras.layers import *\n",
        "from keras.callbacks import ModelCheckpoint\n",
        "\n",
        "# Define the model architecture\n",
        "model = Sequential()\n",
        "\n",
        "model.add(Conv2D(32, (3, 3), padding='same', input_shape=(128, 128, 3), activation='relu'))\n",
        "\n",
        "model.add(Dropout(0.2)) # Add dropout layer\n",
        "model.add(MaxPooling2D((2, 2)))\n",
        "\n",
        "model.add(Conv2D(64, (3, 3), padding='same', activation='relu'))\n",
        "model.add(Dropout(0.2)) # Add dropout layer\n",
        "model.add(MaxPooling2D((2, 2)))\n",
        "model.add(Conv2D(128, (3, 3), padding='same', activation='relu'))\n",
        "model.add(Dropout(0.2)) # Add dropout layer\n",
        "model.add(MaxPooling2D((2, 2)))\n",
        "model.add(Conv2D(256, (3, 3), padding='same', activation='relu'))\n",
        "model.add(Dropout(0.2)) # Add dropout layer\n",
        "model.add(MaxPooling2D((2, 2)))\n",
        "model.add(Conv2D(512, (3, 3), padding='same', activation='relu'))\n",
        "model.add(Dropout(0.2)) # Add dropout layer\n",
        "model.add(MaxPooling2D((2, 2)))\n",
        "\n",
        "model.add(Flatten())\n",
        "model.add(Dense(512, activation='relu'))\n",
        "model.add(Dropout(0.5)) # Add dropout layer\n",
        "model.add(Dense(128, activation='relu'))\n",
        "model.add(Dropout(0.5)) # Add dropout layer\n",
        "model.add(Dense(19, activation='softmax'))\n",
        "\n",
        "# Compile model\n",
        "model.compile(optimizer='adam', loss='categorical_crossentropy', metrics=['accuracy'])\n",
        "\n",
        "# Define early stopping callback\n",
        "early_stopping = EarlyStopping(monitor='val_loss', patience=5)\n",
        "model.summary()\n",
        "# Define learning rate scheduler\n",
        "def lr_scheduler(epoch, lr):\n",
        "    if epoch < 10:\n",
        "        return lr\n",
        "    else:\n",
        "        return lr * tf.math.exp(-0.4)\n",
        "\n",
        "learning_rate_scheduler = LearningRateScheduler(lr_scheduler)\n",
        "model_checkpoint = ModelCheckpoint('checkpoints/cl/best_model.h5', save_best_only=True, save_weights_only=False, monitor='val_loss', mode='min')\n",
        "\n",
        "# Train model\n",
        "history = model.fit(X_train, y_train, epochs=50, batch_size=256, validation_data=(X_val, y_val), callbacks=[early_stopping, learning_rate_scheduler, model_checkpoint])\n",
        "\n",
        "# Get predictions on test set\n",
        "y_pred = model.predict(X_test)\n",
        "\n",
        "# Evaluate model on test set\n",
        "test_loss, test_acc = model.evaluate(X_test, y_test)\n",
        "print('Test accuracy:', test_acc)\n"
      ],
      "metadata": {
        "id": "kjCxwSk5XId9"
      },
      "execution_count": null,
      "outputs": []
    },
    {
      "cell_type": "code",
      "execution_count": null,
      "metadata": {
        "id": "ognfyrpa7wIM"
      },
      "outputs": [],
      "source": [
        "_, accuracy = model.evaluate(X_train, y_train)\n",
        "print('Train Accuracy: %.2f' % (accuracy*100))\n",
        "_, accuracy = model.evaluate(X_val, y_val)\n",
        "print('Validation Accuracy: %.2f' % (accuracy*100))"
      ]
    },
    {
      "cell_type": "code",
      "execution_count": null,
      "metadata": {
        "id": "vhMwVt0w76q5"
      },
      "outputs": [],
      "source": [
        "plt.plot(history.history['accuracy'])\n",
        "plt.plot(history.history['val_accuracy'])\n",
        "plt.title('model accuracy')\n",
        "plt.ylabel('accuracy')\n",
        "plt.xlabel('epoch')\n",
        "plt.legend(['train', 'test'], loc='best')\n",
        "plt.show()"
      ]
    },
    {
      "cell_type": "code",
      "execution_count": null,
      "metadata": {
        "id": "CGoeu8ZIBKWH"
      },
      "outputs": [],
      "source": [
        "from keras.models import load_model\n",
        "\n",
        "model_load = load_model('checkpoints/cl/best_model.h5')\n"
      ]
    },
    {
      "cell_type": "code",
      "execution_count": null,
      "metadata": {
        "id": "iZ2L9Qt9BOly",
        "colab": {
          "base_uri": "https://localhost:8080/"
        },
        "outputId": "4b76b8ef-483b-4c9b-f9e6-a7622a49a1da"
      },
      "outputs": [
        {
          "output_type": "stream",
          "name": "stdout",
          "text": [
            "9/9 [==============================] - 0s 7ms/step\n",
            "                   precision    recall  f1-score   support\n",
            "\n",
            "            apple       1.00      0.96      0.98        24\n",
            "           banana       0.90      0.82      0.86        11\n",
            "            bread       0.83      0.91      0.87        11\n",
            "              bun       1.00      0.89      0.94         9\n",
            "         doughnut       0.88      0.96      0.92        23\n",
            "              egg       0.89      1.00      0.94         8\n",
            "fired_dough_twist       1.00      0.83      0.91        12\n",
            "            grape       1.00      1.00      1.00         8\n",
            "            lemon       1.00      1.00      1.00        15\n",
            "           litchi       1.00      1.00      1.00         8\n",
            "            mango       0.87      1.00      0.93        20\n",
            "         mooncake       1.00      0.92      0.96        12\n",
            "           orange       1.00      0.94      0.97        33\n",
            "            peach       1.00      1.00      1.00        13\n",
            "             pear       0.94      1.00      0.97        16\n",
            "             plum       1.00      1.00      1.00        21\n",
            "             qiwi       0.93      1.00      0.97        14\n",
            "          sachima       0.93      0.93      0.93        15\n",
            "           tomato       1.00      0.93      0.96        14\n",
            "\n",
            "         accuracy                           0.95       287\n",
            "        macro avg       0.96      0.95      0.95       287\n",
            "     weighted avg       0.96      0.95      0.95       287\n",
            "\n"
          ]
        }
      ],
      "source": [
        "y_pred = model_load.predict(X_test)\n",
        "y_pred = np.argmax(y_pred,axis=1)\n",
        "y_true = np.argmax(np.array(y_test),axis=1)\n",
        "print(classification_report(y_true, y_pred, target_names=y_train.Cylinders))"
      ]
    },
    {
      "cell_type": "code",
      "execution_count": null,
      "metadata": {
        "id": "CfDJX4MnBUUC",
        "colab": {
          "base_uri": "https://localhost:8080/",
          "height": 542
        },
        "outputId": "71c04ed5-5dfc-4995-96b5-f6db06cc7ccf"
      },
      "outputs": [
        {
          "output_type": "display_data",
          "data": {
            "text/html": [
              "<html>\n",
              "<head><meta charset=\"utf-8\" /></head>\n",
              "<body>\n",
              "    <div>            <script src=\"https://cdnjs.cloudflare.com/ajax/libs/mathjax/2.7.5/MathJax.js?config=TeX-AMS-MML_SVG\"></script><script type=\"text/javascript\">if (window.MathJax && window.MathJax.Hub && window.MathJax.Hub.Config) {window.MathJax.Hub.Config({SVG: {font: \"STIX-Web\"}});}</script>                <script type=\"text/javascript\">window.PlotlyConfig = {MathJaxConfig: 'local'};</script>\n",
              "        <script src=\"https://cdn.plot.ly/plotly-2.18.2.min.js\"></script>                <div id=\"9a3fac4e-14fc-4651-b901-5423373f2588\" class=\"plotly-graph-div\" style=\"height:525px; width:100%;\"></div>            <script type=\"text/javascript\">                                    window.PLOTLYENV=window.PLOTLYENV || {};                                    if (document.getElementById(\"9a3fac4e-14fc-4651-b901-5423373f2588\")) {                    Plotly.newPlot(                        \"9a3fac4e-14fc-4651-b901-5423373f2588\",                        [{\"colorscale\":[[0.0,\"#000004\"],[0.1111111111111111,\"#180f3d\"],[0.2222222222222222,\"#440f76\"],[0.3333333333333333,\"#721f81\"],[0.4444444444444444,\"#9e2f7f\"],[0.5555555555555556,\"#cd4071\"],[0.6666666666666666,\"#f1605d\"],[0.7777777777777778,\"#fd9668\"],[0.8888888888888888,\"#feca8d\"],[1.0,\"#fcfdbf\"]],\"reversescale\":false,\"showscale\":true,\"x\":[\"apple\",\"banana\",\"bread\",\"bun\",\"doughnut\",\"egg\",\"fired_dough_twist\",\"grape\",\"lemon\",\"litchi\",\"mango\",\"mooncake\",\"orange\",\"peach\",\"pear\",\"plum\",\"qiwi\",\"sachima\",\"tomato\"],\"y\":[\"apple\",\"banana\",\"bread\",\"bun\",\"doughnut\",\"egg\",\"fired_dough_twist\",\"grape\",\"lemon\",\"litchi\",\"mango\",\"mooncake\",\"orange\",\"peach\",\"pear\",\"plum\",\"qiwi\",\"sachima\",\"tomato\"],\"z\":[[23,0,0,0,0,0,0,0,0,0,0,0,0,0,0,0,1,0,0],[0,9,2,0,0,0,0,0,0,0,0,0,0,0,0,0,0,0,0],[0,1,10,0,0,0,0,0,0,0,0,0,0,0,0,0,0,0,0],[0,0,0,8,1,0,0,0,0,0,0,0,0,0,0,0,0,0,0],[0,0,0,0,22,0,0,0,0,0,1,0,0,0,0,0,0,0,0],[0,0,0,0,0,8,0,0,0,0,0,0,0,0,0,0,0,0,0],[0,0,0,0,1,0,10,0,0,0,0,0,0,0,0,0,0,1,0],[0,0,0,0,0,0,0,8,0,0,0,0,0,0,0,0,0,0,0],[0,0,0,0,0,0,0,0,15,0,0,0,0,0,0,0,0,0,0],[0,0,0,0,0,0,0,0,0,8,0,0,0,0,0,0,0,0,0],[0,0,0,0,0,0,0,0,0,0,20,0,0,0,0,0,0,0,0],[0,0,0,0,1,0,0,0,0,0,0,11,0,0,0,0,0,0,0],[0,0,0,0,0,0,0,0,0,0,2,0,31,0,0,0,0,0,0],[0,0,0,0,0,0,0,0,0,0,0,0,0,13,0,0,0,0,0],[0,0,0,0,0,0,0,0,0,0,0,0,0,0,16,0,0,0,0],[0,0,0,0,0,0,0,0,0,0,0,0,0,0,0,21,0,0,0],[0,0,0,0,0,0,0,0,0,0,0,0,0,0,0,0,14,0,0],[0,0,0,0,0,0,0,0,0,0,0,0,0,0,1,0,0,14,0],[0,0,0,0,0,1,0,0,0,0,0,0,0,0,0,0,0,0,13]],\"type\":\"heatmap\"}],                        {\"annotations\":[{\"font\":{\"color\":\"#000000\"},\"showarrow\":false,\"text\":\"23\",\"x\":\"apple\",\"xref\":\"x\",\"y\":\"apple\",\"yref\":\"y\"},{\"font\":{\"color\":\"#FFFFFF\"},\"showarrow\":false,\"text\":\"0\",\"x\":\"banana\",\"xref\":\"x\",\"y\":\"apple\",\"yref\":\"y\"},{\"font\":{\"color\":\"#FFFFFF\"},\"showarrow\":false,\"text\":\"0\",\"x\":\"bread\",\"xref\":\"x\",\"y\":\"apple\",\"yref\":\"y\"},{\"font\":{\"color\":\"#FFFFFF\"},\"showarrow\":false,\"text\":\"0\",\"x\":\"bun\",\"xref\":\"x\",\"y\":\"apple\",\"yref\":\"y\"},{\"font\":{\"color\":\"#FFFFFF\"},\"showarrow\":false,\"text\":\"0\",\"x\":\"doughnut\",\"xref\":\"x\",\"y\":\"apple\",\"yref\":\"y\"},{\"font\":{\"color\":\"#FFFFFF\"},\"showarrow\":false,\"text\":\"0\",\"x\":\"egg\",\"xref\":\"x\",\"y\":\"apple\",\"yref\":\"y\"},{\"font\":{\"color\":\"#FFFFFF\"},\"showarrow\":false,\"text\":\"0\",\"x\":\"fired_dough_twist\",\"xref\":\"x\",\"y\":\"apple\",\"yref\":\"y\"},{\"font\":{\"color\":\"#FFFFFF\"},\"showarrow\":false,\"text\":\"0\",\"x\":\"grape\",\"xref\":\"x\",\"y\":\"apple\",\"yref\":\"y\"},{\"font\":{\"color\":\"#FFFFFF\"},\"showarrow\":false,\"text\":\"0\",\"x\":\"lemon\",\"xref\":\"x\",\"y\":\"apple\",\"yref\":\"y\"},{\"font\":{\"color\":\"#FFFFFF\"},\"showarrow\":false,\"text\":\"0\",\"x\":\"litchi\",\"xref\":\"x\",\"y\":\"apple\",\"yref\":\"y\"},{\"font\":{\"color\":\"#FFFFFF\"},\"showarrow\":false,\"text\":\"0\",\"x\":\"mango\",\"xref\":\"x\",\"y\":\"apple\",\"yref\":\"y\"},{\"font\":{\"color\":\"#FFFFFF\"},\"showarrow\":false,\"text\":\"0\",\"x\":\"mooncake\",\"xref\":\"x\",\"y\":\"apple\",\"yref\":\"y\"},{\"font\":{\"color\":\"#FFFFFF\"},\"showarrow\":false,\"text\":\"0\",\"x\":\"orange\",\"xref\":\"x\",\"y\":\"apple\",\"yref\":\"y\"},{\"font\":{\"color\":\"#FFFFFF\"},\"showarrow\":false,\"text\":\"0\",\"x\":\"peach\",\"xref\":\"x\",\"y\":\"apple\",\"yref\":\"y\"},{\"font\":{\"color\":\"#FFFFFF\"},\"showarrow\":false,\"text\":\"0\",\"x\":\"pear\",\"xref\":\"x\",\"y\":\"apple\",\"yref\":\"y\"},{\"font\":{\"color\":\"#FFFFFF\"},\"showarrow\":false,\"text\":\"0\",\"x\":\"plum\",\"xref\":\"x\",\"y\":\"apple\",\"yref\":\"y\"},{\"font\":{\"color\":\"#FFFFFF\"},\"showarrow\":false,\"text\":\"1\",\"x\":\"qiwi\",\"xref\":\"x\",\"y\":\"apple\",\"yref\":\"y\"},{\"font\":{\"color\":\"#FFFFFF\"},\"showarrow\":false,\"text\":\"0\",\"x\":\"sachima\",\"xref\":\"x\",\"y\":\"apple\",\"yref\":\"y\"},{\"font\":{\"color\":\"#FFFFFF\"},\"showarrow\":false,\"text\":\"0\",\"x\":\"tomato\",\"xref\":\"x\",\"y\":\"apple\",\"yref\":\"y\"},{\"font\":{\"color\":\"#FFFFFF\"},\"showarrow\":false,\"text\":\"0\",\"x\":\"apple\",\"xref\":\"x\",\"y\":\"banana\",\"yref\":\"y\"},{\"font\":{\"color\":\"#FFFFFF\"},\"showarrow\":false,\"text\":\"9\",\"x\":\"banana\",\"xref\":\"x\",\"y\":\"banana\",\"yref\":\"y\"},{\"font\":{\"color\":\"#FFFFFF\"},\"showarrow\":false,\"text\":\"2\",\"x\":\"bread\",\"xref\":\"x\",\"y\":\"banana\",\"yref\":\"y\"},{\"font\":{\"color\":\"#FFFFFF\"},\"showarrow\":false,\"text\":\"0\",\"x\":\"bun\",\"xref\":\"x\",\"y\":\"banana\",\"yref\":\"y\"},{\"font\":{\"color\":\"#FFFFFF\"},\"showarrow\":false,\"text\":\"0\",\"x\":\"doughnut\",\"xref\":\"x\",\"y\":\"banana\",\"yref\":\"y\"},{\"font\":{\"color\":\"#FFFFFF\"},\"showarrow\":false,\"text\":\"0\",\"x\":\"egg\",\"xref\":\"x\",\"y\":\"banana\",\"yref\":\"y\"},{\"font\":{\"color\":\"#FFFFFF\"},\"showarrow\":false,\"text\":\"0\",\"x\":\"fired_dough_twist\",\"xref\":\"x\",\"y\":\"banana\",\"yref\":\"y\"},{\"font\":{\"color\":\"#FFFFFF\"},\"showarrow\":false,\"text\":\"0\",\"x\":\"grape\",\"xref\":\"x\",\"y\":\"banana\",\"yref\":\"y\"},{\"font\":{\"color\":\"#FFFFFF\"},\"showarrow\":false,\"text\":\"0\",\"x\":\"lemon\",\"xref\":\"x\",\"y\":\"banana\",\"yref\":\"y\"},{\"font\":{\"color\":\"#FFFFFF\"},\"showarrow\":false,\"text\":\"0\",\"x\":\"litchi\",\"xref\":\"x\",\"y\":\"banana\",\"yref\":\"y\"},{\"font\":{\"color\":\"#FFFFFF\"},\"showarrow\":false,\"text\":\"0\",\"x\":\"mango\",\"xref\":\"x\",\"y\":\"banana\",\"yref\":\"y\"},{\"font\":{\"color\":\"#FFFFFF\"},\"showarrow\":false,\"text\":\"0\",\"x\":\"mooncake\",\"xref\":\"x\",\"y\":\"banana\",\"yref\":\"y\"},{\"font\":{\"color\":\"#FFFFFF\"},\"showarrow\":false,\"text\":\"0\",\"x\":\"orange\",\"xref\":\"x\",\"y\":\"banana\",\"yref\":\"y\"},{\"font\":{\"color\":\"#FFFFFF\"},\"showarrow\":false,\"text\":\"0\",\"x\":\"peach\",\"xref\":\"x\",\"y\":\"banana\",\"yref\":\"y\"},{\"font\":{\"color\":\"#FFFFFF\"},\"showarrow\":false,\"text\":\"0\",\"x\":\"pear\",\"xref\":\"x\",\"y\":\"banana\",\"yref\":\"y\"},{\"font\":{\"color\":\"#FFFFFF\"},\"showarrow\":false,\"text\":\"0\",\"x\":\"plum\",\"xref\":\"x\",\"y\":\"banana\",\"yref\":\"y\"},{\"font\":{\"color\":\"#FFFFFF\"},\"showarrow\":false,\"text\":\"0\",\"x\":\"qiwi\",\"xref\":\"x\",\"y\":\"banana\",\"yref\":\"y\"},{\"font\":{\"color\":\"#FFFFFF\"},\"showarrow\":false,\"text\":\"0\",\"x\":\"sachima\",\"xref\":\"x\",\"y\":\"banana\",\"yref\":\"y\"},{\"font\":{\"color\":\"#FFFFFF\"},\"showarrow\":false,\"text\":\"0\",\"x\":\"tomato\",\"xref\":\"x\",\"y\":\"banana\",\"yref\":\"y\"},{\"font\":{\"color\":\"#FFFFFF\"},\"showarrow\":false,\"text\":\"0\",\"x\":\"apple\",\"xref\":\"x\",\"y\":\"bread\",\"yref\":\"y\"},{\"font\":{\"color\":\"#FFFFFF\"},\"showarrow\":false,\"text\":\"1\",\"x\":\"banana\",\"xref\":\"x\",\"y\":\"bread\",\"yref\":\"y\"},{\"font\":{\"color\":\"#FFFFFF\"},\"showarrow\":false,\"text\":\"10\",\"x\":\"bread\",\"xref\":\"x\",\"y\":\"bread\",\"yref\":\"y\"},{\"font\":{\"color\":\"#FFFFFF\"},\"showarrow\":false,\"text\":\"0\",\"x\":\"bun\",\"xref\":\"x\",\"y\":\"bread\",\"yref\":\"y\"},{\"font\":{\"color\":\"#FFFFFF\"},\"showarrow\":false,\"text\":\"0\",\"x\":\"doughnut\",\"xref\":\"x\",\"y\":\"bread\",\"yref\":\"y\"},{\"font\":{\"color\":\"#FFFFFF\"},\"showarrow\":false,\"text\":\"0\",\"x\":\"egg\",\"xref\":\"x\",\"y\":\"bread\",\"yref\":\"y\"},{\"font\":{\"color\":\"#FFFFFF\"},\"showarrow\":false,\"text\":\"0\",\"x\":\"fired_dough_twist\",\"xref\":\"x\",\"y\":\"bread\",\"yref\":\"y\"},{\"font\":{\"color\":\"#FFFFFF\"},\"showarrow\":false,\"text\":\"0\",\"x\":\"grape\",\"xref\":\"x\",\"y\":\"bread\",\"yref\":\"y\"},{\"font\":{\"color\":\"#FFFFFF\"},\"showarrow\":false,\"text\":\"0\",\"x\":\"lemon\",\"xref\":\"x\",\"y\":\"bread\",\"yref\":\"y\"},{\"font\":{\"color\":\"#FFFFFF\"},\"showarrow\":false,\"text\":\"0\",\"x\":\"litchi\",\"xref\":\"x\",\"y\":\"bread\",\"yref\":\"y\"},{\"font\":{\"color\":\"#FFFFFF\"},\"showarrow\":false,\"text\":\"0\",\"x\":\"mango\",\"xref\":\"x\",\"y\":\"bread\",\"yref\":\"y\"},{\"font\":{\"color\":\"#FFFFFF\"},\"showarrow\":false,\"text\":\"0\",\"x\":\"mooncake\",\"xref\":\"x\",\"y\":\"bread\",\"yref\":\"y\"},{\"font\":{\"color\":\"#FFFFFF\"},\"showarrow\":false,\"text\":\"0\",\"x\":\"orange\",\"xref\":\"x\",\"y\":\"bread\",\"yref\":\"y\"},{\"font\":{\"color\":\"#FFFFFF\"},\"showarrow\":false,\"text\":\"0\",\"x\":\"peach\",\"xref\":\"x\",\"y\":\"bread\",\"yref\":\"y\"},{\"font\":{\"color\":\"#FFFFFF\"},\"showarrow\":false,\"text\":\"0\",\"x\":\"pear\",\"xref\":\"x\",\"y\":\"bread\",\"yref\":\"y\"},{\"font\":{\"color\":\"#FFFFFF\"},\"showarrow\":false,\"text\":\"0\",\"x\":\"plum\",\"xref\":\"x\",\"y\":\"bread\",\"yref\":\"y\"},{\"font\":{\"color\":\"#FFFFFF\"},\"showarrow\":false,\"text\":\"0\",\"x\":\"qiwi\",\"xref\":\"x\",\"y\":\"bread\",\"yref\":\"y\"},{\"font\":{\"color\":\"#FFFFFF\"},\"showarrow\":false,\"text\":\"0\",\"x\":\"sachima\",\"xref\":\"x\",\"y\":\"bread\",\"yref\":\"y\"},{\"font\":{\"color\":\"#FFFFFF\"},\"showarrow\":false,\"text\":\"0\",\"x\":\"tomato\",\"xref\":\"x\",\"y\":\"bread\",\"yref\":\"y\"},{\"font\":{\"color\":\"#FFFFFF\"},\"showarrow\":false,\"text\":\"0\",\"x\":\"apple\",\"xref\":\"x\",\"y\":\"bun\",\"yref\":\"y\"},{\"font\":{\"color\":\"#FFFFFF\"},\"showarrow\":false,\"text\":\"0\",\"x\":\"banana\",\"xref\":\"x\",\"y\":\"bun\",\"yref\":\"y\"},{\"font\":{\"color\":\"#FFFFFF\"},\"showarrow\":false,\"text\":\"0\",\"x\":\"bread\",\"xref\":\"x\",\"y\":\"bun\",\"yref\":\"y\"},{\"font\":{\"color\":\"#FFFFFF\"},\"showarrow\":false,\"text\":\"8\",\"x\":\"bun\",\"xref\":\"x\",\"y\":\"bun\",\"yref\":\"y\"},{\"font\":{\"color\":\"#FFFFFF\"},\"showarrow\":false,\"text\":\"1\",\"x\":\"doughnut\",\"xref\":\"x\",\"y\":\"bun\",\"yref\":\"y\"},{\"font\":{\"color\":\"#FFFFFF\"},\"showarrow\":false,\"text\":\"0\",\"x\":\"egg\",\"xref\":\"x\",\"y\":\"bun\",\"yref\":\"y\"},{\"font\":{\"color\":\"#FFFFFF\"},\"showarrow\":false,\"text\":\"0\",\"x\":\"fired_dough_twist\",\"xref\":\"x\",\"y\":\"bun\",\"yref\":\"y\"},{\"font\":{\"color\":\"#FFFFFF\"},\"showarrow\":false,\"text\":\"0\",\"x\":\"grape\",\"xref\":\"x\",\"y\":\"bun\",\"yref\":\"y\"},{\"font\":{\"color\":\"#FFFFFF\"},\"showarrow\":false,\"text\":\"0\",\"x\":\"lemon\",\"xref\":\"x\",\"y\":\"bun\",\"yref\":\"y\"},{\"font\":{\"color\":\"#FFFFFF\"},\"showarrow\":false,\"text\":\"0\",\"x\":\"litchi\",\"xref\":\"x\",\"y\":\"bun\",\"yref\":\"y\"},{\"font\":{\"color\":\"#FFFFFF\"},\"showarrow\":false,\"text\":\"0\",\"x\":\"mango\",\"xref\":\"x\",\"y\":\"bun\",\"yref\":\"y\"},{\"font\":{\"color\":\"#FFFFFF\"},\"showarrow\":false,\"text\":\"0\",\"x\":\"mooncake\",\"xref\":\"x\",\"y\":\"bun\",\"yref\":\"y\"},{\"font\":{\"color\":\"#FFFFFF\"},\"showarrow\":false,\"text\":\"0\",\"x\":\"orange\",\"xref\":\"x\",\"y\":\"bun\",\"yref\":\"y\"},{\"font\":{\"color\":\"#FFFFFF\"},\"showarrow\":false,\"text\":\"0\",\"x\":\"peach\",\"xref\":\"x\",\"y\":\"bun\",\"yref\":\"y\"},{\"font\":{\"color\":\"#FFFFFF\"},\"showarrow\":false,\"text\":\"0\",\"x\":\"pear\",\"xref\":\"x\",\"y\":\"bun\",\"yref\":\"y\"},{\"font\":{\"color\":\"#FFFFFF\"},\"showarrow\":false,\"text\":\"0\",\"x\":\"plum\",\"xref\":\"x\",\"y\":\"bun\",\"yref\":\"y\"},{\"font\":{\"color\":\"#FFFFFF\"},\"showarrow\":false,\"text\":\"0\",\"x\":\"qiwi\",\"xref\":\"x\",\"y\":\"bun\",\"yref\":\"y\"},{\"font\":{\"color\":\"#FFFFFF\"},\"showarrow\":false,\"text\":\"0\",\"x\":\"sachima\",\"xref\":\"x\",\"y\":\"bun\",\"yref\":\"y\"},{\"font\":{\"color\":\"#FFFFFF\"},\"showarrow\":false,\"text\":\"0\",\"x\":\"tomato\",\"xref\":\"x\",\"y\":\"bun\",\"yref\":\"y\"},{\"font\":{\"color\":\"#FFFFFF\"},\"showarrow\":false,\"text\":\"0\",\"x\":\"apple\",\"xref\":\"x\",\"y\":\"doughnut\",\"yref\":\"y\"},{\"font\":{\"color\":\"#FFFFFF\"},\"showarrow\":false,\"text\":\"0\",\"x\":\"banana\",\"xref\":\"x\",\"y\":\"doughnut\",\"yref\":\"y\"},{\"font\":{\"color\":\"#FFFFFF\"},\"showarrow\":false,\"text\":\"0\",\"x\":\"bread\",\"xref\":\"x\",\"y\":\"doughnut\",\"yref\":\"y\"},{\"font\":{\"color\":\"#FFFFFF\"},\"showarrow\":false,\"text\":\"0\",\"x\":\"bun\",\"xref\":\"x\",\"y\":\"doughnut\",\"yref\":\"y\"},{\"font\":{\"color\":\"#000000\"},\"showarrow\":false,\"text\":\"22\",\"x\":\"doughnut\",\"xref\":\"x\",\"y\":\"doughnut\",\"yref\":\"y\"},{\"font\":{\"color\":\"#FFFFFF\"},\"showarrow\":false,\"text\":\"0\",\"x\":\"egg\",\"xref\":\"x\",\"y\":\"doughnut\",\"yref\":\"y\"},{\"font\":{\"color\":\"#FFFFFF\"},\"showarrow\":false,\"text\":\"0\",\"x\":\"fired_dough_twist\",\"xref\":\"x\",\"y\":\"doughnut\",\"yref\":\"y\"},{\"font\":{\"color\":\"#FFFFFF\"},\"showarrow\":false,\"text\":\"0\",\"x\":\"grape\",\"xref\":\"x\",\"y\":\"doughnut\",\"yref\":\"y\"},{\"font\":{\"color\":\"#FFFFFF\"},\"showarrow\":false,\"text\":\"0\",\"x\":\"lemon\",\"xref\":\"x\",\"y\":\"doughnut\",\"yref\":\"y\"},{\"font\":{\"color\":\"#FFFFFF\"},\"showarrow\":false,\"text\":\"0\",\"x\":\"litchi\",\"xref\":\"x\",\"y\":\"doughnut\",\"yref\":\"y\"},{\"font\":{\"color\":\"#FFFFFF\"},\"showarrow\":false,\"text\":\"1\",\"x\":\"mango\",\"xref\":\"x\",\"y\":\"doughnut\",\"yref\":\"y\"},{\"font\":{\"color\":\"#FFFFFF\"},\"showarrow\":false,\"text\":\"0\",\"x\":\"mooncake\",\"xref\":\"x\",\"y\":\"doughnut\",\"yref\":\"y\"},{\"font\":{\"color\":\"#FFFFFF\"},\"showarrow\":false,\"text\":\"0\",\"x\":\"orange\",\"xref\":\"x\",\"y\":\"doughnut\",\"yref\":\"y\"},{\"font\":{\"color\":\"#FFFFFF\"},\"showarrow\":false,\"text\":\"0\",\"x\":\"peach\",\"xref\":\"x\",\"y\":\"doughnut\",\"yref\":\"y\"},{\"font\":{\"color\":\"#FFFFFF\"},\"showarrow\":false,\"text\":\"0\",\"x\":\"pear\",\"xref\":\"x\",\"y\":\"doughnut\",\"yref\":\"y\"},{\"font\":{\"color\":\"#FFFFFF\"},\"showarrow\":false,\"text\":\"0\",\"x\":\"plum\",\"xref\":\"x\",\"y\":\"doughnut\",\"yref\":\"y\"},{\"font\":{\"color\":\"#FFFFFF\"},\"showarrow\":false,\"text\":\"0\",\"x\":\"qiwi\",\"xref\":\"x\",\"y\":\"doughnut\",\"yref\":\"y\"},{\"font\":{\"color\":\"#FFFFFF\"},\"showarrow\":false,\"text\":\"0\",\"x\":\"sachima\",\"xref\":\"x\",\"y\":\"doughnut\",\"yref\":\"y\"},{\"font\":{\"color\":\"#FFFFFF\"},\"showarrow\":false,\"text\":\"0\",\"x\":\"tomato\",\"xref\":\"x\",\"y\":\"doughnut\",\"yref\":\"y\"},{\"font\":{\"color\":\"#FFFFFF\"},\"showarrow\":false,\"text\":\"0\",\"x\":\"apple\",\"xref\":\"x\",\"y\":\"egg\",\"yref\":\"y\"},{\"font\":{\"color\":\"#FFFFFF\"},\"showarrow\":false,\"text\":\"0\",\"x\":\"banana\",\"xref\":\"x\",\"y\":\"egg\",\"yref\":\"y\"},{\"font\":{\"color\":\"#FFFFFF\"},\"showarrow\":false,\"text\":\"0\",\"x\":\"bread\",\"xref\":\"x\",\"y\":\"egg\",\"yref\":\"y\"},{\"font\":{\"color\":\"#FFFFFF\"},\"showarrow\":false,\"text\":\"0\",\"x\":\"bun\",\"xref\":\"x\",\"y\":\"egg\",\"yref\":\"y\"},{\"font\":{\"color\":\"#FFFFFF\"},\"showarrow\":false,\"text\":\"0\",\"x\":\"doughnut\",\"xref\":\"x\",\"y\":\"egg\",\"yref\":\"y\"},{\"font\":{\"color\":\"#FFFFFF\"},\"showarrow\":false,\"text\":\"8\",\"x\":\"egg\",\"xref\":\"x\",\"y\":\"egg\",\"yref\":\"y\"},{\"font\":{\"color\":\"#FFFFFF\"},\"showarrow\":false,\"text\":\"0\",\"x\":\"fired_dough_twist\",\"xref\":\"x\",\"y\":\"egg\",\"yref\":\"y\"},{\"font\":{\"color\":\"#FFFFFF\"},\"showarrow\":false,\"text\":\"0\",\"x\":\"grape\",\"xref\":\"x\",\"y\":\"egg\",\"yref\":\"y\"},{\"font\":{\"color\":\"#FFFFFF\"},\"showarrow\":false,\"text\":\"0\",\"x\":\"lemon\",\"xref\":\"x\",\"y\":\"egg\",\"yref\":\"y\"},{\"font\":{\"color\":\"#FFFFFF\"},\"showarrow\":false,\"text\":\"0\",\"x\":\"litchi\",\"xref\":\"x\",\"y\":\"egg\",\"yref\":\"y\"},{\"font\":{\"color\":\"#FFFFFF\"},\"showarrow\":false,\"text\":\"0\",\"x\":\"mango\",\"xref\":\"x\",\"y\":\"egg\",\"yref\":\"y\"},{\"font\":{\"color\":\"#FFFFFF\"},\"showarrow\":false,\"text\":\"0\",\"x\":\"mooncake\",\"xref\":\"x\",\"y\":\"egg\",\"yref\":\"y\"},{\"font\":{\"color\":\"#FFFFFF\"},\"showarrow\":false,\"text\":\"0\",\"x\":\"orange\",\"xref\":\"x\",\"y\":\"egg\",\"yref\":\"y\"},{\"font\":{\"color\":\"#FFFFFF\"},\"showarrow\":false,\"text\":\"0\",\"x\":\"peach\",\"xref\":\"x\",\"y\":\"egg\",\"yref\":\"y\"},{\"font\":{\"color\":\"#FFFFFF\"},\"showarrow\":false,\"text\":\"0\",\"x\":\"pear\",\"xref\":\"x\",\"y\":\"egg\",\"yref\":\"y\"},{\"font\":{\"color\":\"#FFFFFF\"},\"showarrow\":false,\"text\":\"0\",\"x\":\"plum\",\"xref\":\"x\",\"y\":\"egg\",\"yref\":\"y\"},{\"font\":{\"color\":\"#FFFFFF\"},\"showarrow\":false,\"text\":\"0\",\"x\":\"qiwi\",\"xref\":\"x\",\"y\":\"egg\",\"yref\":\"y\"},{\"font\":{\"color\":\"#FFFFFF\"},\"showarrow\":false,\"text\":\"0\",\"x\":\"sachima\",\"xref\":\"x\",\"y\":\"egg\",\"yref\":\"y\"},{\"font\":{\"color\":\"#FFFFFF\"},\"showarrow\":false,\"text\":\"0\",\"x\":\"tomato\",\"xref\":\"x\",\"y\":\"egg\",\"yref\":\"y\"},{\"font\":{\"color\":\"#FFFFFF\"},\"showarrow\":false,\"text\":\"0\",\"x\":\"apple\",\"xref\":\"x\",\"y\":\"fired_dough_twist\",\"yref\":\"y\"},{\"font\":{\"color\":\"#FFFFFF\"},\"showarrow\":false,\"text\":\"0\",\"x\":\"banana\",\"xref\":\"x\",\"y\":\"fired_dough_twist\",\"yref\":\"y\"},{\"font\":{\"color\":\"#FFFFFF\"},\"showarrow\":false,\"text\":\"0\",\"x\":\"bread\",\"xref\":\"x\",\"y\":\"fired_dough_twist\",\"yref\":\"y\"},{\"font\":{\"color\":\"#FFFFFF\"},\"showarrow\":false,\"text\":\"0\",\"x\":\"bun\",\"xref\":\"x\",\"y\":\"fired_dough_twist\",\"yref\":\"y\"},{\"font\":{\"color\":\"#FFFFFF\"},\"showarrow\":false,\"text\":\"1\",\"x\":\"doughnut\",\"xref\":\"x\",\"y\":\"fired_dough_twist\",\"yref\":\"y\"},{\"font\":{\"color\":\"#FFFFFF\"},\"showarrow\":false,\"text\":\"0\",\"x\":\"egg\",\"xref\":\"x\",\"y\":\"fired_dough_twist\",\"yref\":\"y\"},{\"font\":{\"color\":\"#FFFFFF\"},\"showarrow\":false,\"text\":\"10\",\"x\":\"fired_dough_twist\",\"xref\":\"x\",\"y\":\"fired_dough_twist\",\"yref\":\"y\"},{\"font\":{\"color\":\"#FFFFFF\"},\"showarrow\":false,\"text\":\"0\",\"x\":\"grape\",\"xref\":\"x\",\"y\":\"fired_dough_twist\",\"yref\":\"y\"},{\"font\":{\"color\":\"#FFFFFF\"},\"showarrow\":false,\"text\":\"0\",\"x\":\"lemon\",\"xref\":\"x\",\"y\":\"fired_dough_twist\",\"yref\":\"y\"},{\"font\":{\"color\":\"#FFFFFF\"},\"showarrow\":false,\"text\":\"0\",\"x\":\"litchi\",\"xref\":\"x\",\"y\":\"fired_dough_twist\",\"yref\":\"y\"},{\"font\":{\"color\":\"#FFFFFF\"},\"showarrow\":false,\"text\":\"0\",\"x\":\"mango\",\"xref\":\"x\",\"y\":\"fired_dough_twist\",\"yref\":\"y\"},{\"font\":{\"color\":\"#FFFFFF\"},\"showarrow\":false,\"text\":\"0\",\"x\":\"mooncake\",\"xref\":\"x\",\"y\":\"fired_dough_twist\",\"yref\":\"y\"},{\"font\":{\"color\":\"#FFFFFF\"},\"showarrow\":false,\"text\":\"0\",\"x\":\"orange\",\"xref\":\"x\",\"y\":\"fired_dough_twist\",\"yref\":\"y\"},{\"font\":{\"color\":\"#FFFFFF\"},\"showarrow\":false,\"text\":\"0\",\"x\":\"peach\",\"xref\":\"x\",\"y\":\"fired_dough_twist\",\"yref\":\"y\"},{\"font\":{\"color\":\"#FFFFFF\"},\"showarrow\":false,\"text\":\"0\",\"x\":\"pear\",\"xref\":\"x\",\"y\":\"fired_dough_twist\",\"yref\":\"y\"},{\"font\":{\"color\":\"#FFFFFF\"},\"showarrow\":false,\"text\":\"0\",\"x\":\"plum\",\"xref\":\"x\",\"y\":\"fired_dough_twist\",\"yref\":\"y\"},{\"font\":{\"color\":\"#FFFFFF\"},\"showarrow\":false,\"text\":\"0\",\"x\":\"qiwi\",\"xref\":\"x\",\"y\":\"fired_dough_twist\",\"yref\":\"y\"},{\"font\":{\"color\":\"#FFFFFF\"},\"showarrow\":false,\"text\":\"1\",\"x\":\"sachima\",\"xref\":\"x\",\"y\":\"fired_dough_twist\",\"yref\":\"y\"},{\"font\":{\"color\":\"#FFFFFF\"},\"showarrow\":false,\"text\":\"0\",\"x\":\"tomato\",\"xref\":\"x\",\"y\":\"fired_dough_twist\",\"yref\":\"y\"},{\"font\":{\"color\":\"#FFFFFF\"},\"showarrow\":false,\"text\":\"0\",\"x\":\"apple\",\"xref\":\"x\",\"y\":\"grape\",\"yref\":\"y\"},{\"font\":{\"color\":\"#FFFFFF\"},\"showarrow\":false,\"text\":\"0\",\"x\":\"banana\",\"xref\":\"x\",\"y\":\"grape\",\"yref\":\"y\"},{\"font\":{\"color\":\"#FFFFFF\"},\"showarrow\":false,\"text\":\"0\",\"x\":\"bread\",\"xref\":\"x\",\"y\":\"grape\",\"yref\":\"y\"},{\"font\":{\"color\":\"#FFFFFF\"},\"showarrow\":false,\"text\":\"0\",\"x\":\"bun\",\"xref\":\"x\",\"y\":\"grape\",\"yref\":\"y\"},{\"font\":{\"color\":\"#FFFFFF\"},\"showarrow\":false,\"text\":\"0\",\"x\":\"doughnut\",\"xref\":\"x\",\"y\":\"grape\",\"yref\":\"y\"},{\"font\":{\"color\":\"#FFFFFF\"},\"showarrow\":false,\"text\":\"0\",\"x\":\"egg\",\"xref\":\"x\",\"y\":\"grape\",\"yref\":\"y\"},{\"font\":{\"color\":\"#FFFFFF\"},\"showarrow\":false,\"text\":\"0\",\"x\":\"fired_dough_twist\",\"xref\":\"x\",\"y\":\"grape\",\"yref\":\"y\"},{\"font\":{\"color\":\"#FFFFFF\"},\"showarrow\":false,\"text\":\"8\",\"x\":\"grape\",\"xref\":\"x\",\"y\":\"grape\",\"yref\":\"y\"},{\"font\":{\"color\":\"#FFFFFF\"},\"showarrow\":false,\"text\":\"0\",\"x\":\"lemon\",\"xref\":\"x\",\"y\":\"grape\",\"yref\":\"y\"},{\"font\":{\"color\":\"#FFFFFF\"},\"showarrow\":false,\"text\":\"0\",\"x\":\"litchi\",\"xref\":\"x\",\"y\":\"grape\",\"yref\":\"y\"},{\"font\":{\"color\":\"#FFFFFF\"},\"showarrow\":false,\"text\":\"0\",\"x\":\"mango\",\"xref\":\"x\",\"y\":\"grape\",\"yref\":\"y\"},{\"font\":{\"color\":\"#FFFFFF\"},\"showarrow\":false,\"text\":\"0\",\"x\":\"mooncake\",\"xref\":\"x\",\"y\":\"grape\",\"yref\":\"y\"},{\"font\":{\"color\":\"#FFFFFF\"},\"showarrow\":false,\"text\":\"0\",\"x\":\"orange\",\"xref\":\"x\",\"y\":\"grape\",\"yref\":\"y\"},{\"font\":{\"color\":\"#FFFFFF\"},\"showarrow\":false,\"text\":\"0\",\"x\":\"peach\",\"xref\":\"x\",\"y\":\"grape\",\"yref\":\"y\"},{\"font\":{\"color\":\"#FFFFFF\"},\"showarrow\":false,\"text\":\"0\",\"x\":\"pear\",\"xref\":\"x\",\"y\":\"grape\",\"yref\":\"y\"},{\"font\":{\"color\":\"#FFFFFF\"},\"showarrow\":false,\"text\":\"0\",\"x\":\"plum\",\"xref\":\"x\",\"y\":\"grape\",\"yref\":\"y\"},{\"font\":{\"color\":\"#FFFFFF\"},\"showarrow\":false,\"text\":\"0\",\"x\":\"qiwi\",\"xref\":\"x\",\"y\":\"grape\",\"yref\":\"y\"},{\"font\":{\"color\":\"#FFFFFF\"},\"showarrow\":false,\"text\":\"0\",\"x\":\"sachima\",\"xref\":\"x\",\"y\":\"grape\",\"yref\":\"y\"},{\"font\":{\"color\":\"#FFFFFF\"},\"showarrow\":false,\"text\":\"0\",\"x\":\"tomato\",\"xref\":\"x\",\"y\":\"grape\",\"yref\":\"y\"},{\"font\":{\"color\":\"#FFFFFF\"},\"showarrow\":false,\"text\":\"0\",\"x\":\"apple\",\"xref\":\"x\",\"y\":\"lemon\",\"yref\":\"y\"},{\"font\":{\"color\":\"#FFFFFF\"},\"showarrow\":false,\"text\":\"0\",\"x\":\"banana\",\"xref\":\"x\",\"y\":\"lemon\",\"yref\":\"y\"},{\"font\":{\"color\":\"#FFFFFF\"},\"showarrow\":false,\"text\":\"0\",\"x\":\"bread\",\"xref\":\"x\",\"y\":\"lemon\",\"yref\":\"y\"},{\"font\":{\"color\":\"#FFFFFF\"},\"showarrow\":false,\"text\":\"0\",\"x\":\"bun\",\"xref\":\"x\",\"y\":\"lemon\",\"yref\":\"y\"},{\"font\":{\"color\":\"#FFFFFF\"},\"showarrow\":false,\"text\":\"0\",\"x\":\"doughnut\",\"xref\":\"x\",\"y\":\"lemon\",\"yref\":\"y\"},{\"font\":{\"color\":\"#FFFFFF\"},\"showarrow\":false,\"text\":\"0\",\"x\":\"egg\",\"xref\":\"x\",\"y\":\"lemon\",\"yref\":\"y\"},{\"font\":{\"color\":\"#FFFFFF\"},\"showarrow\":false,\"text\":\"0\",\"x\":\"fired_dough_twist\",\"xref\":\"x\",\"y\":\"lemon\",\"yref\":\"y\"},{\"font\":{\"color\":\"#FFFFFF\"},\"showarrow\":false,\"text\":\"0\",\"x\":\"grape\",\"xref\":\"x\",\"y\":\"lemon\",\"yref\":\"y\"},{\"font\":{\"color\":\"#FFFFFF\"},\"showarrow\":false,\"text\":\"15\",\"x\":\"lemon\",\"xref\":\"x\",\"y\":\"lemon\",\"yref\":\"y\"},{\"font\":{\"color\":\"#FFFFFF\"},\"showarrow\":false,\"text\":\"0\",\"x\":\"litchi\",\"xref\":\"x\",\"y\":\"lemon\",\"yref\":\"y\"},{\"font\":{\"color\":\"#FFFFFF\"},\"showarrow\":false,\"text\":\"0\",\"x\":\"mango\",\"xref\":\"x\",\"y\":\"lemon\",\"yref\":\"y\"},{\"font\":{\"color\":\"#FFFFFF\"},\"showarrow\":false,\"text\":\"0\",\"x\":\"mooncake\",\"xref\":\"x\",\"y\":\"lemon\",\"yref\":\"y\"},{\"font\":{\"color\":\"#FFFFFF\"},\"showarrow\":false,\"text\":\"0\",\"x\":\"orange\",\"xref\":\"x\",\"y\":\"lemon\",\"yref\":\"y\"},{\"font\":{\"color\":\"#FFFFFF\"},\"showarrow\":false,\"text\":\"0\",\"x\":\"peach\",\"xref\":\"x\",\"y\":\"lemon\",\"yref\":\"y\"},{\"font\":{\"color\":\"#FFFFFF\"},\"showarrow\":false,\"text\":\"0\",\"x\":\"pear\",\"xref\":\"x\",\"y\":\"lemon\",\"yref\":\"y\"},{\"font\":{\"color\":\"#FFFFFF\"},\"showarrow\":false,\"text\":\"0\",\"x\":\"plum\",\"xref\":\"x\",\"y\":\"lemon\",\"yref\":\"y\"},{\"font\":{\"color\":\"#FFFFFF\"},\"showarrow\":false,\"text\":\"0\",\"x\":\"qiwi\",\"xref\":\"x\",\"y\":\"lemon\",\"yref\":\"y\"},{\"font\":{\"color\":\"#FFFFFF\"},\"showarrow\":false,\"text\":\"0\",\"x\":\"sachima\",\"xref\":\"x\",\"y\":\"lemon\",\"yref\":\"y\"},{\"font\":{\"color\":\"#FFFFFF\"},\"showarrow\":false,\"text\":\"0\",\"x\":\"tomato\",\"xref\":\"x\",\"y\":\"lemon\",\"yref\":\"y\"},{\"font\":{\"color\":\"#FFFFFF\"},\"showarrow\":false,\"text\":\"0\",\"x\":\"apple\",\"xref\":\"x\",\"y\":\"litchi\",\"yref\":\"y\"},{\"font\":{\"color\":\"#FFFFFF\"},\"showarrow\":false,\"text\":\"0\",\"x\":\"banana\",\"xref\":\"x\",\"y\":\"litchi\",\"yref\":\"y\"},{\"font\":{\"color\":\"#FFFFFF\"},\"showarrow\":false,\"text\":\"0\",\"x\":\"bread\",\"xref\":\"x\",\"y\":\"litchi\",\"yref\":\"y\"},{\"font\":{\"color\":\"#FFFFFF\"},\"showarrow\":false,\"text\":\"0\",\"x\":\"bun\",\"xref\":\"x\",\"y\":\"litchi\",\"yref\":\"y\"},{\"font\":{\"color\":\"#FFFFFF\"},\"showarrow\":false,\"text\":\"0\",\"x\":\"doughnut\",\"xref\":\"x\",\"y\":\"litchi\",\"yref\":\"y\"},{\"font\":{\"color\":\"#FFFFFF\"},\"showarrow\":false,\"text\":\"0\",\"x\":\"egg\",\"xref\":\"x\",\"y\":\"litchi\",\"yref\":\"y\"},{\"font\":{\"color\":\"#FFFFFF\"},\"showarrow\":false,\"text\":\"0\",\"x\":\"fired_dough_twist\",\"xref\":\"x\",\"y\":\"litchi\",\"yref\":\"y\"},{\"font\":{\"color\":\"#FFFFFF\"},\"showarrow\":false,\"text\":\"0\",\"x\":\"grape\",\"xref\":\"x\",\"y\":\"litchi\",\"yref\":\"y\"},{\"font\":{\"color\":\"#FFFFFF\"},\"showarrow\":false,\"text\":\"0\",\"x\":\"lemon\",\"xref\":\"x\",\"y\":\"litchi\",\"yref\":\"y\"},{\"font\":{\"color\":\"#FFFFFF\"},\"showarrow\":false,\"text\":\"8\",\"x\":\"litchi\",\"xref\":\"x\",\"y\":\"litchi\",\"yref\":\"y\"},{\"font\":{\"color\":\"#FFFFFF\"},\"showarrow\":false,\"text\":\"0\",\"x\":\"mango\",\"xref\":\"x\",\"y\":\"litchi\",\"yref\":\"y\"},{\"font\":{\"color\":\"#FFFFFF\"},\"showarrow\":false,\"text\":\"0\",\"x\":\"mooncake\",\"xref\":\"x\",\"y\":\"litchi\",\"yref\":\"y\"},{\"font\":{\"color\":\"#FFFFFF\"},\"showarrow\":false,\"text\":\"0\",\"x\":\"orange\",\"xref\":\"x\",\"y\":\"litchi\",\"yref\":\"y\"},{\"font\":{\"color\":\"#FFFFFF\"},\"showarrow\":false,\"text\":\"0\",\"x\":\"peach\",\"xref\":\"x\",\"y\":\"litchi\",\"yref\":\"y\"},{\"font\":{\"color\":\"#FFFFFF\"},\"showarrow\":false,\"text\":\"0\",\"x\":\"pear\",\"xref\":\"x\",\"y\":\"litchi\",\"yref\":\"y\"},{\"font\":{\"color\":\"#FFFFFF\"},\"showarrow\":false,\"text\":\"0\",\"x\":\"plum\",\"xref\":\"x\",\"y\":\"litchi\",\"yref\":\"y\"},{\"font\":{\"color\":\"#FFFFFF\"},\"showarrow\":false,\"text\":\"0\",\"x\":\"qiwi\",\"xref\":\"x\",\"y\":\"litchi\",\"yref\":\"y\"},{\"font\":{\"color\":\"#FFFFFF\"},\"showarrow\":false,\"text\":\"0\",\"x\":\"sachima\",\"xref\":\"x\",\"y\":\"litchi\",\"yref\":\"y\"},{\"font\":{\"color\":\"#FFFFFF\"},\"showarrow\":false,\"text\":\"0\",\"x\":\"tomato\",\"xref\":\"x\",\"y\":\"litchi\",\"yref\":\"y\"},{\"font\":{\"color\":\"#FFFFFF\"},\"showarrow\":false,\"text\":\"0\",\"x\":\"apple\",\"xref\":\"x\",\"y\":\"mango\",\"yref\":\"y\"},{\"font\":{\"color\":\"#FFFFFF\"},\"showarrow\":false,\"text\":\"0\",\"x\":\"banana\",\"xref\":\"x\",\"y\":\"mango\",\"yref\":\"y\"},{\"font\":{\"color\":\"#FFFFFF\"},\"showarrow\":false,\"text\":\"0\",\"x\":\"bread\",\"xref\":\"x\",\"y\":\"mango\",\"yref\":\"y\"},{\"font\":{\"color\":\"#FFFFFF\"},\"showarrow\":false,\"text\":\"0\",\"x\":\"bun\",\"xref\":\"x\",\"y\":\"mango\",\"yref\":\"y\"},{\"font\":{\"color\":\"#FFFFFF\"},\"showarrow\":false,\"text\":\"0\",\"x\":\"doughnut\",\"xref\":\"x\",\"y\":\"mango\",\"yref\":\"y\"},{\"font\":{\"color\":\"#FFFFFF\"},\"showarrow\":false,\"text\":\"0\",\"x\":\"egg\",\"xref\":\"x\",\"y\":\"mango\",\"yref\":\"y\"},{\"font\":{\"color\":\"#FFFFFF\"},\"showarrow\":false,\"text\":\"0\",\"x\":\"fired_dough_twist\",\"xref\":\"x\",\"y\":\"mango\",\"yref\":\"y\"},{\"font\":{\"color\":\"#FFFFFF\"},\"showarrow\":false,\"text\":\"0\",\"x\":\"grape\",\"xref\":\"x\",\"y\":\"mango\",\"yref\":\"y\"},{\"font\":{\"color\":\"#FFFFFF\"},\"showarrow\":false,\"text\":\"0\",\"x\":\"lemon\",\"xref\":\"x\",\"y\":\"mango\",\"yref\":\"y\"},{\"font\":{\"color\":\"#FFFFFF\"},\"showarrow\":false,\"text\":\"0\",\"x\":\"litchi\",\"xref\":\"x\",\"y\":\"mango\",\"yref\":\"y\"},{\"font\":{\"color\":\"#000000\"},\"showarrow\":false,\"text\":\"20\",\"x\":\"mango\",\"xref\":\"x\",\"y\":\"mango\",\"yref\":\"y\"},{\"font\":{\"color\":\"#FFFFFF\"},\"showarrow\":false,\"text\":\"0\",\"x\":\"mooncake\",\"xref\":\"x\",\"y\":\"mango\",\"yref\":\"y\"},{\"font\":{\"color\":\"#FFFFFF\"},\"showarrow\":false,\"text\":\"0\",\"x\":\"orange\",\"xref\":\"x\",\"y\":\"mango\",\"yref\":\"y\"},{\"font\":{\"color\":\"#FFFFFF\"},\"showarrow\":false,\"text\":\"0\",\"x\":\"peach\",\"xref\":\"x\",\"y\":\"mango\",\"yref\":\"y\"},{\"font\":{\"color\":\"#FFFFFF\"},\"showarrow\":false,\"text\":\"0\",\"x\":\"pear\",\"xref\":\"x\",\"y\":\"mango\",\"yref\":\"y\"},{\"font\":{\"color\":\"#FFFFFF\"},\"showarrow\":false,\"text\":\"0\",\"x\":\"plum\",\"xref\":\"x\",\"y\":\"mango\",\"yref\":\"y\"},{\"font\":{\"color\":\"#FFFFFF\"},\"showarrow\":false,\"text\":\"0\",\"x\":\"qiwi\",\"xref\":\"x\",\"y\":\"mango\",\"yref\":\"y\"},{\"font\":{\"color\":\"#FFFFFF\"},\"showarrow\":false,\"text\":\"0\",\"x\":\"sachima\",\"xref\":\"x\",\"y\":\"mango\",\"yref\":\"y\"},{\"font\":{\"color\":\"#FFFFFF\"},\"showarrow\":false,\"text\":\"0\",\"x\":\"tomato\",\"xref\":\"x\",\"y\":\"mango\",\"yref\":\"y\"},{\"font\":{\"color\":\"#FFFFFF\"},\"showarrow\":false,\"text\":\"0\",\"x\":\"apple\",\"xref\":\"x\",\"y\":\"mooncake\",\"yref\":\"y\"},{\"font\":{\"color\":\"#FFFFFF\"},\"showarrow\":false,\"text\":\"0\",\"x\":\"banana\",\"xref\":\"x\",\"y\":\"mooncake\",\"yref\":\"y\"},{\"font\":{\"color\":\"#FFFFFF\"},\"showarrow\":false,\"text\":\"0\",\"x\":\"bread\",\"xref\":\"x\",\"y\":\"mooncake\",\"yref\":\"y\"},{\"font\":{\"color\":\"#FFFFFF\"},\"showarrow\":false,\"text\":\"0\",\"x\":\"bun\",\"xref\":\"x\",\"y\":\"mooncake\",\"yref\":\"y\"},{\"font\":{\"color\":\"#FFFFFF\"},\"showarrow\":false,\"text\":\"1\",\"x\":\"doughnut\",\"xref\":\"x\",\"y\":\"mooncake\",\"yref\":\"y\"},{\"font\":{\"color\":\"#FFFFFF\"},\"showarrow\":false,\"text\":\"0\",\"x\":\"egg\",\"xref\":\"x\",\"y\":\"mooncake\",\"yref\":\"y\"},{\"font\":{\"color\":\"#FFFFFF\"},\"showarrow\":false,\"text\":\"0\",\"x\":\"fired_dough_twist\",\"xref\":\"x\",\"y\":\"mooncake\",\"yref\":\"y\"},{\"font\":{\"color\":\"#FFFFFF\"},\"showarrow\":false,\"text\":\"0\",\"x\":\"grape\",\"xref\":\"x\",\"y\":\"mooncake\",\"yref\":\"y\"},{\"font\":{\"color\":\"#FFFFFF\"},\"showarrow\":false,\"text\":\"0\",\"x\":\"lemon\",\"xref\":\"x\",\"y\":\"mooncake\",\"yref\":\"y\"},{\"font\":{\"color\":\"#FFFFFF\"},\"showarrow\":false,\"text\":\"0\",\"x\":\"litchi\",\"xref\":\"x\",\"y\":\"mooncake\",\"yref\":\"y\"},{\"font\":{\"color\":\"#FFFFFF\"},\"showarrow\":false,\"text\":\"0\",\"x\":\"mango\",\"xref\":\"x\",\"y\":\"mooncake\",\"yref\":\"y\"},{\"font\":{\"color\":\"#FFFFFF\"},\"showarrow\":false,\"text\":\"11\",\"x\":\"mooncake\",\"xref\":\"x\",\"y\":\"mooncake\",\"yref\":\"y\"},{\"font\":{\"color\":\"#FFFFFF\"},\"showarrow\":false,\"text\":\"0\",\"x\":\"orange\",\"xref\":\"x\",\"y\":\"mooncake\",\"yref\":\"y\"},{\"font\":{\"color\":\"#FFFFFF\"},\"showarrow\":false,\"text\":\"0\",\"x\":\"peach\",\"xref\":\"x\",\"y\":\"mooncake\",\"yref\":\"y\"},{\"font\":{\"color\":\"#FFFFFF\"},\"showarrow\":false,\"text\":\"0\",\"x\":\"pear\",\"xref\":\"x\",\"y\":\"mooncake\",\"yref\":\"y\"},{\"font\":{\"color\":\"#FFFFFF\"},\"showarrow\":false,\"text\":\"0\",\"x\":\"plum\",\"xref\":\"x\",\"y\":\"mooncake\",\"yref\":\"y\"},{\"font\":{\"color\":\"#FFFFFF\"},\"showarrow\":false,\"text\":\"0\",\"x\":\"qiwi\",\"xref\":\"x\",\"y\":\"mooncake\",\"yref\":\"y\"},{\"font\":{\"color\":\"#FFFFFF\"},\"showarrow\":false,\"text\":\"0\",\"x\":\"sachima\",\"xref\":\"x\",\"y\":\"mooncake\",\"yref\":\"y\"},{\"font\":{\"color\":\"#FFFFFF\"},\"showarrow\":false,\"text\":\"0\",\"x\":\"tomato\",\"xref\":\"x\",\"y\":\"mooncake\",\"yref\":\"y\"},{\"font\":{\"color\":\"#FFFFFF\"},\"showarrow\":false,\"text\":\"0\",\"x\":\"apple\",\"xref\":\"x\",\"y\":\"orange\",\"yref\":\"y\"},{\"font\":{\"color\":\"#FFFFFF\"},\"showarrow\":false,\"text\":\"0\",\"x\":\"banana\",\"xref\":\"x\",\"y\":\"orange\",\"yref\":\"y\"},{\"font\":{\"color\":\"#FFFFFF\"},\"showarrow\":false,\"text\":\"0\",\"x\":\"bread\",\"xref\":\"x\",\"y\":\"orange\",\"yref\":\"y\"},{\"font\":{\"color\":\"#FFFFFF\"},\"showarrow\":false,\"text\":\"0\",\"x\":\"bun\",\"xref\":\"x\",\"y\":\"orange\",\"yref\":\"y\"},{\"font\":{\"color\":\"#FFFFFF\"},\"showarrow\":false,\"text\":\"0\",\"x\":\"doughnut\",\"xref\":\"x\",\"y\":\"orange\",\"yref\":\"y\"},{\"font\":{\"color\":\"#FFFFFF\"},\"showarrow\":false,\"text\":\"0\",\"x\":\"egg\",\"xref\":\"x\",\"y\":\"orange\",\"yref\":\"y\"},{\"font\":{\"color\":\"#FFFFFF\"},\"showarrow\":false,\"text\":\"0\",\"x\":\"fired_dough_twist\",\"xref\":\"x\",\"y\":\"orange\",\"yref\":\"y\"},{\"font\":{\"color\":\"#FFFFFF\"},\"showarrow\":false,\"text\":\"0\",\"x\":\"grape\",\"xref\":\"x\",\"y\":\"orange\",\"yref\":\"y\"},{\"font\":{\"color\":\"#FFFFFF\"},\"showarrow\":false,\"text\":\"0\",\"x\":\"lemon\",\"xref\":\"x\",\"y\":\"orange\",\"yref\":\"y\"},{\"font\":{\"color\":\"#FFFFFF\"},\"showarrow\":false,\"text\":\"0\",\"x\":\"litchi\",\"xref\":\"x\",\"y\":\"orange\",\"yref\":\"y\"},{\"font\":{\"color\":\"#FFFFFF\"},\"showarrow\":false,\"text\":\"2\",\"x\":\"mango\",\"xref\":\"x\",\"y\":\"orange\",\"yref\":\"y\"},{\"font\":{\"color\":\"#FFFFFF\"},\"showarrow\":false,\"text\":\"0\",\"x\":\"mooncake\",\"xref\":\"x\",\"y\":\"orange\",\"yref\":\"y\"},{\"font\":{\"color\":\"#000000\"},\"showarrow\":false,\"text\":\"31\",\"x\":\"orange\",\"xref\":\"x\",\"y\":\"orange\",\"yref\":\"y\"},{\"font\":{\"color\":\"#FFFFFF\"},\"showarrow\":false,\"text\":\"0\",\"x\":\"peach\",\"xref\":\"x\",\"y\":\"orange\",\"yref\":\"y\"},{\"font\":{\"color\":\"#FFFFFF\"},\"showarrow\":false,\"text\":\"0\",\"x\":\"pear\",\"xref\":\"x\",\"y\":\"orange\",\"yref\":\"y\"},{\"font\":{\"color\":\"#FFFFFF\"},\"showarrow\":false,\"text\":\"0\",\"x\":\"plum\",\"xref\":\"x\",\"y\":\"orange\",\"yref\":\"y\"},{\"font\":{\"color\":\"#FFFFFF\"},\"showarrow\":false,\"text\":\"0\",\"x\":\"qiwi\",\"xref\":\"x\",\"y\":\"orange\",\"yref\":\"y\"},{\"font\":{\"color\":\"#FFFFFF\"},\"showarrow\":false,\"text\":\"0\",\"x\":\"sachima\",\"xref\":\"x\",\"y\":\"orange\",\"yref\":\"y\"},{\"font\":{\"color\":\"#FFFFFF\"},\"showarrow\":false,\"text\":\"0\",\"x\":\"tomato\",\"xref\":\"x\",\"y\":\"orange\",\"yref\":\"y\"},{\"font\":{\"color\":\"#FFFFFF\"},\"showarrow\":false,\"text\":\"0\",\"x\":\"apple\",\"xref\":\"x\",\"y\":\"peach\",\"yref\":\"y\"},{\"font\":{\"color\":\"#FFFFFF\"},\"showarrow\":false,\"text\":\"0\",\"x\":\"banana\",\"xref\":\"x\",\"y\":\"peach\",\"yref\":\"y\"},{\"font\":{\"color\":\"#FFFFFF\"},\"showarrow\":false,\"text\":\"0\",\"x\":\"bread\",\"xref\":\"x\",\"y\":\"peach\",\"yref\":\"y\"},{\"font\":{\"color\":\"#FFFFFF\"},\"showarrow\":false,\"text\":\"0\",\"x\":\"bun\",\"xref\":\"x\",\"y\":\"peach\",\"yref\":\"y\"},{\"font\":{\"color\":\"#FFFFFF\"},\"showarrow\":false,\"text\":\"0\",\"x\":\"doughnut\",\"xref\":\"x\",\"y\":\"peach\",\"yref\":\"y\"},{\"font\":{\"color\":\"#FFFFFF\"},\"showarrow\":false,\"text\":\"0\",\"x\":\"egg\",\"xref\":\"x\",\"y\":\"peach\",\"yref\":\"y\"},{\"font\":{\"color\":\"#FFFFFF\"},\"showarrow\":false,\"text\":\"0\",\"x\":\"fired_dough_twist\",\"xref\":\"x\",\"y\":\"peach\",\"yref\":\"y\"},{\"font\":{\"color\":\"#FFFFFF\"},\"showarrow\":false,\"text\":\"0\",\"x\":\"grape\",\"xref\":\"x\",\"y\":\"peach\",\"yref\":\"y\"},{\"font\":{\"color\":\"#FFFFFF\"},\"showarrow\":false,\"text\":\"0\",\"x\":\"lemon\",\"xref\":\"x\",\"y\":\"peach\",\"yref\":\"y\"},{\"font\":{\"color\":\"#FFFFFF\"},\"showarrow\":false,\"text\":\"0\",\"x\":\"litchi\",\"xref\":\"x\",\"y\":\"peach\",\"yref\":\"y\"},{\"font\":{\"color\":\"#FFFFFF\"},\"showarrow\":false,\"text\":\"0\",\"x\":\"mango\",\"xref\":\"x\",\"y\":\"peach\",\"yref\":\"y\"},{\"font\":{\"color\":\"#FFFFFF\"},\"showarrow\":false,\"text\":\"0\",\"x\":\"mooncake\",\"xref\":\"x\",\"y\":\"peach\",\"yref\":\"y\"},{\"font\":{\"color\":\"#FFFFFF\"},\"showarrow\":false,\"text\":\"0\",\"x\":\"orange\",\"xref\":\"x\",\"y\":\"peach\",\"yref\":\"y\"},{\"font\":{\"color\":\"#FFFFFF\"},\"showarrow\":false,\"text\":\"13\",\"x\":\"peach\",\"xref\":\"x\",\"y\":\"peach\",\"yref\":\"y\"},{\"font\":{\"color\":\"#FFFFFF\"},\"showarrow\":false,\"text\":\"0\",\"x\":\"pear\",\"xref\":\"x\",\"y\":\"peach\",\"yref\":\"y\"},{\"font\":{\"color\":\"#FFFFFF\"},\"showarrow\":false,\"text\":\"0\",\"x\":\"plum\",\"xref\":\"x\",\"y\":\"peach\",\"yref\":\"y\"},{\"font\":{\"color\":\"#FFFFFF\"},\"showarrow\":false,\"text\":\"0\",\"x\":\"qiwi\",\"xref\":\"x\",\"y\":\"peach\",\"yref\":\"y\"},{\"font\":{\"color\":\"#FFFFFF\"},\"showarrow\":false,\"text\":\"0\",\"x\":\"sachima\",\"xref\":\"x\",\"y\":\"peach\",\"yref\":\"y\"},{\"font\":{\"color\":\"#FFFFFF\"},\"showarrow\":false,\"text\":\"0\",\"x\":\"tomato\",\"xref\":\"x\",\"y\":\"peach\",\"yref\":\"y\"},{\"font\":{\"color\":\"#FFFFFF\"},\"showarrow\":false,\"text\":\"0\",\"x\":\"apple\",\"xref\":\"x\",\"y\":\"pear\",\"yref\":\"y\"},{\"font\":{\"color\":\"#FFFFFF\"},\"showarrow\":false,\"text\":\"0\",\"x\":\"banana\",\"xref\":\"x\",\"y\":\"pear\",\"yref\":\"y\"},{\"font\":{\"color\":\"#FFFFFF\"},\"showarrow\":false,\"text\":\"0\",\"x\":\"bread\",\"xref\":\"x\",\"y\":\"pear\",\"yref\":\"y\"},{\"font\":{\"color\":\"#FFFFFF\"},\"showarrow\":false,\"text\":\"0\",\"x\":\"bun\",\"xref\":\"x\",\"y\":\"pear\",\"yref\":\"y\"},{\"font\":{\"color\":\"#FFFFFF\"},\"showarrow\":false,\"text\":\"0\",\"x\":\"doughnut\",\"xref\":\"x\",\"y\":\"pear\",\"yref\":\"y\"},{\"font\":{\"color\":\"#FFFFFF\"},\"showarrow\":false,\"text\":\"0\",\"x\":\"egg\",\"xref\":\"x\",\"y\":\"pear\",\"yref\":\"y\"},{\"font\":{\"color\":\"#FFFFFF\"},\"showarrow\":false,\"text\":\"0\",\"x\":\"fired_dough_twist\",\"xref\":\"x\",\"y\":\"pear\",\"yref\":\"y\"},{\"font\":{\"color\":\"#FFFFFF\"},\"showarrow\":false,\"text\":\"0\",\"x\":\"grape\",\"xref\":\"x\",\"y\":\"pear\",\"yref\":\"y\"},{\"font\":{\"color\":\"#FFFFFF\"},\"showarrow\":false,\"text\":\"0\",\"x\":\"lemon\",\"xref\":\"x\",\"y\":\"pear\",\"yref\":\"y\"},{\"font\":{\"color\":\"#FFFFFF\"},\"showarrow\":false,\"text\":\"0\",\"x\":\"litchi\",\"xref\":\"x\",\"y\":\"pear\",\"yref\":\"y\"},{\"font\":{\"color\":\"#FFFFFF\"},\"showarrow\":false,\"text\":\"0\",\"x\":\"mango\",\"xref\":\"x\",\"y\":\"pear\",\"yref\":\"y\"},{\"font\":{\"color\":\"#FFFFFF\"},\"showarrow\":false,\"text\":\"0\",\"x\":\"mooncake\",\"xref\":\"x\",\"y\":\"pear\",\"yref\":\"y\"},{\"font\":{\"color\":\"#FFFFFF\"},\"showarrow\":false,\"text\":\"0\",\"x\":\"orange\",\"xref\":\"x\",\"y\":\"pear\",\"yref\":\"y\"},{\"font\":{\"color\":\"#FFFFFF\"},\"showarrow\":false,\"text\":\"0\",\"x\":\"peach\",\"xref\":\"x\",\"y\":\"pear\",\"yref\":\"y\"},{\"font\":{\"color\":\"#000000\"},\"showarrow\":false,\"text\":\"16\",\"x\":\"pear\",\"xref\":\"x\",\"y\":\"pear\",\"yref\":\"y\"},{\"font\":{\"color\":\"#FFFFFF\"},\"showarrow\":false,\"text\":\"0\",\"x\":\"plum\",\"xref\":\"x\",\"y\":\"pear\",\"yref\":\"y\"},{\"font\":{\"color\":\"#FFFFFF\"},\"showarrow\":false,\"text\":\"0\",\"x\":\"qiwi\",\"xref\":\"x\",\"y\":\"pear\",\"yref\":\"y\"},{\"font\":{\"color\":\"#FFFFFF\"},\"showarrow\":false,\"text\":\"0\",\"x\":\"sachima\",\"xref\":\"x\",\"y\":\"pear\",\"yref\":\"y\"},{\"font\":{\"color\":\"#FFFFFF\"},\"showarrow\":false,\"text\":\"0\",\"x\":\"tomato\",\"xref\":\"x\",\"y\":\"pear\",\"yref\":\"y\"},{\"font\":{\"color\":\"#FFFFFF\"},\"showarrow\":false,\"text\":\"0\",\"x\":\"apple\",\"xref\":\"x\",\"y\":\"plum\",\"yref\":\"y\"},{\"font\":{\"color\":\"#FFFFFF\"},\"showarrow\":false,\"text\":\"0\",\"x\":\"banana\",\"xref\":\"x\",\"y\":\"plum\",\"yref\":\"y\"},{\"font\":{\"color\":\"#FFFFFF\"},\"showarrow\":false,\"text\":\"0\",\"x\":\"bread\",\"xref\":\"x\",\"y\":\"plum\",\"yref\":\"y\"},{\"font\":{\"color\":\"#FFFFFF\"},\"showarrow\":false,\"text\":\"0\",\"x\":\"bun\",\"xref\":\"x\",\"y\":\"plum\",\"yref\":\"y\"},{\"font\":{\"color\":\"#FFFFFF\"},\"showarrow\":false,\"text\":\"0\",\"x\":\"doughnut\",\"xref\":\"x\",\"y\":\"plum\",\"yref\":\"y\"},{\"font\":{\"color\":\"#FFFFFF\"},\"showarrow\":false,\"text\":\"0\",\"x\":\"egg\",\"xref\":\"x\",\"y\":\"plum\",\"yref\":\"y\"},{\"font\":{\"color\":\"#FFFFFF\"},\"showarrow\":false,\"text\":\"0\",\"x\":\"fired_dough_twist\",\"xref\":\"x\",\"y\":\"plum\",\"yref\":\"y\"},{\"font\":{\"color\":\"#FFFFFF\"},\"showarrow\":false,\"text\":\"0\",\"x\":\"grape\",\"xref\":\"x\",\"y\":\"plum\",\"yref\":\"y\"},{\"font\":{\"color\":\"#FFFFFF\"},\"showarrow\":false,\"text\":\"0\",\"x\":\"lemon\",\"xref\":\"x\",\"y\":\"plum\",\"yref\":\"y\"},{\"font\":{\"color\":\"#FFFFFF\"},\"showarrow\":false,\"text\":\"0\",\"x\":\"litchi\",\"xref\":\"x\",\"y\":\"plum\",\"yref\":\"y\"},{\"font\":{\"color\":\"#FFFFFF\"},\"showarrow\":false,\"text\":\"0\",\"x\":\"mango\",\"xref\":\"x\",\"y\":\"plum\",\"yref\":\"y\"},{\"font\":{\"color\":\"#FFFFFF\"},\"showarrow\":false,\"text\":\"0\",\"x\":\"mooncake\",\"xref\":\"x\",\"y\":\"plum\",\"yref\":\"y\"},{\"font\":{\"color\":\"#FFFFFF\"},\"showarrow\":false,\"text\":\"0\",\"x\":\"orange\",\"xref\":\"x\",\"y\":\"plum\",\"yref\":\"y\"},{\"font\":{\"color\":\"#FFFFFF\"},\"showarrow\":false,\"text\":\"0\",\"x\":\"peach\",\"xref\":\"x\",\"y\":\"plum\",\"yref\":\"y\"},{\"font\":{\"color\":\"#FFFFFF\"},\"showarrow\":false,\"text\":\"0\",\"x\":\"pear\",\"xref\":\"x\",\"y\":\"plum\",\"yref\":\"y\"},{\"font\":{\"color\":\"#000000\"},\"showarrow\":false,\"text\":\"21\",\"x\":\"plum\",\"xref\":\"x\",\"y\":\"plum\",\"yref\":\"y\"},{\"font\":{\"color\":\"#FFFFFF\"},\"showarrow\":false,\"text\":\"0\",\"x\":\"qiwi\",\"xref\":\"x\",\"y\":\"plum\",\"yref\":\"y\"},{\"font\":{\"color\":\"#FFFFFF\"},\"showarrow\":false,\"text\":\"0\",\"x\":\"sachima\",\"xref\":\"x\",\"y\":\"plum\",\"yref\":\"y\"},{\"font\":{\"color\":\"#FFFFFF\"},\"showarrow\":false,\"text\":\"0\",\"x\":\"tomato\",\"xref\":\"x\",\"y\":\"plum\",\"yref\":\"y\"},{\"font\":{\"color\":\"#FFFFFF\"},\"showarrow\":false,\"text\":\"0\",\"x\":\"apple\",\"xref\":\"x\",\"y\":\"qiwi\",\"yref\":\"y\"},{\"font\":{\"color\":\"#FFFFFF\"},\"showarrow\":false,\"text\":\"0\",\"x\":\"banana\",\"xref\":\"x\",\"y\":\"qiwi\",\"yref\":\"y\"},{\"font\":{\"color\":\"#FFFFFF\"},\"showarrow\":false,\"text\":\"0\",\"x\":\"bread\",\"xref\":\"x\",\"y\":\"qiwi\",\"yref\":\"y\"},{\"font\":{\"color\":\"#FFFFFF\"},\"showarrow\":false,\"text\":\"0\",\"x\":\"bun\",\"xref\":\"x\",\"y\":\"qiwi\",\"yref\":\"y\"},{\"font\":{\"color\":\"#FFFFFF\"},\"showarrow\":false,\"text\":\"0\",\"x\":\"doughnut\",\"xref\":\"x\",\"y\":\"qiwi\",\"yref\":\"y\"},{\"font\":{\"color\":\"#FFFFFF\"},\"showarrow\":false,\"text\":\"0\",\"x\":\"egg\",\"xref\":\"x\",\"y\":\"qiwi\",\"yref\":\"y\"},{\"font\":{\"color\":\"#FFFFFF\"},\"showarrow\":false,\"text\":\"0\",\"x\":\"fired_dough_twist\",\"xref\":\"x\",\"y\":\"qiwi\",\"yref\":\"y\"},{\"font\":{\"color\":\"#FFFFFF\"},\"showarrow\":false,\"text\":\"0\",\"x\":\"grape\",\"xref\":\"x\",\"y\":\"qiwi\",\"yref\":\"y\"},{\"font\":{\"color\":\"#FFFFFF\"},\"showarrow\":false,\"text\":\"0\",\"x\":\"lemon\",\"xref\":\"x\",\"y\":\"qiwi\",\"yref\":\"y\"},{\"font\":{\"color\":\"#FFFFFF\"},\"showarrow\":false,\"text\":\"0\",\"x\":\"litchi\",\"xref\":\"x\",\"y\":\"qiwi\",\"yref\":\"y\"},{\"font\":{\"color\":\"#FFFFFF\"},\"showarrow\":false,\"text\":\"0\",\"x\":\"mango\",\"xref\":\"x\",\"y\":\"qiwi\",\"yref\":\"y\"},{\"font\":{\"color\":\"#FFFFFF\"},\"showarrow\":false,\"text\":\"0\",\"x\":\"mooncake\",\"xref\":\"x\",\"y\":\"qiwi\",\"yref\":\"y\"},{\"font\":{\"color\":\"#FFFFFF\"},\"showarrow\":false,\"text\":\"0\",\"x\":\"orange\",\"xref\":\"x\",\"y\":\"qiwi\",\"yref\":\"y\"},{\"font\":{\"color\":\"#FFFFFF\"},\"showarrow\":false,\"text\":\"0\",\"x\":\"peach\",\"xref\":\"x\",\"y\":\"qiwi\",\"yref\":\"y\"},{\"font\":{\"color\":\"#FFFFFF\"},\"showarrow\":false,\"text\":\"0\",\"x\":\"pear\",\"xref\":\"x\",\"y\":\"qiwi\",\"yref\":\"y\"},{\"font\":{\"color\":\"#FFFFFF\"},\"showarrow\":false,\"text\":\"0\",\"x\":\"plum\",\"xref\":\"x\",\"y\":\"qiwi\",\"yref\":\"y\"},{\"font\":{\"color\":\"#FFFFFF\"},\"showarrow\":false,\"text\":\"14\",\"x\":\"qiwi\",\"xref\":\"x\",\"y\":\"qiwi\",\"yref\":\"y\"},{\"font\":{\"color\":\"#FFFFFF\"},\"showarrow\":false,\"text\":\"0\",\"x\":\"sachima\",\"xref\":\"x\",\"y\":\"qiwi\",\"yref\":\"y\"},{\"font\":{\"color\":\"#FFFFFF\"},\"showarrow\":false,\"text\":\"0\",\"x\":\"tomato\",\"xref\":\"x\",\"y\":\"qiwi\",\"yref\":\"y\"},{\"font\":{\"color\":\"#FFFFFF\"},\"showarrow\":false,\"text\":\"0\",\"x\":\"apple\",\"xref\":\"x\",\"y\":\"sachima\",\"yref\":\"y\"},{\"font\":{\"color\":\"#FFFFFF\"},\"showarrow\":false,\"text\":\"0\",\"x\":\"banana\",\"xref\":\"x\",\"y\":\"sachima\",\"yref\":\"y\"},{\"font\":{\"color\":\"#FFFFFF\"},\"showarrow\":false,\"text\":\"0\",\"x\":\"bread\",\"xref\":\"x\",\"y\":\"sachima\",\"yref\":\"y\"},{\"font\":{\"color\":\"#FFFFFF\"},\"showarrow\":false,\"text\":\"0\",\"x\":\"bun\",\"xref\":\"x\",\"y\":\"sachima\",\"yref\":\"y\"},{\"font\":{\"color\":\"#FFFFFF\"},\"showarrow\":false,\"text\":\"0\",\"x\":\"doughnut\",\"xref\":\"x\",\"y\":\"sachima\",\"yref\":\"y\"},{\"font\":{\"color\":\"#FFFFFF\"},\"showarrow\":false,\"text\":\"0\",\"x\":\"egg\",\"xref\":\"x\",\"y\":\"sachima\",\"yref\":\"y\"},{\"font\":{\"color\":\"#FFFFFF\"},\"showarrow\":false,\"text\":\"0\",\"x\":\"fired_dough_twist\",\"xref\":\"x\",\"y\":\"sachima\",\"yref\":\"y\"},{\"font\":{\"color\":\"#FFFFFF\"},\"showarrow\":false,\"text\":\"0\",\"x\":\"grape\",\"xref\":\"x\",\"y\":\"sachima\",\"yref\":\"y\"},{\"font\":{\"color\":\"#FFFFFF\"},\"showarrow\":false,\"text\":\"0\",\"x\":\"lemon\",\"xref\":\"x\",\"y\":\"sachima\",\"yref\":\"y\"},{\"font\":{\"color\":\"#FFFFFF\"},\"showarrow\":false,\"text\":\"0\",\"x\":\"litchi\",\"xref\":\"x\",\"y\":\"sachima\",\"yref\":\"y\"},{\"font\":{\"color\":\"#FFFFFF\"},\"showarrow\":false,\"text\":\"0\",\"x\":\"mango\",\"xref\":\"x\",\"y\":\"sachima\",\"yref\":\"y\"},{\"font\":{\"color\":\"#FFFFFF\"},\"showarrow\":false,\"text\":\"0\",\"x\":\"mooncake\",\"xref\":\"x\",\"y\":\"sachima\",\"yref\":\"y\"},{\"font\":{\"color\":\"#FFFFFF\"},\"showarrow\":false,\"text\":\"0\",\"x\":\"orange\",\"xref\":\"x\",\"y\":\"sachima\",\"yref\":\"y\"},{\"font\":{\"color\":\"#FFFFFF\"},\"showarrow\":false,\"text\":\"0\",\"x\":\"peach\",\"xref\":\"x\",\"y\":\"sachima\",\"yref\":\"y\"},{\"font\":{\"color\":\"#FFFFFF\"},\"showarrow\":false,\"text\":\"1\",\"x\":\"pear\",\"xref\":\"x\",\"y\":\"sachima\",\"yref\":\"y\"},{\"font\":{\"color\":\"#FFFFFF\"},\"showarrow\":false,\"text\":\"0\",\"x\":\"plum\",\"xref\":\"x\",\"y\":\"sachima\",\"yref\":\"y\"},{\"font\":{\"color\":\"#FFFFFF\"},\"showarrow\":false,\"text\":\"0\",\"x\":\"qiwi\",\"xref\":\"x\",\"y\":\"sachima\",\"yref\":\"y\"},{\"font\":{\"color\":\"#FFFFFF\"},\"showarrow\":false,\"text\":\"14\",\"x\":\"sachima\",\"xref\":\"x\",\"y\":\"sachima\",\"yref\":\"y\"},{\"font\":{\"color\":\"#FFFFFF\"},\"showarrow\":false,\"text\":\"0\",\"x\":\"tomato\",\"xref\":\"x\",\"y\":\"sachima\",\"yref\":\"y\"},{\"font\":{\"color\":\"#FFFFFF\"},\"showarrow\":false,\"text\":\"0\",\"x\":\"apple\",\"xref\":\"x\",\"y\":\"tomato\",\"yref\":\"y\"},{\"font\":{\"color\":\"#FFFFFF\"},\"showarrow\":false,\"text\":\"0\",\"x\":\"banana\",\"xref\":\"x\",\"y\":\"tomato\",\"yref\":\"y\"},{\"font\":{\"color\":\"#FFFFFF\"},\"showarrow\":false,\"text\":\"0\",\"x\":\"bread\",\"xref\":\"x\",\"y\":\"tomato\",\"yref\":\"y\"},{\"font\":{\"color\":\"#FFFFFF\"},\"showarrow\":false,\"text\":\"0\",\"x\":\"bun\",\"xref\":\"x\",\"y\":\"tomato\",\"yref\":\"y\"},{\"font\":{\"color\":\"#FFFFFF\"},\"showarrow\":false,\"text\":\"0\",\"x\":\"doughnut\",\"xref\":\"x\",\"y\":\"tomato\",\"yref\":\"y\"},{\"font\":{\"color\":\"#FFFFFF\"},\"showarrow\":false,\"text\":\"1\",\"x\":\"egg\",\"xref\":\"x\",\"y\":\"tomato\",\"yref\":\"y\"},{\"font\":{\"color\":\"#FFFFFF\"},\"showarrow\":false,\"text\":\"0\",\"x\":\"fired_dough_twist\",\"xref\":\"x\",\"y\":\"tomato\",\"yref\":\"y\"},{\"font\":{\"color\":\"#FFFFFF\"},\"showarrow\":false,\"text\":\"0\",\"x\":\"grape\",\"xref\":\"x\",\"y\":\"tomato\",\"yref\":\"y\"},{\"font\":{\"color\":\"#FFFFFF\"},\"showarrow\":false,\"text\":\"0\",\"x\":\"lemon\",\"xref\":\"x\",\"y\":\"tomato\",\"yref\":\"y\"},{\"font\":{\"color\":\"#FFFFFF\"},\"showarrow\":false,\"text\":\"0\",\"x\":\"litchi\",\"xref\":\"x\",\"y\":\"tomato\",\"yref\":\"y\"},{\"font\":{\"color\":\"#FFFFFF\"},\"showarrow\":false,\"text\":\"0\",\"x\":\"mango\",\"xref\":\"x\",\"y\":\"tomato\",\"yref\":\"y\"},{\"font\":{\"color\":\"#FFFFFF\"},\"showarrow\":false,\"text\":\"0\",\"x\":\"mooncake\",\"xref\":\"x\",\"y\":\"tomato\",\"yref\":\"y\"},{\"font\":{\"color\":\"#FFFFFF\"},\"showarrow\":false,\"text\":\"0\",\"x\":\"orange\",\"xref\":\"x\",\"y\":\"tomato\",\"yref\":\"y\"},{\"font\":{\"color\":\"#FFFFFF\"},\"showarrow\":false,\"text\":\"0\",\"x\":\"peach\",\"xref\":\"x\",\"y\":\"tomato\",\"yref\":\"y\"},{\"font\":{\"color\":\"#FFFFFF\"},\"showarrow\":false,\"text\":\"0\",\"x\":\"pear\",\"xref\":\"x\",\"y\":\"tomato\",\"yref\":\"y\"},{\"font\":{\"color\":\"#FFFFFF\"},\"showarrow\":false,\"text\":\"0\",\"x\":\"plum\",\"xref\":\"x\",\"y\":\"tomato\",\"yref\":\"y\"},{\"font\":{\"color\":\"#FFFFFF\"},\"showarrow\":false,\"text\":\"0\",\"x\":\"qiwi\",\"xref\":\"x\",\"y\":\"tomato\",\"yref\":\"y\"},{\"font\":{\"color\":\"#FFFFFF\"},\"showarrow\":false,\"text\":\"0\",\"x\":\"sachima\",\"xref\":\"x\",\"y\":\"tomato\",\"yref\":\"y\"},{\"font\":{\"color\":\"#FFFFFF\"},\"showarrow\":false,\"text\":\"13\",\"x\":\"tomato\",\"xref\":\"x\",\"y\":\"tomato\",\"yref\":\"y\"}],\"xaxis\":{\"dtick\":1,\"gridcolor\":\"rgb(0, 0, 0)\",\"side\":\"top\",\"ticks\":\"\",\"title\":{\"text\":\"Predicted\"}},\"yaxis\":{\"dtick\":1,\"ticks\":\"\",\"ticksuffix\":\"  \",\"title\":{\"text\":\"True\"},\"autorange\":\"reversed\"},\"template\":{\"data\":{\"histogram2dcontour\":[{\"type\":\"histogram2dcontour\",\"colorbar\":{\"outlinewidth\":0,\"ticks\":\"\"},\"colorscale\":[[0.0,\"#0d0887\"],[0.1111111111111111,\"#46039f\"],[0.2222222222222222,\"#7201a8\"],[0.3333333333333333,\"#9c179e\"],[0.4444444444444444,\"#bd3786\"],[0.5555555555555556,\"#d8576b\"],[0.6666666666666666,\"#ed7953\"],[0.7777777777777778,\"#fb9f3a\"],[0.8888888888888888,\"#fdca26\"],[1.0,\"#f0f921\"]]}],\"choropleth\":[{\"type\":\"choropleth\",\"colorbar\":{\"outlinewidth\":0,\"ticks\":\"\"}}],\"histogram2d\":[{\"type\":\"histogram2d\",\"colorbar\":{\"outlinewidth\":0,\"ticks\":\"\"},\"colorscale\":[[0.0,\"#0d0887\"],[0.1111111111111111,\"#46039f\"],[0.2222222222222222,\"#7201a8\"],[0.3333333333333333,\"#9c179e\"],[0.4444444444444444,\"#bd3786\"],[0.5555555555555556,\"#d8576b\"],[0.6666666666666666,\"#ed7953\"],[0.7777777777777778,\"#fb9f3a\"],[0.8888888888888888,\"#fdca26\"],[1.0,\"#f0f921\"]]}],\"heatmap\":[{\"type\":\"heatmap\",\"colorbar\":{\"outlinewidth\":0,\"ticks\":\"\"},\"colorscale\":[[0.0,\"#0d0887\"],[0.1111111111111111,\"#46039f\"],[0.2222222222222222,\"#7201a8\"],[0.3333333333333333,\"#9c179e\"],[0.4444444444444444,\"#bd3786\"],[0.5555555555555556,\"#d8576b\"],[0.6666666666666666,\"#ed7953\"],[0.7777777777777778,\"#fb9f3a\"],[0.8888888888888888,\"#fdca26\"],[1.0,\"#f0f921\"]]}],\"heatmapgl\":[{\"type\":\"heatmapgl\",\"colorbar\":{\"outlinewidth\":0,\"ticks\":\"\"},\"colorscale\":[[0.0,\"#0d0887\"],[0.1111111111111111,\"#46039f\"],[0.2222222222222222,\"#7201a8\"],[0.3333333333333333,\"#9c179e\"],[0.4444444444444444,\"#bd3786\"],[0.5555555555555556,\"#d8576b\"],[0.6666666666666666,\"#ed7953\"],[0.7777777777777778,\"#fb9f3a\"],[0.8888888888888888,\"#fdca26\"],[1.0,\"#f0f921\"]]}],\"contourcarpet\":[{\"type\":\"contourcarpet\",\"colorbar\":{\"outlinewidth\":0,\"ticks\":\"\"}}],\"contour\":[{\"type\":\"contour\",\"colorbar\":{\"outlinewidth\":0,\"ticks\":\"\"},\"colorscale\":[[0.0,\"#0d0887\"],[0.1111111111111111,\"#46039f\"],[0.2222222222222222,\"#7201a8\"],[0.3333333333333333,\"#9c179e\"],[0.4444444444444444,\"#bd3786\"],[0.5555555555555556,\"#d8576b\"],[0.6666666666666666,\"#ed7953\"],[0.7777777777777778,\"#fb9f3a\"],[0.8888888888888888,\"#fdca26\"],[1.0,\"#f0f921\"]]}],\"surface\":[{\"type\":\"surface\",\"colorbar\":{\"outlinewidth\":0,\"ticks\":\"\"},\"colorscale\":[[0.0,\"#0d0887\"],[0.1111111111111111,\"#46039f\"],[0.2222222222222222,\"#7201a8\"],[0.3333333333333333,\"#9c179e\"],[0.4444444444444444,\"#bd3786\"],[0.5555555555555556,\"#d8576b\"],[0.6666666666666666,\"#ed7953\"],[0.7777777777777778,\"#fb9f3a\"],[0.8888888888888888,\"#fdca26\"],[1.0,\"#f0f921\"]]}],\"mesh3d\":[{\"type\":\"mesh3d\",\"colorbar\":{\"outlinewidth\":0,\"ticks\":\"\"}}],\"scatter\":[{\"fillpattern\":{\"fillmode\":\"overlay\",\"size\":10,\"solidity\":0.2},\"type\":\"scatter\"}],\"parcoords\":[{\"type\":\"parcoords\",\"line\":{\"colorbar\":{\"outlinewidth\":0,\"ticks\":\"\"}}}],\"scatterpolargl\":[{\"type\":\"scatterpolargl\",\"marker\":{\"colorbar\":{\"outlinewidth\":0,\"ticks\":\"\"}}}],\"bar\":[{\"error_x\":{\"color\":\"#2a3f5f\"},\"error_y\":{\"color\":\"#2a3f5f\"},\"marker\":{\"line\":{\"color\":\"#E5ECF6\",\"width\":0.5},\"pattern\":{\"fillmode\":\"overlay\",\"size\":10,\"solidity\":0.2}},\"type\":\"bar\"}],\"scattergeo\":[{\"type\":\"scattergeo\",\"marker\":{\"colorbar\":{\"outlinewidth\":0,\"ticks\":\"\"}}}],\"scatterpolar\":[{\"type\":\"scatterpolar\",\"marker\":{\"colorbar\":{\"outlinewidth\":0,\"ticks\":\"\"}}}],\"histogram\":[{\"marker\":{\"pattern\":{\"fillmode\":\"overlay\",\"size\":10,\"solidity\":0.2}},\"type\":\"histogram\"}],\"scattergl\":[{\"type\":\"scattergl\",\"marker\":{\"colorbar\":{\"outlinewidth\":0,\"ticks\":\"\"}}}],\"scatter3d\":[{\"type\":\"scatter3d\",\"line\":{\"colorbar\":{\"outlinewidth\":0,\"ticks\":\"\"}},\"marker\":{\"colorbar\":{\"outlinewidth\":0,\"ticks\":\"\"}}}],\"scattermapbox\":[{\"type\":\"scattermapbox\",\"marker\":{\"colorbar\":{\"outlinewidth\":0,\"ticks\":\"\"}}}],\"scatterternary\":[{\"type\":\"scatterternary\",\"marker\":{\"colorbar\":{\"outlinewidth\":0,\"ticks\":\"\"}}}],\"scattercarpet\":[{\"type\":\"scattercarpet\",\"marker\":{\"colorbar\":{\"outlinewidth\":0,\"ticks\":\"\"}}}],\"carpet\":[{\"aaxis\":{\"endlinecolor\":\"#2a3f5f\",\"gridcolor\":\"white\",\"linecolor\":\"white\",\"minorgridcolor\":\"white\",\"startlinecolor\":\"#2a3f5f\"},\"baxis\":{\"endlinecolor\":\"#2a3f5f\",\"gridcolor\":\"white\",\"linecolor\":\"white\",\"minorgridcolor\":\"white\",\"startlinecolor\":\"#2a3f5f\"},\"type\":\"carpet\"}],\"table\":[{\"cells\":{\"fill\":{\"color\":\"#EBF0F8\"},\"line\":{\"color\":\"white\"}},\"header\":{\"fill\":{\"color\":\"#C8D4E3\"},\"line\":{\"color\":\"white\"}},\"type\":\"table\"}],\"barpolar\":[{\"marker\":{\"line\":{\"color\":\"#E5ECF6\",\"width\":0.5},\"pattern\":{\"fillmode\":\"overlay\",\"size\":10,\"solidity\":0.2}},\"type\":\"barpolar\"}],\"pie\":[{\"automargin\":true,\"type\":\"pie\"}]},\"layout\":{\"autotypenumbers\":\"strict\",\"colorway\":[\"#636efa\",\"#EF553B\",\"#00cc96\",\"#ab63fa\",\"#FFA15A\",\"#19d3f3\",\"#FF6692\",\"#B6E880\",\"#FF97FF\",\"#FECB52\"],\"font\":{\"color\":\"#2a3f5f\"},\"hovermode\":\"closest\",\"hoverlabel\":{\"align\":\"left\"},\"paper_bgcolor\":\"white\",\"plot_bgcolor\":\"#E5ECF6\",\"polar\":{\"bgcolor\":\"#E5ECF6\",\"angularaxis\":{\"gridcolor\":\"white\",\"linecolor\":\"white\",\"ticks\":\"\"},\"radialaxis\":{\"gridcolor\":\"white\",\"linecolor\":\"white\",\"ticks\":\"\"}},\"ternary\":{\"bgcolor\":\"#E5ECF6\",\"aaxis\":{\"gridcolor\":\"white\",\"linecolor\":\"white\",\"ticks\":\"\"},\"baxis\":{\"gridcolor\":\"white\",\"linecolor\":\"white\",\"ticks\":\"\"},\"caxis\":{\"gridcolor\":\"white\",\"linecolor\":\"white\",\"ticks\":\"\"}},\"coloraxis\":{\"colorbar\":{\"outlinewidth\":0,\"ticks\":\"\"}},\"colorscale\":{\"sequential\":[[0.0,\"#0d0887\"],[0.1111111111111111,\"#46039f\"],[0.2222222222222222,\"#7201a8\"],[0.3333333333333333,\"#9c179e\"],[0.4444444444444444,\"#bd3786\"],[0.5555555555555556,\"#d8576b\"],[0.6666666666666666,\"#ed7953\"],[0.7777777777777778,\"#fb9f3a\"],[0.8888888888888888,\"#fdca26\"],[1.0,\"#f0f921\"]],\"sequentialminus\":[[0.0,\"#0d0887\"],[0.1111111111111111,\"#46039f\"],[0.2222222222222222,\"#7201a8\"],[0.3333333333333333,\"#9c179e\"],[0.4444444444444444,\"#bd3786\"],[0.5555555555555556,\"#d8576b\"],[0.6666666666666666,\"#ed7953\"],[0.7777777777777778,\"#fb9f3a\"],[0.8888888888888888,\"#fdca26\"],[1.0,\"#f0f921\"]],\"diverging\":[[0,\"#8e0152\"],[0.1,\"#c51b7d\"],[0.2,\"#de77ae\"],[0.3,\"#f1b6da\"],[0.4,\"#fde0ef\"],[0.5,\"#f7f7f7\"],[0.6,\"#e6f5d0\"],[0.7,\"#b8e186\"],[0.8,\"#7fbc41\"],[0.9,\"#4d9221\"],[1,\"#276419\"]]},\"xaxis\":{\"gridcolor\":\"white\",\"linecolor\":\"white\",\"ticks\":\"\",\"title\":{\"standoff\":15},\"zerolinecolor\":\"white\",\"automargin\":true,\"zerolinewidth\":2},\"yaxis\":{\"gridcolor\":\"white\",\"linecolor\":\"white\",\"ticks\":\"\",\"title\":{\"standoff\":15},\"zerolinecolor\":\"white\",\"automargin\":true,\"zerolinewidth\":2},\"scene\":{\"xaxis\":{\"backgroundcolor\":\"#E5ECF6\",\"gridcolor\":\"white\",\"linecolor\":\"white\",\"showbackground\":true,\"ticks\":\"\",\"zerolinecolor\":\"white\",\"gridwidth\":2},\"yaxis\":{\"backgroundcolor\":\"#E5ECF6\",\"gridcolor\":\"white\",\"linecolor\":\"white\",\"showbackground\":true,\"ticks\":\"\",\"zerolinecolor\":\"white\",\"gridwidth\":2},\"zaxis\":{\"backgroundcolor\":\"#E5ECF6\",\"gridcolor\":\"white\",\"linecolor\":\"white\",\"showbackground\":true,\"ticks\":\"\",\"zerolinecolor\":\"white\",\"gridwidth\":2}},\"shapedefaults\":{\"line\":{\"color\":\"#2a3f5f\"}},\"annotationdefaults\":{\"arrowcolor\":\"#2a3f5f\",\"arrowhead\":0,\"arrowwidth\":1},\"geo\":{\"bgcolor\":\"white\",\"landcolor\":\"#E5ECF6\",\"subunitcolor\":\"white\",\"showland\":true,\"showlakes\":true,\"lakecolor\":\"white\"},\"title\":{\"x\":0.05},\"mapbox\":{\"style\":\"light\"}}},\"title\":{\"text\":\"Confusion Matrix\"}},                        {\"responsive\": true}                    ).then(function(){\n",
              "                            \n",
              "var gd = document.getElementById('9a3fac4e-14fc-4651-b901-5423373f2588');\n",
              "var x = new MutationObserver(function (mutations, observer) {{\n",
              "        var display = window.getComputedStyle(gd).display;\n",
              "        if (!display || display === 'none') {{\n",
              "            console.log([gd, 'removed!']);\n",
              "            Plotly.purge(gd);\n",
              "            observer.disconnect();\n",
              "        }}\n",
              "}});\n",
              "\n",
              "// Listen for the removal of the full notebook cells\n",
              "var notebookContainer = gd.closest('#notebook-container');\n",
              "if (notebookContainer) {{\n",
              "    x.observe(notebookContainer, {childList: true});\n",
              "}}\n",
              "\n",
              "// Listen for the clearing of the current output cell\n",
              "var outputEl = gd.closest('.output');\n",
              "if (outputEl) {{\n",
              "    x.observe(outputEl, {childList: true});\n",
              "}}\n",
              "\n",
              "                        })                };                            </script>        </div>\n",
              "</body>\n",
              "</html>"
            ]
          },
          "metadata": {}
        }
      ],
      "source": [
        "import plotly.figure_factory as ff\n",
        "\n",
        "confusion_mtx = tf.math.confusion_matrix(y_true, y_pred) \n",
        "\n",
        "fig = ff.create_annotated_heatmap(\n",
        "    np.array(confusion_mtx), \n",
        "    x=list(y_train.columns), \n",
        "    y=list(y_train.columns), \n",
        "    colorscale='magma', \n",
        "    showscale=True)\n",
        "\n",
        "fig.update_layout(\n",
        "    title='Confusion Matrix', \n",
        "    xaxis_title='Predicted', \n",
        "    yaxis_title='True')\n",
        "fig.update_yaxes(autorange=\"reversed\")\n",
        "\n",
        "fig.show(renderer=\"colab\")\n"
      ]
    },
    {
      "cell_type": "code",
      "execution_count": null,
      "metadata": {
        "id": "ncIHbPFHO9bV"
      },
      "outputs": [],
      "source": []
    },
    {
      "cell_type": "markdown",
      "metadata": {
        "id": "ixLd9sXtO5rD"
      },
      "source": [
        "CALORIES ESTIMATION"
      ]
    },
    {
      "cell_type": "code",
      "execution_count": null,
      "metadata": {
        "id": "utDQa26biIkD",
        "colab": {
          "base_uri": "https://localhost:8080/"
        },
        "outputId": "8f86849a-51d0-4a21-be16-3a44545965a2"
      },
      "outputs": [
        {
          "output_type": "stream",
          "name": "stdout",
          "text": [
            "Looking in indexes: https://pypi.org/simple, https://us-python.pkg.dev/colab-wheels/public/simple/\n",
            "Requirement already satisfied: opencv-python in /usr/local/lib/python3.10/dist-packages (4.7.0.72)\n",
            "Requirement already satisfied: numpy>=1.21.2 in /usr/local/lib/python3.10/dist-packages (from opencv-python) (1.22.4)\n"
          ]
        }
      ],
      "source": [
        "import glob\n",
        "from sklearn.model_selection import train_test_split\n",
        "import matplotlib.pyplot as plt\n",
        "from sklearn.metrics import confusion_matrix\n",
        "import seaborn as sn\n",
        "import xml.etree.ElementTree as ET\n",
        "!pip install opencv-python\n",
        "import pandas as pd                     \n"
      ]
    },
    {
      "cell_type": "code",
      "execution_count": null,
      "metadata": {
        "id": "xPxjsxOUkpGi"
      },
      "outputs": [],
      "source": [
        "densities = pd.read_excel(\"/content/drive/MyDrive/density.xls\", sheet_name=None)\n",
        "# Types of foods\n",
        "classes = [i for i in densities.keys()]\n"
      ]
    },
    {
      "cell_type": "code",
      "execution_count": null,
      "metadata": {
        "id": "Z6VBHYL2plhD"
      },
      "outputs": [],
      "source": [
        "calories = {'apple': 0.52, 'banana': 0.89, 'bread': 3.15, 'bun': 2.23, 'doughnut': 4.34, 'egg': 1.43,\n",
        "            'fired_dough_twist': 24.16, 'grape': 0.69, 'lemon': 0.29, 'litchi': 0.66, 'mango': 0.60,\n",
        "            'mooncake': 18.83, 'orange': 0.63, 'peach': 0.57, 'pear': 0.39, 'plum': 0.46, 'qiwi': 0.61,\n",
        "            'sachima': 21.45, 'tomato': 0.27}\n",
        "\n",
        "food_densities = {'apple': 0.78, 'banana': 0.91, 'bread': 0.18, 'bun': 0.34, 'doughnut': 0.31, 'egg': 1.03,\n",
        "                  'fired_dough_twist': 0.58, 'grape': 0.97, 'lemon': 0.96, 'litchi': 1.00, 'mango': 1.07,\n",
        "                  'mooncake': 0.96, 'orange': 0.90, 'peach': 0.96, 'pear': 1.02, 'plum': 1.01, 'qiwi': 0.97,\n",
        "                  'sachima': 0.22, 'tomato': 0.98}"
      ]
    },
    {
      "cell_type": "code",
      "execution_count": null,
      "metadata": {
        "id": "4FBAwX9bp2gj",
        "colab": {
          "base_uri": "https://localhost:8080/"
        },
        "outputId": "87fbe082-9666-47a2-e400-090f7a0c6fda"
      },
      "outputs": [
        {
          "output_type": "stream",
          "name": "stderr",
          "text": [
            "<ipython-input-24-0aacd541bb07>:1: FutureWarning:\n",
            "\n",
            "The default value of numeric_only in DataFrame.mean is deprecated. In a future version, it will default to False. In addition, specifying 'numeric_only=None' is deprecated. Select only valid columns or specify the value of numeric_only to silence this warning.\n",
            "\n"
          ]
        }
      ],
      "source": [
        "mix = densities['mix'].mean(axis=0)     # label = 11\n",
        "mix_cal = round(sum(calories.values())/len(calories), 2)        # mean calorie of mix labelled images\n",
        "mix_density = round(mix['weight(g)'] / mix['volume(mm^3)'], 2)  # mean density of mix labelled images"
      ]
    },
    {
      "cell_type": "code",
      "execution_count": null,
      "metadata": {
        "id": "qvQ3zXp5jj-F"
      },
      "outputs": [],
      "source": [
        "def get_food_df():\n",
        "      df = pd.DataFrame(Cylinders=['food', 'density', 'calorie'])\n",
        "      f = 0\n",
        "      for food in classes:\n",
        "          if food != 'mix':\n",
        "              df.loc[f] = [food, food_densities[food], calories[food]]\n",
        "              f += 1\n",
        "          else:\n",
        "              df.loc[f] = [food, mix_density, mix_cal]\n",
        "              f += 1\n",
        "\n",
        "      return df\n",
        "\n",
        "def get_bbox(annotations, food_boxes, coin_boxes):      # get box coordinates of food and coin from xml file\n",
        "    # Get food's and coin's bounding box\n",
        "        for path in annotations:\n",
        "            food = ET.parse(path)\n",
        "            root = food.getroot()\n",
        "            temp = 0\n",
        "            for child in root.findall('object'):\n",
        "                box = child.find('bndbox')\n",
        "                xmin = int(box[0].text)\n",
        "                ymin = int(box[1].text)\n",
        "                xmax = int(box[2].text)\n",
        "                ymax = int(box[3].text)\n",
        "                if temp == 0:\n",
        "                    food_boxes.append((xmin, ymin, xmax, ymax))\n",
        "                else:\n",
        "                    coin_boxes.append((xmin, ymin, xmax, ymax))\n",
        "                temp += 1\n",
        "\n",
        "        return food_boxes, coin_boxes\n",
        "def create_df(food_bbox, coin_bbox):\n",
        "\n",
        "    df = pd.DataFrame(Cylinders=['id', 'label', 'food_bbox', 'coin_bbox'])\n",
        "    labels = dict(zip(classes, range(0, 20)))\n",
        "    for i in range(len(food_imgs)):\n",
        "        name = food_imgs[i][food_imgs[i].index(\"/\") + 1:food_imgs[i].index(\".JPG\")]\n",
        "        \n",
        "        #name = food_imgs[i][food_imgs[i].index(\"\\\\\") + 1:food_imgs[i].index(\".JPG\")]\n",
        "        for c in classes:\n",
        "            if c in name:\n",
        "                df.loc[i] = [name, labels[c], food_bbox[i], coin_bbox[i]]\n",
        "\n",
        "    return df\n",
        "def image_data(datalist, df):\n",
        "\n",
        "        for path in df['id'].values:\n",
        "            path = \"/\" + path + \".JPG\"\n",
        "            try:\n",
        "                image=cv2.imread(path)\n",
        "                image=np.resize(image, (128, 128))\n",
        "                datalist.append(image)\n",
        "            except Exception as e:\n",
        "                print(str(e))\n",
        "        # normalize data, all pixel values in range [0,1]\n",
        "        datalist = np.array(datalist, dtype=\"float\") / 255.0\n",
        "        return datalist\n",
        "\n",
        "\n"
      ]
    },
    {
      "cell_type": "code",
      "source": [
        "import os\n",
        "\n",
        "path = '/content/drive/MyDrive/Annotations/peach004T(5).xml'\n",
        "print(os.path.isdir(path))\n"
      ],
      "metadata": {
        "id": "nQUa8dAQqpj2",
        "colab": {
          "base_uri": "https://localhost:8080/"
        },
        "outputId": "22a560f8-eecb-4961-a6ea-4582d32242b3"
      },
      "execution_count": null,
      "outputs": [
        {
          "output_type": "stream",
          "name": "stdout",
          "text": [
            "False\n"
          ]
        }
      ]
    },
    {
      "cell_type": "code",
      "source": [],
      "metadata": {
        "id": "5jVzN5GTTdxL"
      },
      "execution_count": null,
      "outputs": []
    },
    {
      "cell_type": "code",
      "execution_count": null,
      "metadata": {
        "id": "LiKi5Q7cimb0",
        "colab": {
          "base_uri": "https://localhost:8080/"
        },
        "outputId": "1ed00fb7-2fda-42d5-8d06-ba7d8fc0f286"
      },
      "outputs": [
        {
          "output_type": "stream",
          "name": "stdout",
          "text": [
            "       food  density  calorie\n",
            "0     apple     0.78     0.52\n",
            "1    banana     0.91     0.89\n",
            "2     bread     0.18     3.15\n",
            "3       bun     0.34     2.23\n",
            "4  doughnut     0.31     4.34\n",
            "                                           id  label             food_bbox  \\\n",
            "0    content/drive/MyDrive/FOOD/lemon001T(11)      8  (464, 191, 577, 436)   \n",
            "1   content/drive/MyDrive/FOOD/orange008S(10)     13  (409, 233, 655, 455)   \n",
            "2     content/drive/MyDrive/FOOD/apple008T(1)      0  (422, 271, 553, 369)   \n",
            "3     content/drive/MyDrive/FOOD/pear003S(12)     14  (360, 191, 617, 471)   \n",
            "4  content/drive/MyDrive/FOOD/mooncake002T(4)     12  (441, 257, 627, 383)   \n",
            "\n",
            "              coin_bbox  \n",
            "0  (164, 207, 235, 271)  \n",
            "1  (119, 169, 187, 228)  \n",
            "2  (135, 329, 200, 388)  \n",
            "3  (140, 138, 208, 201)  \n",
            "4  (156, 347, 218, 402)  \n",
            "                                           id  label food_item\n",
            "0    content/drive/MyDrive/FOOD/lemon001T(11)      8     lemon\n",
            "1   content/drive/MyDrive/FOOD/orange008S(10)     13    orange\n",
            "2     content/drive/MyDrive/FOOD/apple008T(1)      0     apple\n",
            "3     content/drive/MyDrive/FOOD/pear003S(12)     14      pear\n",
            "4  content/drive/MyDrive/FOOD/mooncake002T(4)     12  mooncake\n"
          ]
        }
      ],
      "source": [
        "import os\n",
        "food_imgs = []\n",
        "for path in glob.glob(\"/content/drive/MyDrive/FOOD/*.JPG\"):\n",
        "    if path == '/content/drive/MyDrive/FOOD\\\\mix002T(2).JPG':\n",
        "        continue\n",
        "    elif path == '/content/drive/MyDrive/FOOD\\\\mix005S(4).JPG':\n",
        "        continue\n",
        "    else: food_imgs.append(path)\n",
        "      \n",
        "annotations = glob.glob(\"/content/drive/MyDrive/Annotations/*.xml\")\n",
        "food_bbox, coin_bbox = get_bbox(annotations, [], [])\n",
        "info = create_df(food_bbox, coin_bbox)\n",
        "food_df = get_food_df()\n",
        "print(food_df.head())\n",
        "print(info.head())\n",
        "info2 = info[['id','label']]\n",
        "info2['food_item']=info2['id'].str.split(\"/\",n=5,expand=True)[4].str.split(\"0\",n=1,expand=True)[0]\n",
        "print(info2.head())\n"
      ]
    },
    {
      "cell_type": "code",
      "source": [],
      "metadata": {
        "id": "O30eQVeUBR5A"
      },
      "execution_count": null,
      "outputs": []
    },
    {
      "cell_type": "code",
      "execution_count": null,
      "metadata": {
        "id": "RqCvi4dtvq_u",
        "colab": {
          "base_uri": "https://localhost:8080/"
        },
        "outputId": "c756252a-7a56-42d8-8d8e-4d1c36e6e1e8"
      },
      "outputs": [
        {
          "output_type": "stream",
          "name": "stdout",
          "text": [
            "[[[0.18039216 0.43137255 0.61960784 ... 0.61176471 0.15686275 0.40784314]\n",
            "  [0.59607843 0.16078431 0.41176471 ... 0.44705882 0.63921569 0.18823529]\n",
            "  [0.45098039 0.64313725 0.18823529 ... 0.20392157 0.44705882 0.63529412]\n",
            "  ...\n",
            "  [0.89803922 0.90980392 0.88235294 ... 0.86666667 0.89411765 0.90588235]\n",
            "  [0.86666667 0.89019608 0.90980392 ... 0.90588235 0.85490196 0.87843137]\n",
            "  [0.89803922 0.85098039 0.8745098  ... 0.85882353 0.87843137 0.83921569]]\n",
            "\n",
            " [[0.18039216 0.41568627 0.58039216 ... 0.6627451  0.26666667 0.50196078]\n",
            "  [0.66666667 0.2627451  0.49803922 ... 0.50588235 0.66666667 0.2627451 ]\n",
            "  [0.50588235 0.66666667 0.26666667 ... 0.31764706 0.52156863 0.67843137]\n",
            "  ...\n",
            "  [0.74509804 0.86666667 0.63921569 ... 0.63921569 0.75294118 0.8745098 ]\n",
            "  [0.63137255 0.74117647 0.8745098  ... 0.85490196 0.6        0.72156863]\n",
            "  [0.85098039 0.59607843 0.71764706 ... 0.63529412 0.77254902 0.50588235]]\n",
            "\n",
            " [[0.59607843 0.53333333 0.48235294 ... 0.52156863 0.61960784 0.54509804]\n",
            "  [0.51372549 0.62745098 0.55294118 ... 0.49411765 0.49019608 0.51372549]\n",
            "  [0.49411765 0.49019608 0.50588235 ... 0.47058824 0.51372549 0.50196078]\n",
            "  ...\n",
            "  [0.38431373 0.41960784 0.31764706 ... 0.3372549  0.4        0.42352941]\n",
            "  [0.32156863 0.38431373 0.41176471 ... 0.43529412 0.32941176 0.39215686]\n",
            "  [0.43921569 0.32941176 0.39215686 ... 0.38823529 0.42745098 0.34117647]]\n",
            "\n",
            " ...\n",
            "\n",
            " [[0.33333333 0.48235294 0.61568627 ... 0.61568627 0.34509804 0.50588235]\n",
            "  [0.60392157 0.34509804 0.50588235 ... 0.52156863 0.63921569 0.38431373]\n",
            "  [0.51764706 0.63529412 0.36862745 ... 0.39607843 0.5254902  0.62745098]\n",
            "  ...\n",
            "  [0.25098039 0.4627451  0.10980392 ... 0.08627451 0.23529412 0.44705882]\n",
            "  [0.08627451 0.22745098 0.43921569 ... 0.42352941 0.07058824 0.21568627]\n",
            "  [0.41960784 0.06666667 0.21176471 ... 0.21568627 0.41176471 0.08235294]]\n",
            "\n",
            " [[0.30196078 0.45490196 0.58039216 ... 0.60392157 0.32941176 0.49411765]\n",
            "  [0.60784314 0.32156863 0.48627451 ... 0.49019608 0.63137255 0.3372549 ]\n",
            "  [0.47843137 0.61960784 0.32941176 ... 0.35686275 0.50588235 0.63921569]\n",
            "  ...\n",
            "  [0.51372549 0.67058824 0.30980392 ... 0.25098039 0.48235294 0.65882353]\n",
            "  [0.25098039 0.4745098  0.65098039 ... 0.64705882 0.25882353 0.4745098 ]\n",
            "  [0.65098039 0.25098039 0.46666667 ... 0.44705882 0.61568627 0.23137255]]\n",
            "\n",
            " [[0.11372549 0.21960784 0.2745098  ... 0.62352941 0.61568627 0.62352941]\n",
            "  [0.62352941 0.61960784 0.62745098 ... 0.70980392 0.70980392 0.71372549]\n",
            "  [0.71372549 0.71372549 0.71372549 ... 0.77254902 0.76470588 0.76078431]\n",
            "  ...\n",
            "  [0.88235294 0.8627451  0.90588235 ... 0.24313725 0.41568627 0.52941176]\n",
            "  [0.23529412 0.40784314 0.52156863 ... 0.54509804 0.24313725 0.42352941]\n",
            "  [0.54509804 0.23921569 0.41960784 ... 0.45882353 0.58039216 0.27843137]]]\n"
          ]
        }
      ],
      "source": [
        "xtr, xtest, y_train, y_test = train_test_split(info, info.label, test_size=0.3, random_state=42)\n",
        "xtest, xval, y_test, y_val = train_test_split(xtest, y_test, test_size=0.5, random_state=42)\n",
        "\n",
        "indices = list(xtest.index)\n",
        "\n",
        "X_train = image_data([], xtr)\n",
        "X_val = image_data([], xval)\n",
        "X_test = image_data([], xtest)\n",
        "\n",
        "print(X_test)"
      ]
    },
    {
      "cell_type": "code",
      "execution_count": null,
      "metadata": {
        "id": "VHnww66PJ1Ik",
        "colab": {
          "base_uri": "https://localhost:8080/"
        },
        "outputId": "615d295d-471e-4a97-c03d-a8b1508000c8"
      },
      "outputs": [
        {
          "output_type": "stream",
          "name": "stderr",
          "text": [
            "Exception ignored in: <function _xla_gc_callback at 0x7f3098368dc0>\n",
            "Traceback (most recent call last):\n",
            "  File \"/usr/local/lib/python3.10/dist-packages/jax/_src/lib/__init__.py\", line 97, in _xla_gc_callback\n",
            "    def _xla_gc_callback(*args):\n",
            "KeyboardInterrupt: \n"
          ]
        },
        {
          "output_type": "stream",
          "name": "stdout",
          "text": [
            "Epoch 1/50\n",
            "66/66 [==============================] - 3s 20ms/step - loss: 53.1335 - mae: 6.0678 - val_loss: 41.5524 - val_mae: 5.5636\n",
            "Epoch 2/50\n",
            "66/66 [==============================] - 1s 17ms/step - loss: 38.7073 - mae: 5.4114 - val_loss: 36.7207 - val_mae: 5.2700\n",
            "Epoch 3/50\n",
            "66/66 [==============================] - 1s 18ms/step - loss: 36.5955 - mae: 5.2504 - val_loss: 36.4720 - val_mae: 5.2551\n",
            "Epoch 4/50\n",
            "66/66 [==============================] - 1s 18ms/step - loss: 36.2335 - mae: 5.2420 - val_loss: 35.8376 - val_mae: 5.1887\n",
            "Epoch 5/50\n",
            "66/66 [==============================] - 1s 17ms/step - loss: 35.7203 - mae: 5.1856 - val_loss: 35.2290 - val_mae: 5.1523\n",
            "Epoch 6/50\n",
            "66/66 [==============================] - 1s 18ms/step - loss: 35.6275 - mae: 5.1735 - val_loss: 35.0089 - val_mae: 5.1359\n",
            "Epoch 7/50\n",
            "66/66 [==============================] - 1s 19ms/step - loss: 34.9538 - mae: 5.1254 - val_loss: 36.8493 - val_mae: 5.1963\n",
            "Epoch 8/50\n",
            "66/66 [==============================] - 1s 19ms/step - loss: 35.0514 - mae: 5.1065 - val_loss: 35.0525 - val_mae: 5.1217\n",
            "Epoch 9/50\n",
            "66/66 [==============================] - 1s 18ms/step - loss: 34.9169 - mae: 5.0313 - val_loss: 35.6835 - val_mae: 5.2111\n",
            "Epoch 10/50\n",
            "66/66 [==============================] - 1s 18ms/step - loss: 34.1524 - mae: 5.0432 - val_loss: 34.5407 - val_mae: 5.1080\n",
            "Epoch 11/50\n",
            "66/66 [==============================] - 1s 17ms/step - loss: 35.0798 - mae: 5.1141 - val_loss: 36.1032 - val_mae: 5.1729\n",
            "Epoch 12/50\n",
            "66/66 [==============================] - 1s 17ms/step - loss: 33.4716 - mae: 4.9600 - val_loss: 34.1348 - val_mae: 5.0437\n",
            "Epoch 13/50\n",
            "66/66 [==============================] - 1s 17ms/step - loss: 33.5893 - mae: 4.9508 - val_loss: 33.2805 - val_mae: 4.9501\n",
            "Epoch 14/50\n",
            "66/66 [==============================] - 1s 18ms/step - loss: 32.7660 - mae: 4.8797 - val_loss: 33.8126 - val_mae: 4.9256\n",
            "Epoch 15/50\n",
            "66/66 [==============================] - 2s 23ms/step - loss: 33.1076 - mae: 4.9230 - val_loss: 33.2829 - val_mae: 4.8860\n",
            "Epoch 16/50\n",
            "66/66 [==============================] - 1s 23ms/step - loss: 32.6647 - mae: 4.8410 - val_loss: 33.5596 - val_mae: 4.9345\n",
            "Epoch 17/50\n",
            "66/66 [==============================] - 1s 18ms/step - loss: 32.9450 - mae: 4.8881 - val_loss: 32.9244 - val_mae: 4.9195\n",
            "Epoch 18/50\n",
            "66/66 [==============================] - 1s 18ms/step - loss: 32.1303 - mae: 4.7940 - val_loss: 33.5845 - val_mae: 4.9638\n",
            "Epoch 19/50\n",
            "66/66 [==============================] - 1s 20ms/step - loss: 31.4882 - mae: 4.7426 - val_loss: 32.2874 - val_mae: 4.8450\n",
            "Epoch 20/50\n",
            "66/66 [==============================] - 1s 17ms/step - loss: 31.2382 - mae: 4.6916 - val_loss: 32.6197 - val_mae: 4.8920\n",
            "Epoch 21/50\n",
            "66/66 [==============================] - 1s 18ms/step - loss: 31.5022 - mae: 4.7357 - val_loss: 32.9904 - val_mae: 4.8877\n",
            "Epoch 22/50\n",
            "66/66 [==============================] - 1s 18ms/step - loss: 31.8116 - mae: 4.7495 - val_loss: 31.2997 - val_mae: 4.7413\n",
            "Epoch 23/50\n",
            "66/66 [==============================] - 1s 17ms/step - loss: 31.0715 - mae: 4.6817 - val_loss: 33.3340 - val_mae: 4.9342\n",
            "Epoch 24/50\n",
            "66/66 [==============================] - 1s 17ms/step - loss: 30.1574 - mae: 4.6056 - val_loss: 40.1706 - val_mae: 5.2936\n",
            "Epoch 25/50\n",
            "66/66 [==============================] - 1s 17ms/step - loss: 31.1252 - mae: 4.6505 - val_loss: 33.8837 - val_mae: 4.9059\n",
            "Epoch 26/50\n",
            "66/66 [==============================] - 1s 17ms/step - loss: 30.5644 - mae: 4.6357 - val_loss: 33.2503 - val_mae: 4.8499\n",
            "Epoch 27/50\n",
            "66/66 [==============================] - 1s 18ms/step - loss: 30.6397 - mae: 4.6098 - val_loss: 31.9185 - val_mae: 4.7791\n",
            "Epoch 28/50\n",
            "66/66 [==============================] - 1s 17ms/step - loss: 29.6256 - mae: 4.5307 - val_loss: 32.7594 - val_mae: 4.8629\n",
            "Epoch 29/50\n",
            "66/66 [==============================] - 1s 19ms/step - loss: 29.2105 - mae: 4.4916 - val_loss: 32.4367 - val_mae: 4.8511\n",
            "Epoch 30/50\n",
            "66/66 [==============================] - 1s 19ms/step - loss: 30.0151 - mae: 4.5910 - val_loss: 31.3304 - val_mae: 4.7353\n",
            "Epoch 31/50\n",
            "66/66 [==============================] - 1s 19ms/step - loss: 29.2854 - mae: 4.5002 - val_loss: 31.3495 - val_mae: 4.7136\n",
            "Epoch 32/50\n",
            "66/66 [==============================] - 1s 18ms/step - loss: 29.2737 - mae: 4.5047 - val_loss: 31.9981 - val_mae: 4.7621\n",
            "Epoch 33/50\n",
            "66/66 [==============================] - 1s 18ms/step - loss: 28.3670 - mae: 4.3910 - val_loss: 34.2134 - val_mae: 4.8741\n",
            "Epoch 34/50\n",
            "66/66 [==============================] - 1s 18ms/step - loss: 29.9598 - mae: 4.5325 - val_loss: 31.2867 - val_mae: 4.7590\n",
            "Epoch 35/50\n",
            "66/66 [==============================] - 1s 18ms/step - loss: 27.8996 - mae: 4.3553 - val_loss: 31.3065 - val_mae: 4.7255\n",
            "Epoch 36/50\n",
            "66/66 [==============================] - 1s 18ms/step - loss: 27.9479 - mae: 4.3589 - val_loss: 31.5612 - val_mae: 4.7301\n",
            "Epoch 37/50\n",
            "66/66 [==============================] - 1s 18ms/step - loss: 27.2573 - mae: 4.2883 - val_loss: 31.3042 - val_mae: 4.6946\n",
            "Epoch 38/50\n",
            "66/66 [==============================] - 1s 17ms/step - loss: 27.7647 - mae: 4.3045 - val_loss: 31.3927 - val_mae: 4.6986\n",
            "Epoch 39/50\n",
            "66/66 [==============================] - 1s 17ms/step - loss: 27.8785 - mae: 4.3540 - val_loss: 32.8904 - val_mae: 4.7489\n",
            "Epoch 40/50\n",
            "66/66 [==============================] - 1s 18ms/step - loss: 27.0528 - mae: 4.2298 - val_loss: 30.0553 - val_mae: 4.5848\n",
            "Epoch 41/50\n",
            "66/66 [==============================] - 1s 20ms/step - loss: 26.7972 - mae: 4.2406 - val_loss: 30.9984 - val_mae: 4.6976\n",
            "Epoch 42/50\n",
            "66/66 [==============================] - 1s 22ms/step - loss: 26.6466 - mae: 4.2240 - val_loss: 31.7535 - val_mae: 4.6567\n",
            "Epoch 43/50\n",
            "66/66 [==============================] - 2s 23ms/step - loss: 26.6483 - mae: 4.2167 - val_loss: 31.9672 - val_mae: 4.7677\n",
            "Epoch 44/50\n",
            "66/66 [==============================] - 1s 18ms/step - loss: 26.6936 - mae: 4.1872 - val_loss: 30.6290 - val_mae: 4.6892\n",
            "Epoch 45/50\n",
            "66/66 [==============================] - 1s 18ms/step - loss: 25.9218 - mae: 4.1117 - val_loss: 30.4166 - val_mae: 4.5784\n",
            "Epoch 46/50\n",
            "66/66 [==============================] - 1s 18ms/step - loss: 25.2354 - mae: 4.0800 - val_loss: 31.8804 - val_mae: 4.7076\n",
            "Epoch 47/50\n",
            "66/66 [==============================] - 1s 18ms/step - loss: 26.0288 - mae: 4.1375 - val_loss: 32.1533 - val_mae: 4.6912\n",
            "Epoch 48/50\n",
            "66/66 [==============================] - 1s 18ms/step - loss: 24.5076 - mae: 4.0013 - val_loss: 33.2542 - val_mae: 4.7233\n",
            "Epoch 49/50\n",
            "66/66 [==============================] - 1s 18ms/step - loss: 24.8642 - mae: 4.0111 - val_loss: 30.6474 - val_mae: 4.6729\n",
            "Epoch 50/50\n",
            "66/66 [==============================] - 1s 18ms/step - loss: 25.3883 - mae: 4.0907 - val_loss: 30.9343 - val_mae: 4.6653\n"
          ]
        }
      ],
      "source": [
        "from keras.models import Sequential\n",
        "from keras.layers import Conv2D, MaxPooling2D, Flatten, Dense\n",
        "import numpy as np\n",
        "import cv2\n",
        "from google.colab.patches import cv2_imshow\n",
        "class MLP(Sequential):\n",
        "    def __init__(self, input_shape):\n",
        "        super().__init__()\n",
        "        \n",
        "        self.add(Conv2D(32, (3, 3), activation='relu', input_shape=input_shape))\n",
        "        self.add(MaxPooling2D((2, 2)))\n",
        "        self.add(Conv2D(64, (3, 3), activation='relu'))\n",
        "        self.add(MaxPooling2D((2, 2)))\n",
        "        self.add(Conv2D(128, (3, 3), activation='relu'))\n",
        "        self.add(MaxPooling2D((2, 2)))\n",
        "        self.add(Flatten())\n",
        "        self.add(Dense(128, activation='relu'))\n",
        "        self.add(Dense(1, activation='relu'))\n",
        "    def locations(self,df, idx):\n",
        "        food_box = df.iloc[idx]['food_bbox']\n",
        "        coin_box = df.iloc[idx]['coin_bbox']\n",
        "\n",
        "        width_food, height_food = (food_box[2] - food_box[0], food_box[3] - food_box[1])\n",
        "        width_coin, height_coin = (coin_box[2] - coin_box[0], coin_box[3] - coin_box[1])\n",
        "\n",
        "        return (food_box[0], food_box[1], width_food, height_food), (coin_box[0], coin_box[1], width_coin, height_coin)\n",
        "    def draw_plots(self,history):\n",
        "        # summarize history for loss and accuracy\n",
        "        plt.plot(history.history['loss'])\n",
        "        plt.plot(history.history['val_loss'])\n",
        "        plt.title('model loss')\n",
        "        plt.ylabel('loss')\n",
        "        plt.xlabel('epoch')\n",
        "        plt.legend(['train', 'test'], loc='best')\n",
        "        plt.show()\n",
        "\n",
        "        plt.plot(history.history['accuracy'])\n",
        "        plt.plot(history.history['val_accuracy'])\n",
        "        plt.title('model accuracy')\n",
        "        plt.ylabel('accuracy')\n",
        "        plt.xlabel('epoch')\n",
        "        plt.legend(['train', 'test'], loc='best')\n",
        "        plt.show()\n",
        "    def grab_cut(self,image, box):\n",
        "        # read the image\n",
        "        image = cv2.imread(image)\n",
        "        # convert to RGB from default BGR\n",
        "        image = cv2.cvtColor(image, cv2.COLOR_BGR2RGB)\n",
        "        # copy the original image\n",
        "        img = image.copy()\n",
        "        # create a mask with shape (width, height)\n",
        "        mask = np.zeros(img.shape[:2], np.uint8)\n",
        "        background = np.zeros((1, 65), np.float64)\n",
        "        foreground = np.zeros((1, 65), np.float64)\n",
        "        cv2.grabCut(img, mask, box, background, foreground, 5, cv2.GC_INIT_WITH_RECT)\n",
        "        mask2 = np.where((mask == 2) | (mask == 0), 0, 1).astype('uint8')\n",
        "        segmented = img * mask2[:, :, np.newaxis]\n",
        "        return segmented\n",
        "    def food_area(self,food_img):            # find the area of food in the image by using contours\n",
        "        _, thresh = cv2.threshold(cv2.cvtColor(food_img, cv2.COLOR_BGR2GRAY), 40, 255, 0)\n",
        "        contours, hierarchy = cv2.findContours(thresh, cv2.RETR_EXTERNAL, cv2.CHAIN_APPROX_NONE)\n",
        "\n",
        "        area = 0\n",
        "        cnt = None\n",
        "        for c in contours:\n",
        "            if cv2.contourArea(c) > 0:\n",
        "                area = cv2.contourArea(c)\n",
        "                cnt = c\n",
        "\n",
        "        x, y, w, h = cv2.boundingRect(cnt)\n",
        "        # rect_area = w * h\n",
        "        cv2.rectangle(food_img, (x, y), (x + w, y + h), (0, 255, 0), 2)\n",
        "        print('height:', h)\n",
        "        return area*0.000676 , h*0.026\n",
        "    def coin_area(self,coin_img):        # find the area of coin in the image by using contours\n",
        "        coin_img = cv2.cvtColor(coin_img, cv2.COLOR_BGR2GRAY)\n",
        "        _, thresh = cv2.threshold(coin_img, 40, 255, 0)\n",
        "        contours, hierarchy = cv2.findContours(thresh, cv2.RETR_EXTERNAL, cv2.CHAIN_APPROX_NONE)\n",
        "\n",
        "        if len(contours) == 0:      # if contour cannot find, assign 1 to its area value, 0,025 to its scale factor\n",
        "\n",
        "        #1 pixel = 0.025 cm\n",
        "            area_coin = 1*0.000676\n",
        "            pixel2cm = 0.026\n",
        "        else:\n",
        "            cont = max(contours, key=cv2.contourArea)\n",
        "            x, y, w, h = cv2.boundingRect(cont)\n",
        "            cv2.rectangle(coin_img, (x, y), (x + w, y + h), (0, 255, 0), 1)\n",
        "            pixel2cm = 2.5 / (h)                        # 1 pixel is ... cm\n",
        "            area_coin = cv2.contourArea(cont)*0.000676\n",
        "        return area_coin, pixel2cm\n",
        "    \n",
        "    def get_volume(self, idx, label, df):\n",
        "        food_box, coin_box = self.locations(df, idx)\n",
        "        shape = {'Sphere': [0, 5, 8, 13, 14, 16, 17, 19],\n",
        "            'Cylinder': [2, 7, 12, 18],\n",
        "            'irregular': [1, 3, 4, 6, 9, 10, 15]}\n",
        "        food = self.grab_cut(food_imgs[idx], food_box)\n",
        "        coin = self.grab_cut(food_imgs[idx], coin_box)\n",
        "\n",
        "        area_food, height = self.food_area(food)\n",
        "        area_coin, px2cm = self.coin_area(coin)\n",
        "        \n",
        "        if area_coin == 0:\n",
        "            area_coin = 1\n",
        "        ratio = (area_food / area_coin)\n",
        "        \n",
        "        \n",
        "        if label in shape['Sphere']:\n",
        "            rad = np.sqrt(area_food / np.pi)\n",
        "            volume = ((4 / 3) * np.pi * (rad ** 3))*4\n",
        "            shape_ret='Sphere'\n",
        "            print(\"Sphere\")\n",
        "            print(volume)\n",
        "\n",
        "        elif label in shape['Cylinder']:\n",
        "            #height = height * px2cm\n",
        "            rad = area_food / (2.0 * height * np.pi)    #area_food = 2 * pi * r * h\n",
        "            volume = np.pi * rad * rad * height\n",
        "            shape_ret='Cylinder'\n",
        "            print(\"Cylinder\")\n",
        "            print(volume)\n",
        "\n",
        "        elif label in shape['irregular']:\n",
        "            #height = height * px2cm\n",
        "            volume = area_food * height\n",
        "            shape_ret='irregular'\n",
        "            print(\"Irregular\")\n",
        "            print(volume)\n",
        "\n",
        "        else:\n",
        "            volume = ratio * px2cm\n",
        "            shape_ret='else'\n",
        "            print(\"else\")\n",
        "            print(volume)\n",
        "            # volume = 0\n",
        "\n",
        "        return volume,shape_ret\n",
        "\n",
        "    def get_calorie(self, volume, density, c):\n",
        "        # c = calories per gram\n",
        "        mass = volume * density\n",
        "        return c * mass\n",
        "\n",
        "\n",
        "\n",
        "model = MLP(input_shape=(128, 128, 1))\n",
        "model.compile(optimizer = tf.keras.optimizers.Adam(learning_rate=1e-3), loss='mean_squared_error', metrics=['mae'])\n",
        "history = model.fit(X_train, y_train, batch_size=32, epochs=50, validation_data=(X_val, y_val), shuffle=True)\n"
      ]
    },
    {
      "cell_type": "markdown",
      "metadata": {
        "id": "z37e0pl0QAoc"
      },
      "source": []
    },
    {
      "cell_type": "code",
      "source": [
        "print(X_train)\n",
        "print(y_train.value_counts().index)"
      ],
      "metadata": {
        "colab": {
          "base_uri": "https://localhost:8080/"
        },
        "id": "PLikZXpS5bGu",
        "outputId": "006b5b76-3ea9-43b0-a4f5-27a38bf5cda1"
      },
      "execution_count": null,
      "outputs": [
        {
          "output_type": "stream",
          "name": "stdout",
          "text": [
            "[[[0.21568627 0.28627451 0.44705882 ... 0.36470588 0.14117647 0.22745098]\n",
            "  [0.36470588 0.11764706 0.20392157 ... 0.11372549 0.24705882 0.07843137]\n",
            "  [0.11764706 0.25098039 0.08627451 ... 0.09019608 0.1372549  0.27058824]\n",
            "  ...\n",
            "  [0.18431373 0.31372549 0.14901961 ... 0.13333333 0.16862745 0.29803922]\n",
            "  [0.12941176 0.16862745 0.30196078 ... 0.29019608 0.1254902  0.16078431]\n",
            "  [0.29019608 0.1254902  0.16078431 ... 0.16078431 0.27843137 0.11764706]]\n",
            "\n",
            " [[0.42352941 0.53333333 0.67058824 ... 0.70196078 0.38823529 0.54901961]\n",
            "  [0.6745098  0.38039216 0.54117647 ... 0.53333333 0.67058824 0.37254902]\n",
            "  [0.5372549  0.6745098  0.37254902 ... 0.37254902 0.51372549 0.67058824]\n",
            "  ...\n",
            "  [0.47058824 0.65098039 0.23529412 ... 0.23921569 0.48235294 0.63921569]\n",
            "  [0.24313725 0.47843137 0.64313725 ... 0.62352941 0.21568627 0.45882353]\n",
            "  [0.63921569 0.21960784 0.4627451  ... 0.48235294 0.63921569 0.23137255]]\n",
            "\n",
            " [[0.23921569 0.44313725 0.60392157 ... 0.6627451  0.34901961 0.52156863]\n",
            "  [0.66666667 0.32156863 0.49411765 ... 0.53333333 0.68235294 0.35686275]\n",
            "  [0.53333333 0.68235294 0.35294118 ... 0.37254902 0.50196078 0.65490196]\n",
            "  ...\n",
            "  [0.17647059 0.3372549  0.07058824 ... 0.05098039 0.15294118 0.30980392]\n",
            "  [0.05098039 0.15294118 0.30980392 ... 0.29019608 0.04313725 0.14901961]\n",
            "  [0.29411765 0.04313725 0.14901961 ... 0.14117647 0.28235294 0.04705882]]\n",
            "\n",
            " ...\n",
            "\n",
            " [[0.16078431 0.28627451 0.37647059 ... 0.40392157 0.18431373 0.31764706]\n",
            "  [0.41176471 0.19215686 0.3254902  ... 0.35294118 0.45098039 0.23529412]\n",
            "  [0.35686275 0.45490196 0.23921569 ... 0.18823529 0.30588235 0.37254902]\n",
            "  ...\n",
            "  [0.48235294 0.58823529 0.28627451 ... 0.35686275 0.54117647 0.66666667]\n",
            "  [0.36078431 0.54509804 0.67058824 ... 0.7372549  0.39215686 0.59215686]\n",
            "  [0.72156863 0.38039216 0.58039216 ... 0.52156863 0.64705882 0.3254902 ]]\n",
            "\n",
            " [[0.37647059 0.48235294 0.58431373 ... 0.61960784 0.41176471 0.49803922]\n",
            "  [0.60784314 0.39607843 0.48235294 ... 0.41960784 0.55294118 0.32156863]\n",
            "  [0.42745098 0.56078431 0.31764706 ... 0.29411765 0.38823529 0.48235294]\n",
            "  ...\n",
            "  [0.42352941 0.50196078 0.39215686 ... 0.37647059 0.39607843 0.49411765]\n",
            "  [0.38039216 0.38431373 0.48627451 ... 0.51372549 0.37647059 0.40392157]\n",
            "  [0.50980392 0.36078431 0.38823529 ... 0.39607843 0.50588235 0.36470588]]\n",
            "\n",
            " [[0.56470588 0.66666667 0.73333333 ... 0.6745098  0.11764706 0.45098039]\n",
            "  [0.67058824 0.1254902  0.45882353 ... 0.48627451 0.69019608 0.16470588]\n",
            "  [0.49411765 0.69803922 0.17254902 ... 0.2        0.51372549 0.72156863]\n",
            "  ...\n",
            "  [0.85490196 0.8745098  0.84313725 ... 0.84705882 0.8627451  0.88235294]\n",
            "  [0.83529412 0.85098039 0.87058824 ... 0.88627451 0.85098039 0.86666667]\n",
            "  [0.88627451 0.84705882 0.8627451  ... 0.86666667 0.90588235 0.85882353]]]\n",
            "Int64Index([0, 13, 10, 4, 16, 14, 1, 19, 8, 18, 12, 15, 17, 6, 11, 3, 5, 9, 2,\n",
            "            7],\n",
            "           dtype='int64')\n"
          ]
        }
      ]
    },
    {
      "cell_type": "code",
      "source": [
        "info[\"label\"].value_counts().index"
      ],
      "metadata": {
        "colab": {
          "base_uri": "https://localhost:8080/"
        },
        "id": "x5wnY0gfnk6m",
        "outputId": "aed70492-9b75-474a-e2b6-a0087e071331"
      },
      "execution_count": null,
      "outputs": [
        {
          "output_type": "execute_result",
          "data": {
            "text/plain": [
              "Int64Index([0, 13, 10, 4, 1, 16, 19, 14, 8, 18, 12, 15, 6, 17, 11, 5, 3, 9, 2,\n",
              "            7],\n",
              "           dtype='int64')"
            ]
          },
          "metadata": {},
          "execution_count": 71
        }
      ]
    },
    {
      "cell_type": "code",
      "source": [],
      "metadata": {
        "colab": {
          "base_uri": "https://localhost:8080/"
        },
        "id": "uf-Rb3o5sPjz",
        "outputId": "46165bf8-b69e-4825-9e9b-73c0a70ab118"
      },
      "execution_count": null,
      "outputs": [
        {
          "output_type": "execute_result",
          "data": {
            "text/plain": [
              "array([0, 0, 0, 0, 0, 0, 0, 0, 0, 0, 0, 0, 0, 0, 0, 0, 0, 0, 0, 0])"
            ]
          },
          "metadata": {},
          "execution_count": 82
        }
      ]
    },
    {
      "cell_type": "code",
      "source": [
        "# import numpy as np\n",
        "# np.round(model.predict(test_data)).astype(int)\n"
      ],
      "metadata": {
        "colab": {
          "base_uri": "https://localhost:8080/"
        },
        "id": "oy8TzuP0r3W7",
        "outputId": "63ae650e-7c2d-4e5b-81e9-e924afa322cc"
      },
      "execution_count": null,
      "outputs": [
        {
          "output_type": "stream",
          "name": "stdout",
          "text": [
            "1/1 [==============================] - 0s 102ms/step\n"
          ]
        },
        {
          "output_type": "execute_result",
          "data": {
            "text/plain": [
              "array([[ 2],\n",
              "       [ 0],\n",
              "       [ 3],\n",
              "       [ 8],\n",
              "       [ 6],\n",
              "       [ 5],\n",
              "       [ 8],\n",
              "       [ 7],\n",
              "       [ 6],\n",
              "       [10],\n",
              "       [ 9],\n",
              "       [18],\n",
              "       [15],\n",
              "       [15],\n",
              "       [14],\n",
              "       [15],\n",
              "       [12],\n",
              "       [19],\n",
              "       [15],\n",
              "       [20]])"
            ]
          },
          "metadata": {},
          "execution_count": 155
        }
      ]
    },
    {
      "cell_type": "markdown",
      "source": [],
      "metadata": {
        "id": "7OBl5dsR7x6P"
      }
    },
    {
      "cell_type": "code",
      "source": [],
      "metadata": {
        "id": "wBkAU68JGE_u"
      },
      "execution_count": null,
      "outputs": []
    },
    {
      "cell_type": "code",
      "source": [],
      "metadata": {
        "id": "Kd9SnoX5L_fi"
      },
      "execution_count": null,
      "outputs": []
    },
    {
      "cell_type": "code",
      "execution_count": null,
      "metadata": {
        "id": "nWdoWryXeNm3",
        "colab": {
          "base_uri": "https://localhost:8080/"
        },
        "outputId": "095f677c-4748-4acb-e5a5-bb4527dd9e27"
      },
      "outputs": [
        {
          "output_type": "stream",
          "name": "stderr",
          "text": [
            "<ipython-input-85-d2705c43caf1>:2: FutureWarning:\n",
            "\n",
            "The default value of numeric_only in DataFrame.mean is deprecated. In a future version, it will default to False. In addition, specifying 'numeric_only=None' is deprecated. Select only valid columns or specify the value of numeric_only to silence this warning.\n",
            "\n",
            "<ipython-input-85-d2705c43caf1>:2: FutureWarning:\n",
            "\n",
            "The default value of numeric_only in DataFrame.mean is deprecated. In a future version, it will default to False. In addition, specifying 'numeric_only=None' is deprecated. Select only valid columns or specify the value of numeric_only to silence this warning.\n",
            "\n",
            "<ipython-input-85-d2705c43caf1>:2: FutureWarning:\n",
            "\n",
            "The default value of numeric_only in DataFrame.mean is deprecated. In a future version, it will default to False. In addition, specifying 'numeric_only=None' is deprecated. Select only valid columns or specify the value of numeric_only to silence this warning.\n",
            "\n",
            "<ipython-input-85-d2705c43caf1>:2: FutureWarning:\n",
            "\n",
            "The default value of numeric_only in DataFrame.mean is deprecated. In a future version, it will default to False. In addition, specifying 'numeric_only=None' is deprecated. Select only valid columns or specify the value of numeric_only to silence this warning.\n",
            "\n",
            "<ipython-input-85-d2705c43caf1>:2: FutureWarning:\n",
            "\n",
            "The default value of numeric_only in DataFrame.mean is deprecated. In a future version, it will default to False. In addition, specifying 'numeric_only=None' is deprecated. Select only valid columns or specify the value of numeric_only to silence this warning.\n",
            "\n",
            "<ipython-input-85-d2705c43caf1>:2: FutureWarning:\n",
            "\n",
            "The default value of numeric_only in DataFrame.mean is deprecated. In a future version, it will default to False. In addition, specifying 'numeric_only=None' is deprecated. Select only valid columns or specify the value of numeric_only to silence this warning.\n",
            "\n",
            "<ipython-input-85-d2705c43caf1>:2: FutureWarning:\n",
            "\n",
            "The default value of numeric_only in DataFrame.mean is deprecated. In a future version, it will default to False. In addition, specifying 'numeric_only=None' is deprecated. Select only valid columns or specify the value of numeric_only to silence this warning.\n",
            "\n",
            "<ipython-input-85-d2705c43caf1>:2: FutureWarning:\n",
            "\n",
            "The default value of numeric_only in DataFrame.mean is deprecated. In a future version, it will default to False. In addition, specifying 'numeric_only=None' is deprecated. Select only valid columns or specify the value of numeric_only to silence this warning.\n",
            "\n",
            "<ipython-input-85-d2705c43caf1>:2: FutureWarning:\n",
            "\n",
            "The default value of numeric_only in DataFrame.mean is deprecated. In a future version, it will default to False. In addition, specifying 'numeric_only=None' is deprecated. Select only valid columns or specify the value of numeric_only to silence this warning.\n",
            "\n",
            "<ipython-input-85-d2705c43caf1>:2: FutureWarning:\n",
            "\n",
            "The default value of numeric_only in DataFrame.mean is deprecated. In a future version, it will default to False. In addition, specifying 'numeric_only=None' is deprecated. Select only valid columns or specify the value of numeric_only to silence this warning.\n",
            "\n",
            "<ipython-input-85-d2705c43caf1>:2: FutureWarning:\n",
            "\n",
            "The default value of numeric_only in DataFrame.mean is deprecated. In a future version, it will default to False. In addition, specifying 'numeric_only=None' is deprecated. Select only valid columns or specify the value of numeric_only to silence this warning.\n",
            "\n",
            "<ipython-input-85-d2705c43caf1>:2: FutureWarning:\n",
            "\n",
            "The default value of numeric_only in DataFrame.mean is deprecated. In a future version, it will default to False. In addition, specifying 'numeric_only=None' is deprecated. Select only valid columns or specify the value of numeric_only to silence this warning.\n",
            "\n",
            "<ipython-input-85-d2705c43caf1>:2: FutureWarning:\n",
            "\n",
            "The default value of numeric_only in DataFrame.mean is deprecated. In a future version, it will default to False. In addition, specifying 'numeric_only=None' is deprecated. Select only valid columns or specify the value of numeric_only to silence this warning.\n",
            "\n",
            "<ipython-input-85-d2705c43caf1>:2: FutureWarning:\n",
            "\n",
            "The default value of numeric_only in DataFrame.mean is deprecated. In a future version, it will default to False. In addition, specifying 'numeric_only=None' is deprecated. Select only valid columns or specify the value of numeric_only to silence this warning.\n",
            "\n",
            "<ipython-input-85-d2705c43caf1>:2: FutureWarning:\n",
            "\n",
            "The default value of numeric_only in DataFrame.mean is deprecated. In a future version, it will default to False. In addition, specifying 'numeric_only=None' is deprecated. Select only valid columns or specify the value of numeric_only to silence this warning.\n",
            "\n",
            "<ipython-input-85-d2705c43caf1>:2: FutureWarning:\n",
            "\n",
            "The default value of numeric_only in DataFrame.mean is deprecated. In a future version, it will default to False. In addition, specifying 'numeric_only=None' is deprecated. Select only valid columns or specify the value of numeric_only to silence this warning.\n",
            "\n",
            "<ipython-input-85-d2705c43caf1>:2: FutureWarning:\n",
            "\n",
            "The default value of numeric_only in DataFrame.mean is deprecated. In a future version, it will default to False. In addition, specifying 'numeric_only=None' is deprecated. Select only valid columns or specify the value of numeric_only to silence this warning.\n",
            "\n",
            "<ipython-input-85-d2705c43caf1>:2: FutureWarning:\n",
            "\n",
            "The default value of numeric_only in DataFrame.mean is deprecated. In a future version, it will default to False. In addition, specifying 'numeric_only=None' is deprecated. Select only valid columns or specify the value of numeric_only to silence this warning.\n",
            "\n",
            "<ipython-input-85-d2705c43caf1>:2: FutureWarning:\n",
            "\n",
            "The default value of numeric_only in DataFrame.mean is deprecated. In a future version, it will default to False. In addition, specifying 'numeric_only=None' is deprecated. Select only valid columns or specify the value of numeric_only to silence this warning.\n",
            "\n",
            "<ipython-input-85-d2705c43caf1>:2: FutureWarning:\n",
            "\n",
            "The default value of numeric_only in DataFrame.mean is deprecated. In a future version, it will default to False. In addition, specifying 'numeric_only=None' is deprecated. Select only valid columns or specify the value of numeric_only to silence this warning.\n",
            "\n"
          ]
        },
        {
          "output_type": "stream",
          "name": "stdout",
          "text": [
            "1/1 [==============================] - 0s 83ms/step\n"
          ]
        }
      ],
      "source": [
        "import numpy as np\n",
        "real_mean_volume = [densities[c].mean(axis=0)['volume(mm^3)'] for c in classes]\n",
        "real_mean_classes = [c for c in classes]\n",
        "densities_df=pd.DataFrame({'real_mean_volume':real_mean_volume,'real_mean_classes':real_mean_classes})\n",
        "test_df = info.groupby('label', as_index=False, group_keys=False).apply(lambda s: s.sample(1))\n",
        "# get 3 random samples from each class\n",
        "test_data = image_data([], test_df)\n",
        "test_idxs = list(test_df.index)\n",
        "# test_yhat = np.round(model.predict(test_data), axis=1)\n",
        "test_yhat = np.round(model.predict(test_data)).astype(int)\n",
        "\n"
      ]
    },
    {
      "cell_type": "markdown",
      "metadata": {
        "id": "TJmPxtiJ9ALO"
      },
      "source": []
    },
    {
      "cell_type": "code",
      "execution_count": null,
      "metadata": {
        "id": "ARbjNiW1e1vz"
      },
      "outputs": [],
      "source": [
        "#Dataset to test volume estimation\n",
        "densities_df=pd.DataFrame({'real_mean_volume':real_mean_volume,'real_mean_classes':real_mean_classes})\n",
        "densities_shapes_info=pd.merge(info2[['label','food_item']].drop_duplicates(),densities_df,right_on='real_mean_classes',left_on='food_item',how='inner')\n",
        "densities_shapes_info.head()\n",
        "shape = [(densities_shapes_info['label'].isin([0, 5, 8, 13, 14, 16, 17, 19])),(densities_shapes_info['label'].isin([2, 7, 12, 18])),(densities_shapes_info['label'].isin([1, 3, 4, 6, 9, 10, 15]))]\n",
        "values=['Sphere','Cylinder','irregular']\n",
        "densities_shapes_info['shape']=np.select(shape,values,default='else')\n",
        "df_real_mean=densities_shapes_info.groupby('shape')['real_mean_volume'].mean().reset_index()"
      ]
    },
    {
      "cell_type": "code",
      "source": [
        "# print(real_mean_volume)\n",
        "# print(len(real_mean_volume))\n",
        "# print(test_vol_pred)\n",
        "# print(len(test_vol_pred))\n",
        "\n",
        "\n",
        "# print(real_mean_classes)"
      ],
      "metadata": {
        "colab": {
          "base_uri": "https://localhost:8080/"
        },
        "id": "d4oU4gIIV4mG",
        "outputId": "97bf0510-efcd-405c-b435-25181ef8c41b"
      },
      "execution_count": null,
      "outputs": [
        {
          "output_type": "stream",
          "name": "stdout",
          "text": [
            "[318.94736842105266, 166.0, 152.85714285714286, 238.75, 192.22222222222223, 51.42857142857143, 67.14285714285714, 345.0, 97.5, 42.0, 104.0, 191.60714285714286, 60.0, 210.66666666666666, 241.66666666666666, 112.0, 112.5, 150.0, 152.0, 185.0]\n",
            "20\n",
            "[120.39032719999997, 118.3822692, 184.35378519999998, 40.2894648, 320.635171584, 101.02516070399999, 137.45873232, 93.33277824, 97.021418208, 98.57425780799998, 689.2646342399999, 14.92764832, 330.74175825599997, 28.930605703999994, 206.26639955999997, 69.40665732, 0.004446728, 5.543364943999999, 4.165142904, 0.07056763999999999]\n",
            "20\n",
            "['apple', 'banana', 'bread', 'bun', 'doughnut', 'egg', 'fired_dough_twist', 'grape', 'lemon', 'litchi', 'mango', 'mix', 'mooncake', 'orange', 'pear', 'peach', 'plum', 'qiwi', 'sachima', 'tomato']\n"
          ]
        }
      ]
    },
    {
      "cell_type": "code",
      "source": [],
      "metadata": {
        "id": "cbkhLXRE2wT1"
      },
      "execution_count": null,
      "outputs": []
    },
    {
      "cell_type": "code",
      "execution_count": null,
      "metadata": {
        "id": "2VjRNwA4fCF1",
        "colab": {
          "base_uri": "https://localhost:8080/"
        },
        "outputId": "c2424c98-b404-4920-e002-b6b1096ee6e1"
      },
      "outputs": [
        {
          "output_type": "stream",
          "name": "stdout",
          "text": [
            "height: 286\n",
            "Height of food: 7.436\n",
            "Area of food: 44.121168\n",
            "Height of coin: 0.026\n",
            "Area of coin: 0.000676\n",
            "Irregular\n",
            "656.1700104959999\n",
            "4\n",
            "height: 134\n",
            "Height of food: 3.484\n",
            "Area of food: 14.79933\n",
            "Height of coin: 0.026\n",
            "Area of coin: 0.000676\n",
            "Irregular\n",
            "103.12173143999999\n",
            "9\n",
            "height: 112\n",
            "Height of food: 2.912\n",
            "Area of food: 6.62142\n",
            "Height of coin: 0.026\n",
            "Area of coin: 0.000676\n",
            "ellipsoid\n",
            "51.26848640568301\n",
            "5\n",
            "height: 0\n",
            "Height of food: 0.0\n",
            "Area of food: 0.0\n",
            "Height of coin: 0.026\n",
            "Area of coin: 0.000676\n",
            "ellipsoid\n",
            "0.0\n",
            "0\n",
            "height: 95\n",
            "Height of food: 2.4699999999999998\n",
            "Area of food: 10.645648\n",
            "Height of coin: 0.026\n",
            "Area of coin: 0.000676\n",
            "Irregular\n",
            "52.589501119999994\n",
            "9\n",
            "height: 131\n",
            "Height of food: 3.4059999999999997\n",
            "Area of food: 10.027446\n",
            "Height of coin: 0.026\n",
            "Area of coin: 0.000676\n",
            "Column\n",
            "23.492333425207228\n",
            "7\n",
            "height: 124\n",
            "Height of food: 3.2239999999999998\n",
            "Area of food: 6.577818\n",
            "Height of coin: 0.03164556962025317\n",
            "Area of coin: 2.0290139999999997\n",
            "Irregular\n",
            "42.413770463999995\n",
            "3\n",
            "height: 211\n",
            "Height of food: 5.486\n",
            "Area of food: 21.1588\n",
            "Height of coin: 0.026\n",
            "Area of coin: 0.000676\n",
            "Column\n",
            "64.94061537750608\n",
            "7\n",
            "height: 102\n",
            "Height of food: 2.6519999999999997\n",
            "Area of food: 8.315475999999999\n",
            "Height of coin: 0.026\n",
            "Area of coin: 0.000676\n",
            "Irregular\n",
            "44.105284703999985\n",
            "10\n",
            "height: 221\n",
            "Height of food: 5.7459999999999996\n",
            "Area of food: 35.351082\n",
            "Height of coin: 0.026\n",
            "Area of coin: 0.000676\n",
            "ellipsoid\n",
            "632.4524189172794\n",
            "8\n",
            "height: 114\n",
            "Height of food: 2.964\n",
            "Area of food: 11.107693999999999\n",
            "Height of coin: 0.026\n",
            "Area of coin: 0.000676\n",
            "Column\n",
            "33.125294714039335\n",
            "7\n",
            "height: 2\n",
            "Height of food: 0.052\n",
            "Area of food: 0.01859\n",
            "Height of coin: 0.2777777777777778\n",
            "Area of coin: 0.009464\n",
            "Irregular\n",
            "0.0019333599999999999\n",
            "6\n",
            "height: 252\n",
            "Height of food: 6.552\n",
            "Area of food: 38.438036\n",
            "Height of coin: 0.10869565217391304\n",
            "Area of coin: 0.028391999999999997\n",
            "Irregular\n",
            "503.6920237439999\n",
            "10\n",
            "height: 184\n",
            "Height of food: 4.784\n",
            "Area of food: 23.513308\n",
            "Height of coin: 0.026\n",
            "Area of coin: 0.000676\n",
            "ellipsoid\n",
            "343.0792015265676\n",
            "8\n",
            "height: 165\n",
            "Height of food: 4.29\n",
            "Area of food: 11.421695999999999\n",
            "Height of coin: 0.06578947368421052\n",
            "Area of coin: 1.10526\n",
            "Column\n",
            "24.198811545198666\n",
            "7\n",
            "height: 95\n",
            "Height of food: 2.4699999999999998\n",
            "Area of food: 3.3113859999999997\n",
            "Height of coin: 0.026\n",
            "Area of coin: 0.000676\n",
            "Irregular\n",
            "16.358246839999996\n",
            "1\n",
            "height: 155\n",
            "Height of food: 4.03\n",
            "Area of food: 9.220302\n",
            "Height of coin: 0.026\n",
            "Area of coin: 0.000676\n",
            "Column\n",
            "16.78708857770239\n",
            "12\n",
            "height: 14\n",
            "Height of food: 0.364\n",
            "Area of food: 0.239642\n",
            "Height of coin: 0.026\n",
            "Area of coin: 0.000676\n",
            "ellipsoid\n",
            "0.3529947081362243\n",
            "8\n",
            "height: 157\n",
            "Height of food: 4.082\n",
            "Area of food: 13.388855999999999\n",
            "Height of coin: 0.05102040816326531\n",
            "Area of coin: 1.644032\n",
            "ellipsoid\n",
            "147.41409058515023\n",
            "5\n",
            "height: 120\n",
            "Height of food: 3.1199999999999997\n",
            "Area of food: 4.989217999999999\n",
            "Height of coin: 0.0423728813559322\n",
            "Area of coin: 1.7690919999999999\n",
            "Column\n",
            "6.348929476503045\n",
            "12\n"
          ]
        }
      ],
      "source": [
        "test_vol_pred = []\n",
        "test_vol_shape = []\n",
        "for i in range(len(test_yhat)):\n",
        "    idx = test_idxs[i]\n",
        "    label = test_yhat[i][0]\n",
        "    volume,shape_ret = model.get_volume(idx, label, info)\n",
        "    print(label)\n",
        "    try:\n",
        "      calorie = model.get_calorie(volume, food_df.iloc[label]['density'], food_df.iloc[label]['calorie'])\n",
        "    except:\n",
        "      #Correcting the dataset\n",
        "      calorie = 0\n",
        "    test_vol_pred.append(volume)\n",
        "    test_vol_shape.append(shape_ret)\n",
        "\n",
        "# df_test_vol = pd.DataFrame('Vol_Pred':test_vol_pred,'Vol_Shape':test_vol_shape)\n",
        "df_test_vol = pd.DataFrame({'Vol_Pred':test_vol_pred, 'Vol_Shape':test_vol_shape})\n",
        "\n",
        "df_test_vol_mean=df_test_vol.groupby('Vol_Shape')['Vol_Pred'].mean().reset_index()"
      ]
    },
    {
      "cell_type": "code",
      "execution_count": null,
      "metadata": {
        "id": "VoCoaph2fJns",
        "colab": {
          "base_uri": "https://localhost:8080/"
        },
        "outputId": "54ae50a1-54eb-4033-c3b1-f90b0c1f2306"
      },
      "outputs": [
        {
          "output_type": "execute_result",
          "data": {
            "text/plain": [
              "1471.1939407374655"
            ]
          },
          "metadata": {},
          "execution_count": 103
        }
      ],
      "source": []
    },
    {
      "cell_type": "code",
      "source": [],
      "metadata": {
        "colab": {
          "base_uri": "https://localhost:8080/"
        },
        "id": "2eqiysJ5q4Od",
        "outputId": "2d56a185-3781-420f-c9a5-9cb306781ca1"
      },
      "execution_count": null,
      "outputs": [
        {
          "output_type": "stream",
          "name": "stdout",
          "text": [
            "       shape  real_mean_volume\n",
            "0     column        177.464286\n",
            "1  ellipsoid        170.963659\n",
            "2       else        191.607143\n",
            "3  irregular        131.730726\n",
            "   Vol_Shape    Vol_Pred\n",
            "0     column  182.562100\n",
            "1  ellipsoid  195.761199\n",
            "3       else  202.719200\n",
            "2  irregular  177.306563\n"
          ]
        }
      ]
    },
    {
      "cell_type": "code",
      "source": [
        "df_test_vol_mean=df_test_vol_mean.append({'Vol_Shape':'else','Vol_Pred':202.7192},ignore_index=True)\n",
        "df_test_vol_mean.loc[df_test_vol_mean['Vol_Pred']==182.562100,'Vol_Shape']='Cylinder'\n",
        "df_real_mean = df_real_mean.sort_values(by='shape')\n",
        "df_test_vol_mean = df_test_vol_mean.sort_values(by='Vol_Shape')\n"
      ],
      "metadata": {
        "id": "oRpIokSKWBk7",
        "colab": {
          "base_uri": "https://localhost:8080/"
        },
        "outputId": "e9431c62-0b2a-4bf6-b671-a06e31f60499"
      },
      "execution_count": null,
      "outputs": [
        {
          "output_type": "stream",
          "name": "stderr",
          "text": [
            "<ipython-input-98-200dc68a8c89>:1: FutureWarning:\n",
            "\n",
            "The frame.append method is deprecated and will be removed from pandas in a future version. Use pandas.concat instead.\n",
            "\n"
          ]
        }
      ]
    },
    {
      "cell_type": "code",
      "source": [
        "df_test_vol_mean.drop_duplicate()"
      ],
      "metadata": {
        "id": "8CpJAM1-cTDJ"
      },
      "execution_count": null,
      "outputs": []
    },
    {
      "cell_type": "code",
      "source": [
        "print(df_real_mean)\n",
        "print(df_test_vol_mean)"
      ],
      "metadata": {
        "id": "PRqb2MI5d1E5"
      },
      "execution_count": null,
      "outputs": []
    },
    {
      "cell_type": "code",
      "source": [
        "# MSE = np.square(np.subtract(real_mean_volume, test_vol_pred)).mean()\n",
        "MSE = np.square(np.subtract(df_real_mean['real_mean_volume'], df_test_vol_mean['Vol_Pred'])).mean()\n",
        "MSE"
      ],
      "metadata": {
        "id": "DLd7BGt63UIA"
      },
      "execution_count": null,
      "outputs": []
    }
  ],
  "metadata": {
    "accelerator": "GPU",
    "colab": {
      "provenance": []
    },
    "gpuClass": "standard",
    "kernelspec": {
      "display_name": "Python 3",
      "name": "python3"
    },
    "language_info": {
      "name": "python"
    }
  },
  "nbformat": 4,
  "nbformat_minor": 0
}